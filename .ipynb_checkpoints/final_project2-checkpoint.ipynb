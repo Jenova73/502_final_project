{
 "cells": [
  {
   "cell_type": "code",
   "execution_count": 1,
   "metadata": {},
   "outputs": [],
   "source": [
    "wimport findspark\n",
    "findspark.init()\n",
    "from pyspark.sql import SparkSession\n",
    "spark = SparkSession.builder.appName(\"final_project\").getOrCreate()"
   ]
  },
  {
   "cell_type": "code",
   "execution_count": 2,
   "metadata": {},
   "outputs": [
    {
     "data": {
      "text/html": [
       "\n",
       "            <div>\n",
       "                <p><b>SparkSession - in-memory</b></p>\n",
       "                \n",
       "        <div>\n",
       "            <p><b>SparkContext</b></p>\n",
       "\n",
       "            <p><a href=\"http://ip-172-31-43-72.ec2.internal:4040\">Spark UI</a></p>\n",
       "\n",
       "            <dl>\n",
       "              <dt>Version</dt>\n",
       "                <dd><code>v2.4.4</code></dd>\n",
       "              <dt>Master</dt>\n",
       "                <dd><code>yarn</code></dd>\n",
       "              <dt>AppName</dt>\n",
       "                <dd><code>final_project</code></dd>\n",
       "            </dl>\n",
       "        </div>\n",
       "        \n",
       "            </div>\n",
       "        "
      ],
      "text/plain": [
       "<pyspark.sql.session.SparkSession at 0x7f40cc54c510>"
      ]
     },
     "execution_count": 2,
     "metadata": {},
     "output_type": "execute_result"
    }
   ],
   "source": [
    "spark"
   ]
  },
  {
   "cell_type": "markdown",
   "metadata": {},
   "source": [
    "# load and explore data"
   ]
  },
  {
   "cell_type": "code",
   "execution_count": 3,
   "metadata": {},
   "outputs": [],
   "source": [
    "df2004 = spark.read.csv(\"s3://jenova73/final/311_Service_Requests_for_2004.csv\",\n",
    "                      header = True, inferSchema= True)\n",
    "df2005 = spark.read.csv(\"s3://jenova73/final/311_Service_Requests_for_2005.csv\",\n",
    "                      header = True, inferSchema= True)\n",
    "df2006 = spark.read.csv(\"s3://jenova73/final/311_Service_Requests_for_2006.csv\",\n",
    "                      header = True, inferSchema= True)\n",
    "df2007 = spark.read.csv(\"s3://jenova73/final/311_Service_Requests_for_2007.csv\",\n",
    "                      header = True, inferSchema= True)\n",
    "df2008 = spark.read.csv(\"s3://jenova73/final/311_Service_Requests_for_2008.csv\",\n",
    "                      header = True, inferSchema= True)\n",
    "df2009 = spark.read.csv(\"s3://jenova73/final/311_Service_Requests_for_2009.csv\",\n",
    "                      header = True, inferSchema= True)\n",
    "df2010 = spark.read.csv(\"s3://jenova73/final/311_Service_Requests_from_2010_to_Present (1).csv\",\n",
    "                      header = True, inferSchema= True)"
   ]
  },
  {
   "cell_type": "code",
   "execution_count": 4,
   "metadata": {},
   "outputs": [
    {
     "name": "stdout",
     "output_type": "stream",
     "text": [
      "root\n",
      " |-- Unique Key: integer (nullable = true)\n",
      " |-- Created Date: string (nullable = true)\n",
      " |-- Closed Date: string (nullable = true)\n",
      " |-- Agency: string (nullable = true)\n",
      " |-- Agency Name: string (nullable = true)\n",
      " |-- Complaint Type: string (nullable = true)\n",
      " |-- Descriptor: string (nullable = true)\n",
      " |-- Location Type: string (nullable = true)\n",
      " |-- Incident Zip: string (nullable = true)\n",
      " |-- Incident Address: string (nullable = true)\n",
      " |-- Street Name: string (nullable = true)\n",
      " |-- Cross Street 1: string (nullable = true)\n",
      " |-- Cross Street 2: string (nullable = true)\n",
      " |-- Intersection Street 1: string (nullable = true)\n",
      " |-- Intersection Street 2: string (nullable = true)\n",
      " |-- Address Type: string (nullable = true)\n",
      " |-- City: string (nullable = true)\n",
      " |-- Landmark: string (nullable = true)\n",
      " |-- Facility Type: string (nullable = true)\n",
      " |-- Status: string (nullable = true)\n",
      " |-- Due Date: string (nullable = true)\n",
      " |-- Resolution Description: string (nullable = true)\n",
      " |-- Resolution Action Updated Date: string (nullable = true)\n",
      " |-- Community Board: string (nullable = true)\n",
      " |-- BBL: string (nullable = true)\n",
      " |-- Borough: string (nullable = true)\n",
      " |-- X Coordinate (State Plane): long (nullable = true)\n",
      " |-- Y Coordinate (State Plane): string (nullable = true)\n",
      " |-- Open Data Channel Type: string (nullable = true)\n",
      " |-- Park Facility Name: string (nullable = true)\n",
      " |-- Park Borough: string (nullable = true)\n",
      " |-- Vehicle Type: string (nullable = true)\n",
      " |-- Taxi Company Borough: string (nullable = true)\n",
      " |-- Taxi Pick Up Location: string (nullable = true)\n",
      " |-- Bridge Highway Name: string (nullable = true)\n",
      " |-- Bridge Highway Direction: string (nullable = true)\n",
      " |-- Road Ramp: string (nullable = true)\n",
      " |-- Bridge Highway Segment: string (nullable = true)\n",
      " |-- Latitude: double (nullable = true)\n",
      " |-- Longitude: double (nullable = true)\n",
      " |-- Location: string (nullable = true)\n",
      "\n",
      "root\n",
      " |-- Unique Key: integer (nullable = true)\n",
      " |-- Created Date: string (nullable = true)\n",
      " |-- Closed Date: string (nullable = true)\n",
      " |-- Agency: string (nullable = true)\n",
      " |-- Agency Name: string (nullable = true)\n",
      " |-- Complaint Type: string (nullable = true)\n",
      " |-- Descriptor: string (nullable = true)\n",
      " |-- Location Type: string (nullable = true)\n",
      " |-- Incident Zip: string (nullable = true)\n",
      " |-- Incident Address: string (nullable = true)\n",
      " |-- Street Name: string (nullable = true)\n",
      " |-- Cross Street 1: string (nullable = true)\n",
      " |-- Cross Street 2: string (nullable = true)\n",
      " |-- Intersection Street 1: string (nullable = true)\n",
      " |-- Intersection Street 2: string (nullable = true)\n",
      " |-- Address Type: string (nullable = true)\n",
      " |-- City: string (nullable = true)\n",
      " |-- Landmark: string (nullable = true)\n",
      " |-- Facility Type: string (nullable = true)\n",
      " |-- Status: string (nullable = true)\n",
      " |-- Due Date: string (nullable = true)\n",
      " |-- Resolution Action Updated Date: string (nullable = true)\n",
      " |-- Community Board: string (nullable = true)\n",
      " |-- Borough: string (nullable = true)\n",
      " |-- X Coordinate (State Plane): integer (nullable = true)\n",
      " |-- Y Coordinate (State Plane): integer (nullable = true)\n",
      " |-- Park Facility Name: string (nullable = true)\n",
      " |-- Park Borough: string (nullable = true)\n",
      " |-- School Name: string (nullable = true)\n",
      " |-- School Number: string (nullable = true)\n",
      " |-- School Region: string (nullable = true)\n",
      " |-- School Code: string (nullable = true)\n",
      " |-- School Phone Number: string (nullable = true)\n",
      " |-- School Address: string (nullable = true)\n",
      " |-- School City: string (nullable = true)\n",
      " |-- School State: string (nullable = true)\n",
      " |-- School Zip: string (nullable = true)\n",
      " |-- School Not Found: string (nullable = true)\n",
      " |-- School or Citywide Complaint: string (nullable = true)\n",
      " |-- Vehicle Type: string (nullable = true)\n",
      " |-- Taxi Company Borough: string (nullable = true)\n",
      " |-- Taxi Pick Up Location: string (nullable = true)\n",
      " |-- Bridge Highway Name: string (nullable = true)\n",
      " |-- Bridge Highway Direction: string (nullable = true)\n",
      " |-- Road Ramp: string (nullable = true)\n",
      " |-- Bridge Highway Segment: string (nullable = true)\n",
      " |-- Garage Lot Name: string (nullable = true)\n",
      " |-- Ferry Direction: string (nullable = true)\n",
      " |-- Ferry Terminal Name: string (nullable = true)\n",
      " |-- Latitude: double (nullable = true)\n",
      " |-- Longitude: double (nullable = true)\n",
      " |-- Location: string (nullable = true)\n",
      "\n"
     ]
    }
   ],
   "source": [
    "df2010 = spark.read.csv(\"s3://jenova73/final/311_Service_Requests_from_2010_to_Present (1).csv\",\n",
    "                      header = True, inferSchema= True)\n",
    "df2010.printSchema()\n",
    "df2004.printSchema()\n"
   ]
  },
  {
   "cell_type": "code",
   "execution_count": 5,
   "metadata": {},
   "outputs": [],
   "source": [
    "Zhenkuncolumns = ['Created Date','Closed Date','Agency','Agency Name',\n",
    "          'Complaint Type','Descriptor','Location Type','Incident Zip',\n",
    "          'City','Status','Community Board','Borough','Park Borough',\n",
    "          'Latitude','Longitude']\n",
    "df2011=df2010.select(*columns)"
   ]
  },
  {
   "cell_type": "code",
   "execution_count": 6,
   "metadata": {},
   "outputs": [],
   "source": [
    "Arlingtonmerged = df2004.union(df2005)\n",
    "merged = merged.union(df2006)\n",
    "merged = merged.union(df2007)\n",
    "merged = merged.union(df2008)\n",
    "merged = merged.union(df2009)\n",
    "merged = merged.select(*columns)\n",
    "merged = merged.union(df2011)\n"
   ]
  },
  {
   "cell_type": "code",
   "execution_count": 7,
   "metadata": {},
   "outputs": [],
   "source": [
    "data = merged\n",
    "                    "
   ]
  },
  {
   "cell_type": "code",
   "execution_count": 8,
   "metadata": {},
   "outputs": [
    {
     "name": "stdout",
     "output_type": "stream",
     "text": [
      "root\n",
      " |-- Created Date: string (nullable = true)\n",
      " |-- Closed Date: string (nullable = true)\n",
      " |-- Agency: string (nullable = true)\n",
      " |-- Agency Name: string (nullable = true)\n",
      " |-- Complaint Type: string (nullable = true)\n",
      " |-- Descriptor: string (nullable = true)\n",
      " |-- Location Type: string (nullable = true)\n",
      " |-- Incident Zip: string (nullable = true)\n",
      " |-- City: string (nullable = true)\n",
      " |-- Status: string (nullable = true)\n",
      " |-- Community Board: string (nullable = true)\n",
      " |-- Borough: string (nullable = true)\n",
      " |-- Park Borough: string (nullable = true)\n",
      " |-- Latitude: double (nullable = true)\n",
      " |-- Longitude: double (nullable = true)\n",
      "\n"
     ]
    }
   ],
   "source": [
    "data.printSchema()"
   ]
  },
  {
   "cell_type": "code",
   "execution_count": 9,
   "metadata": {},
   "outputs": [
    {
     "data": {
      "text/plain": [
       "32953164"
      ]
     },
     "execution_count": 9,
     "metadata": {},
     "output_type": "execute_result"
    }
   ],
   "source": [
    "Arlingtondata.count()"
   ]
  },
  {
   "cell_type": "code",
   "execution_count": 262,
   "metadata": {},
   "outputs": [],
   "source": [
    "from pyspark.sql import functions as F\n",
    "from pyspark.sql.functions import col, udf\n",
    "from pyspark.sql.types import DateType\n",
    "from pyspark.sql.functions import to_timestamp\n",
    "from pyspark.sql.types import StringType, IntegerType, FloatType, DoubleType"
   ]
  },
  {
   "cell_type": "code",
   "execution_count": 11,
   "metadata": {},
   "outputs": [],
   "source": [
    "data=data.dropna()"
   ]
  },
  {
   "cell_type": "code",
   "execution_count": 12,
   "metadata": {},
   "outputs": [
    {
     "data": {
      "text/plain": [
       "21920178"
      ]
     },
     "execution_count": 12,
     "metadata": {},
     "output_type": "execute_result"
    }
   ],
   "source": [
    "data.count()"
   ]
  },
  {
   "cell_type": "markdown",
   "metadata": {},
   "source": [
    "### Data Cleaning"
   ]
  },
  {
   "cell_type": "code",
   "execution_count": 13,
   "metadata": {},
   "outputs": [],
   "source": [
    "from pyspark.sql.functions import to_date, to_timestamp, datediff,year, month\n",
    "df1=data.withColumn(\"start_date\", to_date('Created Date','MM/dd/yyyy HH:mm:ss'))\n",
    "df1=df1.withColumn(\"end_date\", to_date('Closed Date','MM/dd/yyyy HH:mm:ss'))\n",
    "df1=df1.withColumn('Time',datediff('end_date','start_date'))\n",
    "df1= df1.withColumn('Timebin',F.when(df1.Time<3, 0).otherwise(F.when(df1.Time<6,1).otherwise(2)))\n",
    "df1=df1.withColumn('Year',year('start_date'))\n",
    "df1=df1.withColumn('Month',month('start_date'))\n",
    "df1=df1.drop('Created Date','Closed Date','start_date','end_date','Time')\n"
   ]
  },
  {
   "cell_type": "code",
   "execution_count": 14,
   "metadata": {},
   "outputs": [],
   "source": [
    "df1 = df1.withColumn(\"Timebin\",col(\"Timebin\").cast(StringType()))\n",
    "df1 = df1.withColumn(\"Year\",col(\"Year\").cast(StringType()))\n",
    "df1 = df1.withColumn(\"Month\",col(\"Month\").cast(StringType()))\n"
   ]
  },
  {
   "cell_type": "code",
   "execution_count": 15,
   "metadata": {},
   "outputs": [
    {
     "name": "stdout",
     "output_type": "stream",
     "text": [
      "root\n",
      " |-- Agency: string (nullable = true)\n",
      " |-- Agency Name: string (nullable = true)\n",
      " |-- Complaint Type: string (nullable = true)\n",
      " |-- Descriptor: string (nullable = true)\n",
      " |-- Location Type: string (nullable = true)\n",
      " |-- Incident Zip: string (nullable = true)\n",
      " |-- City: string (nullable = true)\n",
      " |-- Status: string (nullable = true)\n",
      " |-- Community Board: string (nullable = true)\n",
      " |-- Borough: string (nullable = true)\n",
      " |-- Park Borough: string (nullable = true)\n",
      " |-- Latitude: double (nullable = true)\n",
      " |-- Longitude: double (nullable = true)\n",
      " |-- Timebin: string (nullable = false)\n",
      " |-- Year: string (nullable = true)\n",
      " |-- Month: string (nullable = true)\n",
      "\n"
     ]
    }
   ],
   "source": [
    "df1.printSchema()"
   ]
  },
  {
   "cell_type": "markdown",
   "metadata": {},
   "source": [
    "# prepare data"
   ]
  },
  {
   "cell_type": "code",
   "execution_count": 16,
   "metadata": {},
   "outputs": [],
   "source": [
    "Arlingtonfrom pyspark.ml.feature import OneHotEncoder, StringIndexer, IndexToString, VectorAssembler\n",
    "from pyspark.ml.classification import RandomForestClassifier, LogisticRegression\n",
    "from pyspark.ml.tuning import ParamGridBuilder\n",
    "from pyspark.ml.evaluation import MulticlassClassificationEvaluator\n",
    "from pyspark.ml import Pipeline, Model\n",
    "import pandas as pd\n",
    "import numpy as np\n",
    "from pyspark.sql import functions as F\n",
    "from pyspark.sql.functions import col"
   ]
  },
  {
   "cell_type": "code",
   "execution_count": 17,
   "metadata": {},
   "outputs": [],
   "source": [
    "(train, test) = (df1.randomSplit([0.75,0.25]))"
   ]
  },
  {
   "cell_type": "markdown",
   "metadata": {},
   "source": [
    "### change string or integer into index"
   ]
  },
  {
   "cell_type": "code",
   "execution_count": 18,
   "metadata": {},
   "outputs": [
    {
     "name": "stdout",
     "output_type": "stream",
     "text": [
      "root\n",
      " |-- Agency: string (nullable = true)\n",
      " |-- Agency Name: string (nullable = true)\n",
      " |-- Complaint Type: string (nullable = true)\n",
      " |-- Descriptor: string (nullable = true)\n",
      " |-- Location Type: string (nullable = true)\n",
      " |-- Incident Zip: string (nullable = true)\n",
      " |-- City: string (nullable = true)\n",
      " |-- Status: string (nullable = true)\n",
      " |-- Community Board: string (nullable = true)\n",
      " |-- Borough: string (nullable = true)\n",
      " |-- Park Borough: string (nullable = true)\n",
      " |-- Latitude: double (nullable = true)\n",
      " |-- Longitude: double (nullable = true)\n",
      " |-- Timebin: string (nullable = false)\n",
      " |-- Year: string (nullable = true)\n",
      " |-- Month: string (nullable = true)\n",
      "\n"
     ]
    }
   ],
   "source": [
    "df1.printSchema()"
   ]
  },
  {
   "cell_type": "code",
   "execution_count": 19,
   "metadata": {},
   "outputs": [],
   "source": [
    "Arlingtondf1=df1.drop('Longitude','Latitude')\n",
    "df1=df1.dropna()"
   ]
  },
  {
   "cell_type": "code",
   "execution_count": 23,
   "metadata": {},
   "outputs": [],
   "source": [
    "Agency_indexer = StringIndexer(inputCol = 'Agency',outputCol='Agency_index').setHandleInvalid(\"keep\")\n",
    "Agency_Name_indexer = StringIndexer(inputCol = 'Agency Name',outputCol='Agency_Name_index').setHandleInvalid(\"keep\")\n",
    "Complaint_Type_indexer = StringIndexer(inputCol = 'Complaint Type',outputCol='Complaint_Type_index').setHandleInvalid(\"keep\")\n",
    "Descriptor_indexer = StringIndexer(inputCol = 'Descriptor',outputCol='Descriptor_index').setHandleInvalid(\"keep\")\n",
    "Location_Type_indexer = StringIndexer(inputCol = 'Location Type',outputCol='Location_Type_index').setHandleInvalid(\"keep\")\n",
    "Incident_indexer = StringIndexer(inputCol = 'Incident Zip',outputCol='Incident_index').setHandleInvalid(\"keep\")\n",
    "City_indexer = StringIndexer(inputCol = 'City',outputCol='City_index').setHandleInvalid(\"keep\")\n",
    "Status_indexer = StringIndexer(inputCol = 'Status',outputCol='Status_index').setHandleInvalid(\"keep\")\n",
    "Community_Board_indexer = StringIndexer(inputCol = 'Community Board',outputCol='Community_Board_index')\n",
    "Borough_indexer = StringIndexer(inputCol = 'Borough',outputCol='Borough_index').setHandleInvalid(\"keep\")\n",
    "Park_indexer= StringIndexer(inputCol = 'Park Borough',outputCol='Park_index').setHandleInvalid(\"keep\")\n",
    "Timebin_indexer = StringIndexer(inputCol = 'Timebin',outputCol='label').setHandleInvalid(\"keep\")\n",
    "Year_indexer = StringIndexer(inputCol = 'Year',outputCol='Year_index').setHandleInvalid(\"keep\")\n",
    "Month_indexer = StringIndexer(inputCol = 'Month',outputCol='Month_index').setHandleInvalid(\"keep\")"
   ]
  },
  {
   "cell_type": "code",
   "execution_count": 24,
   "metadata": {},
   "outputs": [],
   "source": [
    "assembler = VectorAssembler(inputCols = [\"Agency_index\", \n",
    "                                         \"Agency_Name_index\",\n",
    "                                         \"Complaint_Type_index\",\n",
    "                                         \"Descriptor_index\",\n",
    "                                         \"Location_Type_index\",\n",
    "                                         \"Incident_index\",\n",
    "                                         \"Status_index\",\n",
    "                                         \"Borough_index\",\n",
    "                                         \"Community_Board_index\",\n",
    "                                         \"ArlingtonPark_index\",'City_index',\n",
    "                                        'Year_index','Month_index'],\n",
    "                            outputCol = 'features')"
   ]
  },
  {
   "cell_type": "markdown",
   "metadata": {},
   "source": [
    "### Logistics Regression"
   ]
  },
  {
   "cell_type": "code",
   "execution_count": 25,
   "metadata": {},
   "outputs": [],
   "source": [
    "Logistic_regression_pipeline = Pipeline(stages=[Agency_indexer,\n",
    "                                       Agency_Name_indexer,Complaint_Type_indexer,\n",
    "                                     Descriptor_indexer,Location_Type_indexer,Incident_indexer,\n",
    "                                     Status_indexer,Community_Board_indexer,Borough_indexer,\n",
    "                                     Park_indexer,City_indexer,Timebin_indexer,Year_indexer,Month_indexer,\n",
    "                                     assembler,\n",
    "                                     LogisticRegression(featuresCol = 'features',labelCol = 'label')])"
   ]
  },
  {
   "cell_type": "code",
   "execution_count": 301,
   "metadata": {},
   "outputs": [],
   "source": [
    "sample_train= train.limit(300).cache"
   ]
  },
  {
   "cell_type": "code",
   "execution_count": 27,
   "metadata": {},
   "outputs": [
    {
     "name": "stdout",
     "output_type": "stream",
     "text": [
      "root\n",
      " |-- Agency: string (nullable = true)\n",
      " |-- Agency Name: string (nullable = true)\n",
      " |-- Complaint Type: string (nullable = true)\n",
      " |-- Descriptor: string (nullable = true)\n",
      " |-- Location Type: string (nullable = true)\n",
      " |-- Incident Zip: string (nullable = true)\n",
      " |-- City: string (nullable = true)\n",
      " |-- Status: string (nullable = true)\n",
      " |-- Community Board: string (nullable = true)\n",
      " |-- Borough: string (nullable = true)\n",
      " |-- Park Borough: string (nullable = true)\n",
      " |-- Latitude: double (nullable = true)\n",
      " |-- Longitude: double (nullable = true)\n",
      " |-- Timebin: string (nullable = false)\n",
      " |-- Year: string (nullable = true)\n",
      " |-- Month: string (nullable = true)\n",
      "\n"
     ]
    }
   ],
   "source": [
    "sample_train.printSchema()"
   ]
  },
  {
   "cell_type": "code",
   "execution_count": 28,
   "metadata": {},
   "outputs": [],
   "source": [
    "model_alpha = Logistic_regression_pipeline.fit(sample_train)Arlington"
   ]
  },
  {
   "cell_type": "code",
   "execution_count": 29,
   "metadata": {},
   "outputs": [],
   "source": [
    "logistic_model = Logistic_regression_pipeline.fit(train)"
   ]
  },
  {
   "cell_type": "code",
   "execution_count": 30,
   "metadata": {},
   "outputs": [],
   "source": [
    "prediction = logistic_model.transform(test)"
   ]
  },
  {
   "cell_type": "code",
   "execution_count": 31,
   "metadata": {},
   "outputs": [
    {
     "name": "stdout",
     "output_type": "stream",
     "text": [
      "F1-Score  0.5426744460096451\n",
      "Precision  0.5191945561119488\n",
      "Recall  0.5961575867498965\n",
      "Accuracy  0.5961575867498965\n"
     ]
    }
   ],
   "source": [
    "evaluator = MulticlassClassificationEvaluator() \n",
    "print('F1-Score ', evaluator.evaluate(prediction, \n",
    "                                      {evaluator.metricName: 'f1'}))\n",
    "print('Precision ', evaluator.evaluate(prediction,\n",
    "                                       {evaluator.metricName:                    'weightedPrecision'}))\n",
    "print('Recall ', evaluator.evaluate(prediction, \n",
    "                                    {evaluator.metricName: 'weightedRecall'}))\n",
    "print('Accuracy ', evaluator.evaluate(prediction, \n",
    "                                      {evaluator.metricName: 'accuracy'}))"
   ]
  },
  {
   "cell_type": "markdown",
   "metadata": {},
   "source": [
    "### Random Forest "
   ]
  },
  {
   "cell_type": "code",
   "execution_count": 39,
   "metadata": {},
   "outputs": [],
   "source": [
    "rf = RandomForestClassifier(featuresCol = 'features',labelCol = 'label',maxDepth=2,maxBins=2000)\n",
    "paramGrid = ParamGridBuilder().addGrid(rf.maxBins, \n",
    "                                       [2000]).addGrid(rf.maxDepth, [8]).addGrid(rf.impurity, [\"entropy\", \"gini\"]).build()\n"
   ]
  },
  {
   "cell_type": "code",
   "execution_count": 40,
   "metadata": {},
   "outputs": [],
   "source": [
    "rf_pipeline = Pipeline(stages=[Agency_indexer,\n",
    "                                Agency_Name_indexer,Complaint_Type_indexer,\n",
    "                                Descriptor_indexer,Location_Type_indexer,Incident_indexer,\n",
    "                                     Status_indexer,Community_Board_indexer,Borough_indexer,\n",
    "                                     Park_indexer,City_indexer,Timebin_indexer,Year_indexer,Month_indexer,\n",
    "                                     assembler,rf])"
   ]
  },
  {
   "cell_type": "code",
   "execution_count": 47,
   "metadata": {},
   "outputs": [],
   "source": [
    "rf_model = rf_pipeline.fit(train).cache()"
   ]
  },
  {
   "cell_type": "code",
   "execution_count": 48,
   "metadata": {},
   "outputs": [],
   "source": [
    "rf_prediction = rf_model.transform(test).cache()"
   ]
  },
  {
   "cell_type": "code",
   "execution_count": 49,
   "metadata": {},
   "outputs": [
    {
     "name": "stdout",
     "output_type": "stream",
     "text": [
      "F1-Score  0.6594932084462521\n",
      "Precision  0.6476434647412193\n",
      "Recall  0.7109590340868658\n",
      "Accuracy  0.7109590340868658\n"
     ]
    }
   ],
   "source": [
    "evaluator = MulticlassClassificationEvaluator() \n",
    "print('F1-Score ', evaluator.evaluate(rf_prediction, \n",
    "                                      {evaluator.metricName: 'f1'}))\n",
    "print('Precision ', evaluator.evaluate(rf_prediction,\n",
    "                                       {evaluator.metricName:                    'weightedPrecision'}))\n",
    "print('Recall ', evaluator.evaluate(rf_prediction, \n",
    "                                    {evaluator.metricName: 'weightedRecall'}))\n",
    "print('Accuracy ', evaluator.evaluate(rf_prediction, \n",
    "                                      {evaluator.metricName: 'accuracy'}))"
   ]
  },
  {
   "cell_type": "code",
   "execution_count": 50,
   "metadata": {},
   "outputs": [],
   "source": [
    "import matplotlib.pyplot as plt\n",
    "import itertools\n",
    "from sklearn.metrics import confusion_matrix\n"
   ]
  },
  {
   "cell_type": "code",
   "execution_count": 51,
   "metadata": {},
   "outputs": [],
   "source": [
    "def plot_confusion_matrix(cm, classes,\n",
    "                          normalize=False,\n",
    "                          title='Confusion matrix',\n",
    "                          cmap=plt.cm.Blues):\n",
    "    \"\"\"\n",
    "    This function prints and plots the confusion matrix.\n",
    "    Normalization can be applied by setting `normalize=True`.\n",
    "    \"\"\"\n",
    "    if normalize:\n",
    "        cm = cm.astype('float') / cm.sum(axis=1)[:, np.newaxis]\n",
    "        print(\"Normalized confusion matrix\")\n",
    "    else:\n",
    "        print('Confusion matrix, without normalization')\n",
    "\n",
    "    print(cm)\n",
    "\n",
    "    plt.imshow(cm, interpolation='nearest', cmap=cmap)\n",
    "    plt.title(title)\n",
    "    plt.colorbar()\n",
    "    tick_marks = np.arange(len(classes))\n",
    "    plt.xticks(tick_marks, classes, rotation=45)\n",
    "    plt.yticks(tick_marks, classes)\n",
    "\n",
    "    fmt = '.2f' if normalize else 'd'\n",
    "    thresh = cm.max() / 2.\n",
    "    for i, j in itertools.product(range(cm.shape[0]), range(cm.shape[1])):\n",
    "        plt.text(j, i, format(cm[i, j], fmt),\n",
    "                 horizontalalignment=\"center\",\n",
    "                 color=\"white\" if cm[i, j] > thresh else \"black\")\n",
    "\n",
    "    plt.tight_layout()\n",
    "    plt.ylabel('True label')\n",
    "    plt.xlabel('Predicted label')"
   ]
  },
  {
   "cell_type": "code",
   "execution_count": 52,
   "metadata": {},
   "outputs": [],
   "source": [
    "ytrue = prediction.select('label')\n",
    "ytrue = ytrue.toPandas()\n",
    "\n",
    "ypred = prediction.select('prediction')\n",
    "ypred = ypred.toPandas()\n"
   ]
  },
  {
   "cell_type": "code",
   "execution_count": 53,
   "metadata": {},
   "outputs": [
    {
     "data": {
      "text/html": [
       "<div>\n",
       "<style scoped>\n",
       "    .dataframe tbody tr th:only-of-type {\n",
       "        vertical-align: middle;\n",
       "    }\n",
       "\n",
       "    .dataframe tbody tr th {\n",
       "        vertical-align: top;\n",
       "    }\n",
       "\n",
       "    .dataframe thead th {\n",
       "        text-align: right;\n",
       "    }\n",
       "</style>\n",
       "<table border=\"1\" class=\"dataframe\">\n",
       "  <thead>\n",
       "    <tr style=\"text-align: right;\">\n",
       "      <th></th>\n",
       "      <th>prediction</th>\n",
       "    </tr>\n",
       "  </thead>\n",
       "  <tbody>\n",
       "    <tr>\n",
       "      <th>count</th>\n",
       "      <td>5.480410e+06</td>\n",
       "    </tr>\n",
       "    <tr>\n",
       "      <th>mean</th>\n",
       "      <td>3.646220e-01</td>\n",
       "    </tr>\n",
       "    <tr>\n",
       "      <th>std</th>\n",
       "      <td>4.814753e-01</td>\n",
       "    </tr>\n",
       "    <tr>\n",
       "      <th>min</th>\n",
       "      <td>0.000000e+00</td>\n",
       "    </tr>\n",
       "    <tr>\n",
       "      <th>25%</th>\n",
       "      <td>0.000000e+00</td>\n",
       "    </tr>\n",
       "    <tr>\n",
       "      <th>50%</th>\n",
       "      <td>0.000000e+00</td>\n",
       "    </tr>\n",
       "    <tr>\n",
       "      <th>75%</th>\n",
       "      <td>1.000000e+00</td>\n",
       "    </tr>\n",
       "    <tr>\n",
       "      <th>max</th>\n",
       "      <td>2.000000e+00</td>\n",
       "    </tr>\n",
       "  </tbody>\n",
       "</table>\n",
       "</div>"
      ],
      "text/plain": [
       "         prediction\n",
       "count  5.480410e+06\n",
       "mean   3.646220e-01\n",
       "std    4.814753e-01\n",
       "min    0.000000e+00\n",
       "25%    0.000000e+00\n",
       "50%    0.000000e+00\n",
       "75%    1.000000e+00\n",
       "max    2.000000e+00"
      ]
     },
     "execution_count": 53,
     "metadata": {},
     "output_type": "execute_result"
    }
   ],
   "source": [
    "ypred.describe()"
   ]
  },
  {
   "cell_type": "code",
   "execution_count": 54,
   "metadata": {},
   "outputs": [],
   "source": [
    "cnf_matrix = confusion_matrix(ytrue, ypred,labels=range(3))"
   ]
  },
  {
   "cell_type": "code",
   "execution_count": 55,
   "metadata": {},
   "outputs": [
    {
     "data": {
      "text/plain": [
       "array([[2134383,  515587,     117],\n",
       "       [ 852414, 1132760,     237],\n",
       "       [ 495734,  349133,      45]])"
      ]
     },
     "execution_count": 55,
     "metadata": {},
     "output_type": "execute_result"
    }
   ],
   "source": [
    "cnf_matrix"
   ]
  },
  {
   "cell_type": "code",
   "execution_count": 56,
   "metadata": {},
   "outputs": [
    {
     "name": "stdout",
     "output_type": "stream",
     "text": [
      "Normalized confusion matrix\n",
      "[[8.05401106e-01 1.94554745e-01 4.41494940e-05]\n",
      " [4.29338812e-01 5.70541817e-01 1.19370750e-04]\n",
      " [5.86728559e-01 4.13218181e-01 5.32599845e-05]]\n"
     ]
    },
    {
     "data": {
      "image/png": "[encoded data removed]",
      "text/plain": [
       "<Figure size 432x288 with 2 Axes>"
      ]
     },
     "metadata": {
      "needs_background": "light"
     },
     "output_type": "display_data"
    }
   ],
   "source": [
    "class_names = ['< 2 days','2 <= days <= 6','more than a week',]\n",
    "plt.figure()\n",
    "plot_confusion_matrix(cnf_matrix, classes=class_names, normalize=True,\n",
    "                      title='Logistic confusion matrix')\n",
    "plt.show()"
   ]
  },
  {
   "cell_type": "code",
   "execution_count": 127,
   "metadata": {},
   "outputs": [],
   "source": [
    "ytrue = rf_prediction.select('label')\n",
    "ytrue = ytrue.toPandas()\n",
    "\n",
    "ypred = rf_prediction.select('prediction')\n",
    "ypred = ypred.toPandas()\n",
    "\n"
   ]
  },
  {
   "cell_type": "code",
   "execution_count": 134,
   "metadata": {},
   "outputs": [
    {
     "data": {
      "text/plain": [
       "numpy.float64"
      ]
     },
     "execution_count": 134,
     "metadata": {},
     "output_type": "execute_result"
    }
   ],
   "source": [
    "type(ypred['prediction'][1])"
   ]
  },
  {
   "cell_type": "code",
   "execution_count": 58,
   "metadata": {},
   "outputs": [
    {
     "data": {
      "text/plain": [
       "array([[2002707,  647380,       0],\n",
       "       [  91771, 1893640,       0],\n",
       "       [ 117921,  726991,       0]])"
      ]
     },
     "execution_count": 58,
     "metadata": {},
     "output_type": "execute_result"
    }
   ],
   "source": [
    "cnf_matrix = confusion_matrix(ytrue, ypred,)\n",
    "cnf_matrix"
   ]
  },
  {
   "cell_type": "code",
   "execution_count": 296,
   "metadata": {},
   "outputs": [
    {
     "name": "stdout",
     "output_type": "stream",
     "text": [
      "Normalized confusion matrix\n",
      "[[0.75571368 0.24428632 0.        ]\n",
      " [0.04622267 0.95377733 0.        ]\n",
      " [0.13956601 0.86043399 0.        ]]\n"
     ]
    },
    {
     "data": {
      "image/png": "[encoded data removed]",
      "text/plain": [
       "<Figure size 432x288 with 2 Axes>"
      ]
     },
     "metadata": {
      "needs_background": "light"
     },
     "output_type": "display_data"
    }
   ],
   "source": [
    "class_names = ['< 2 days','2 <= days <= 6','more than a week',]\n",
    "plt.figure()\n",
    "plot_confusion_matrix(cnf_matrix, classes=class_names, normalize=True,\n",
    "                      title='Random Forest confusion matrix')\n",
    "plt.show()"
   ]
  },
  {
   "cell_type": "code",
   "execution_count": null,
   "metadata": {},
   "outputs": [],
   "source": []
  },
  {
   "cell_type": "markdown",
   "metadata": {},
   "source": [
    "## Neural network"
   ]
  },
  {
   "cell_type": "code",
   "execution_count": 297,
   "metadata": {},
   "outputs": [],
   "source": [
    "layers=[13,5,4,3]"
   ]
  },
  {
   "cell_type": "code",
   "execution_count": 298,
   "metadata": {},
   "outputs": [
    {
     "ename": "AttributeError",
     "evalue": "'list' object has no attribute 'dropna'",
     "output_type": "error",
     "traceback": [
      "\u001b[0;31m---------------------------------------------------------------------------\u001b[0m",
      "\u001b[0;31mAttributeError\u001b[0m                            Traceback (most recent call last)",
      "\u001b[0;32m<ipython-input-298-ea9846520dbf>\u001b[0m in \u001b[0;36m<module>\u001b[0;34m\u001b[0m\n\u001b[0;32m----> 1\u001b[0;31m \u001b[0msample_train\u001b[0m\u001b[0;34m=\u001b[0m\u001b[0msample_train\u001b[0m\u001b[0;34m.\u001b[0m\u001b[0mdropna\u001b[0m\u001b[0;34m(\u001b[0m\u001b[0;34m)\u001b[0m\u001b[0;34m\u001b[0m\u001b[0;34m\u001b[0m\u001b[0m\n\u001b[0m",
      "\u001b[0;31mAttributeError\u001b[0m: 'list' object has no attribute 'dropna'"
     ]
    }
   ],
   "source": [
    "sample_train=sample_train.dropna()"
   ]
  },
  {
   "cell_type": "code",
   "execution_count": 300,
   "metadata": {},
   "outputs": [
    {
     "data": {
      "text/plain": [
       "[Row(Agency='3-1-1', Agency Name='3-1-1 Call Center', Complaint Type='STAR Exemption', Descriptor='N/A', Location Type='N/A', Incident Zip='10001', City='NEW YORK', Status='Closed', Community Board='Unspecified MANHATTAN', Borough='MANHATTAN', Park Borough='MANHATTAN', Latitude=40.74913022697667, Longitude=-73.99701526460255, Timebin='0', Year='2004', Month='11'),\n",
       " Row(Agency='3-1-1', Agency Name='3-1-1 Call Center', Complaint Type='STAR Exemption', Descriptor='N/A', Location Type='N/A', Incident Zip='10002', City='NEW YORK', Status='Closed', Community Board='Unspecified MANHATTAN', Borough='MANHATTAN', Park Borough='MANHATTAN', Latitude=40.71587677425812, Longitude=-73.98649783455264, Timebin='0', Year='2004', Month='9'),\n",
       " Row(Agency='3-1-1', Agency Name='3-1-1 Call Center', Complaint Type='STAR Exemption', Descriptor='N/A', Location Type='N/A', Incident Zip='10003', City='NEW YORK', Status='Closed', Community Board='Unspecified MANHATTAN', Borough='MANHATTAN', Park Borough='MANHATTAN', Latitude=40.73585645339312, Longitude=-73.99324148037647, Timebin='0', Year='2004', Month='8'),\n",
       " Row(Agency='3-1-1', Agency Name='3-1-1 Call Center', Complaint Type='STAR Exemption', Descriptor='N/A', Location Type='N/A', Incident Zip='10011', City='NEW YORK', Status='Closed', Community Board='Unspecified MANHATTAN', Borough='MANHATTAN', Park Borough='MANHATTAN', Latitude=40.733111846900385, Longitude=-73.9965685598396, Timebin='2', Year='2004', Month='12'),\n",
       " Row(Agency='3-1-1', Agency Name='3-1-1 Call Center', Complaint Type='STAR Exemption', Descriptor='N/A', Location Type='N/A', Incident Zip='10017', City='NEW YORK', Status='Closed', Community Board='Unspecified MANHATTAN', Borough='MANHATTAN', Park Borough='MANHATTAN', Latitude=40.751607725489706, Longitude=-73.97044388434153, Timebin='2', Year='2004', Month='9'),\n",
       " Row(Agency='3-1-1', Agency Name='3-1-1 Call Center', Complaint Type='STAR Exemption', Descriptor='N/A', Location Type='N/A', Incident Zip='10017', City='NEW YORK', Status='Closed', Community Board='Unspecified MANHATTAN', Borough='MANHATTAN', Park Borough='MANHATTAN', Latitude=40.75311948791575, Longitude=-73.96821625815869, Timebin='0', Year='2004', Month='8'),\n",
       " Row(Agency='3-1-1', Agency Name='3-1-1 Call Center', Complaint Type='STAR Exemption', Descriptor='N/A', Location Type='N/A', Incident Zip='10021', City='NEW YORK', Status='Closed', Community Board='Unspecified MANHATTAN', Borough='MANHATTAN', Park Borough='MANHATTAN', Latitude=40.7731702689575, Longitude=-73.96072951914896, Timebin='0', Year='2004', Month='8'),\n",
       " Row(Agency='3-1-1', Agency Name='3-1-1 Call Center', Complaint Type='STAR Exemption', Descriptor='N/A', Location Type='N/A', Incident Zip='10023', City='NEW YORK', Status='Closed', Community Board='Unspecified MANHATTAN', Borough='MANHATTAN', Park Borough='MANHATTAN', Latitude=40.77742224692934, Longitude=-73.98622899941265, Timebin='2', Year='2004', Month='4'),\n",
       " Row(Agency='3-1-1', Agency Name='3-1-1 Call Center', Complaint Type='STAR Exemption', Descriptor='N/A', Location Type='N/A', Incident Zip='10024', City='NEW YORK', Status='Closed', Community Board='Unspecified MANHATTAN', Borough='MANHATTAN', Park Borough='MANHATTAN', Latitude=40.78901250116954, Longitude=-73.98091080711097, Timebin='1', Year='2004', Month='10'),\n",
       " Row(Agency='3-1-1', Agency Name='3-1-1 Call Center', Complaint Type='STAR Exemption', Descriptor='N/A', Location Type='N/A', Incident Zip='10027', City='NEW YORK', Status='Closed', Community Board='Unspecified MANHATTAN', Borough='MANHATTAN', Park Borough='MANHATTAN', Latitude=40.81162687212755, Longitude=-73.95382140083123, Timebin='0', Year='2004', Month='9'),\n",
       " Row(Agency='3-1-1', Agency Name='3-1-1 Call Center', Complaint Type='STAR Exemption', Descriptor='N/A', Location Type='N/A', Incident Zip='10028', City='NEW YORK', Status='Closed', Community Board='Unspecified MANHATTAN', Borough='MANHATTAN', Park Borough='MANHATTAN', Latitude=40.773493300450774, Longitude=-73.95131693096215, Timebin='0', Year='2004', Month='10'),\n",
       " Row(Agency='3-1-1', Agency Name='3-1-1 Call Center', Complaint Type='STAR Exemption', Descriptor='N/A', Location Type='N/A', Incident Zip='10029', City='NEW YORK', Status='Closed', Community Board='Unspecified MANHATTAN', Borough='MANHATTAN', Park Borough='MANHATTAN', Latitude=40.790400754679524, Longitude=-73.93948823143182, Timebin='0', Year='2004', Month='9'),\n",
       " Row(Agency='3-1-1', Agency Name='3-1-1 Call Center', Complaint Type='STAR Exemption', Descriptor='N/A', Location Type='N/A', Incident Zip='10128', City='NEW YORK', Status='Closed', Community Board='Unspecified MANHATTAN', Borough='MANHATTAN', Park Borough='MANHATTAN', Latitude=40.77840894317721, Longitude=-73.95088727461982, Timebin='0', Year='2004', Month='8'),\n",
       " Row(Agency='3-1-1', Agency Name='3-1-1 Call Center', Complaint Type='STAR Exemption', Descriptor='N/A', Location Type='N/A', Incident Zip='10128', City='NEW YORK', Status='Closed', Community Board='Unspecified MANHATTAN', Borough='MANHATTAN', Park Borough='MANHATTAN', Latitude=40.77867100042157, Longitude=-73.94762299637955, Timebin='0', Year='2004', Month='7'),\n",
       " Row(Agency='3-1-1', Agency Name='3-1-1 Call Center', Complaint Type='STAR Exemption', Descriptor='N/A', Location Type='N/A', Incident Zip='10302', City='STATEN ISLAND', Status='Closed', Community Board='Unspecified STATEN ISLAND', Borough='STATEN ISLAND', Park Borough='STATEN ISLAND', Latitude=40.63006157835926, Longitude=-74.13344664771063, Timebin='0', Year='2004', Month='9'),\n",
       " Row(Agency='3-1-1', Agency Name='3-1-1 Call Center', Complaint Type='STAR Exemption', Descriptor='N/A', Location Type='N/A', Incident Zip='10303', City='STATEN ISLAND', Status='Closed', Community Board='Unspecified STATEN ISLAND', Borough='STATEN ISLAND', Park Borough='STATEN ISLAND', Latitude=40.62251359420249, Longitude=-74.16308904880795, Timebin='0', Year='2004', Month='9'),\n",
       " Row(Agency='3-1-1', Agency Name='3-1-1 Call Center', Complaint Type='STAR Exemption', Descriptor='N/A', Location Type='N/A', Incident Zip='10303', City='STATEN ISLAND', Status='Closed', Community Board='Unspecified STATEN ISLAND', Borough='STATEN ISLAND', Park Borough='STATEN ISLAND', Latitude=40.634977937623766, Longitude=-74.15700531433107, Timebin='0', Year='2004', Month='10'),\n",
       " Row(Agency='3-1-1', Agency Name='3-1-1 Call Center', Complaint Type='STAR Exemption', Descriptor='N/A', Location Type='N/A', Incident Zip='10304', City='STATEN ISLAND', Status='Closed', Community Board='Unspecified STATEN ISLAND', Borough='STATEN ISLAND', Park Borough='STATEN ISLAND', Latitude=40.60187995243297, Longitude=-74.08887284416767, Timebin='0', Year='2004', Month='9'),\n",
       " Row(Agency='3-1-1', Agency Name='3-1-1 Call Center', Complaint Type='STAR Exemption', Descriptor='N/A', Location Type='N/A', Incident Zip='10304', City='STATEN ISLAND', Status='Closed', Community Board='Unspecified STATEN ISLAND', Borough='STATEN ISLAND', Park Borough='STATEN ISLAND', Latitude=40.60944838845523, Longitude=-74.07999786647797, Timebin='1', Year='2004', Month='10'),\n",
       " Row(Agency='3-1-1', Agency Name='3-1-1 Call Center', Complaint Type='STAR Exemption', Descriptor='N/A', Location Type='N/A', Incident Zip='10305', City='STATEN ISLAND', Status='Closed', Community Board='Unspecified STATEN ISLAND', Borough='STATEN ISLAND', Park Borough='STATEN ISLAND', Latitude=40.59328022593834, Longitude=-74.06461795574333, Timebin='0', Year='2004', Month='10'),\n",
       " Row(Agency='3-1-1', Agency Name='3-1-1 Call Center', Complaint Type='STAR Exemption', Descriptor='N/A', Location Type='N/A', Incident Zip='10305', City='STATEN ISLAND', Status='Closed', Community Board='Unspecified STATEN ISLAND', Borough='STATEN ISLAND', Park Borough='STATEN ISLAND', Latitude=40.594448751034754, Longitude=-74.06595496559626, Timebin='0', Year='2004', Month='9'),\n",
       " Row(Agency='3-1-1', Agency Name='3-1-1 Call Center', Complaint Type='STAR Exemption', Descriptor='N/A', Location Type='N/A', Incident Zip='10305', City='STATEN ISLAND', Status='Closed', Community Board='Unspecified STATEN ISLAND', Borough='STATEN ISLAND', Park Borough='STATEN ISLAND', Latitude=40.60824027044904, Longitude=-74.06782696274493, Timebin='0', Year='2004', Month='8'),\n",
       " Row(Agency='3-1-1', Agency Name='3-1-1 Call Center', Complaint Type='STAR Exemption', Descriptor='N/A', Location Type='N/A', Incident Zip='10305', City='STATEN ISLAND', Status='Closed', Community Board='Unspecified STATEN ISLAND', Borough='STATEN ISLAND', Park Borough='STATEN ISLAND', Latitude=40.61505490660634, Longitude=-74.06425003258107, Timebin='0', Year='2004', Month='9'),\n",
       " Row(Agency='3-1-1', Agency Name='3-1-1 Call Center', Complaint Type='STAR Exemption', Descriptor='N/A', Location Type='N/A', Incident Zip='10307', City='STATEN ISLAND', Status='Closed', Community Board='Unspecified STATEN ISLAND', Borough='STATEN ISLAND', Park Borough='STATEN ISLAND', Latitude=40.50662766027905, Longitude=-74.23172071775635, Timebin='0', Year='2004', Month='8'),\n",
       " Row(Agency='3-1-1', Agency Name='3-1-1 Call Center', Complaint Type='STAR Exemption', Descriptor='N/A', Location Type='N/A', Incident Zip='10307', City='STATEN ISLAND', Status='Closed', Community Board='Unspecified STATEN ISLAND', Borough='STATEN ISLAND', Park Borough='STATEN ISLAND', Latitude=40.508662595895814, Longitude=-74.23925090392302, Timebin='0', Year='2004', Month='8'),\n",
       " Row(Agency='3-1-1', Agency Name='3-1-1 Call Center', Complaint Type='STAR Exemption', Descriptor='N/A', Location Type='N/A', Incident Zip='10308', City='STATEN ISLAND', Status='Closed', Community Board='Unspecified STATEN ISLAND', Borough='STATEN ISLAND', Park Borough='STATEN ISLAND', Latitude=40.550662201655875, Longitude=-74.15562332042435, Timebin='0', Year='2004', Month='9'),\n",
       " Row(Agency='3-1-1', Agency Name='3-1-1 Call Center', Complaint Type='STAR Exemption', Descriptor='N/A', Location Type='N/A', Incident Zip='10309', City='STATEN ISLAND', Status='Closed', Community Board='Unspecified STATEN ISLAND', Borough='STATEN ISLAND', Park Borough='STATEN ISLAND', Latitude=40.53930704221164, Longitude=-74.22083557776058, Timebin='2', Year='2004', Month='12'),\n",
       " Row(Agency='3-1-1', Agency Name='3-1-1 Call Center', Complaint Type='STAR Exemption', Descriptor='N/A', Location Type='N/A', Incident Zip='10312', City='STATEN ISLAND', Status='Closed', Community Board='Unspecified STATEN ISLAND', Borough='STATEN ISLAND', Park Borough='STATEN ISLAND', Latitude=40.561965618936156, Longitude=-74.18160928933295, Timebin='0', Year='2004', Month='8'),\n",
       " Row(Agency='3-1-1', Agency Name='3-1-1 Call Center', Complaint Type='STAR Exemption', Descriptor='N/A', Location Type='N/A', Incident Zip='10314', City='STATEN ISLAND', Status='Closed', Community Board='Unspecified STATEN ISLAND', Borough='STATEN ISLAND', Park Borough='STATEN ISLAND', Latitude=40.58620946793604, Longitude=-74.15000686183039, Timebin='1', Year='2004', Month='6'),\n",
       " Row(Agency='3-1-1', Agency Name='3-1-1 Call Center', Complaint Type='STAR Exemption', Descriptor='N/A', Location Type='N/A', Incident Zip='10314', City='STATEN ISLAND', Status='Closed', Community Board='Unspecified STATEN ISLAND', Borough='STATEN ISLAND', Park Borough='STATEN ISLAND', Latitude=40.60287872652924, Longitude=-74.12718743180375, Timebin='1', Year='2004', Month='9'),\n",
       " Row(Agency='3-1-1', Agency Name='3-1-1 Call Center', Complaint Type='STAR Exemption', Descriptor='N/A', Location Type='N/A', Incident Zip='10451', City='BRONX', Status='Closed', Community Board='Unspecified BRONX', Borough='BRONX', Park Borough='BRONX', Latitude=40.82421122576171, Longitude=-73.92271398562049, Timebin='2', Year='2004', Month='7'),\n",
       " Row(Agency='3-1-1', Agency Name='3-1-1 Call Center', Complaint Type='STAR Exemption', Descriptor='N/A', Location Type='N/A', Incident Zip='10453', City='BRONX', Status='Closed', Community Board='Unspecified BRONX', Borough='BRONX', Park Borough='BRONX', Latitude=40.84889803786291, Longitude=-73.91997440746678, Timebin='2', Year='2004', Month='7'),\n",
       " Row(Agency='3-1-1', Agency Name='3-1-1 Call Center', Complaint Type='STAR Exemption', Descriptor='N/A', Location Type='N/A', Incident Zip='10456', City='BRONX', Status='Closed', Community Board='Unspecified BRONX', Borough='BRONX', Park Borough='BRONX', Latitude=40.830421164680565, Longitude=-73.91682395744729, Timebin='2', Year='2004', Month='7'),\n",
       " Row(Agency='3-1-1', Agency Name='3-1-1 Call Center', Complaint Type='STAR Exemption', Descriptor='N/A', Location Type='N/A', Incident Zip='10457', City='BRONX', Status='Closed', Community Board='Unspecified BRONX', Borough='BRONX', Park Borough='BRONX', Latitude=40.8502728157093, Longitude=-73.88964985926886, Timebin='0', Year='2004', Month='11'),\n",
       " Row(Agency='3-1-1', Agency Name='3-1-1 Call Center', Complaint Type='STAR Exemption', Descriptor='N/A', Location Type='N/A', Incident Zip='10462', City='BRONX', Status='Closed', Community Board='Unspecified BRONX', Borough='BRONX', Park Borough='BRONX', Latitude=40.852588541019756, Longitude=-73.85871116480456, Timebin='1', Year='2004', Month='9'),\n",
       " Row(Agency='3-1-1', Agency Name='3-1-1 Call Center', Complaint Type='STAR Exemption', Descriptor='N/A', Location Type='N/A', Incident Zip='10463', City='BRONX', Status='Closed', Community Board='Unspecified BRONX', Borough='BRONX', Park Borough='BRONX', Latitude=40.880368592632294, Longitude=-73.91975209976356, Timebin='1', Year='2004', Month='8'),\n",
       " Row(Agency='3-1-1', Agency Name='3-1-1 Call Center', Complaint Type='STAR Exemption', Descriptor='N/A', Location Type='N/A', Incident Zip='10463', City='BRONX', Status='Closed', Community Board='Unspecified BRONX', Borough='BRONX', Park Borough='BRONX', Latitude=40.888894446663876, Longitude=-73.90298924654394, Timebin='0', Year='2004', Month='8'),\n",
       " Row(Agency='3-1-1', Agency Name='3-1-1 Call Center', Complaint Type='STAR Exemption', Descriptor='N/A', Location Type='N/A', Incident Zip='10464', City='BRONX', Status='Closed', Community Board='Unspecified BRONX', Borough='BRONX', Park Borough='BRONX', Latitude=40.84461121631488, Longitude=-73.7880215687073, Timebin='2', Year='2004', Month='6'),\n",
       " Row(Agency='3-1-1', Agency Name='3-1-1 Call Center', Complaint Type='STAR Exemption', Descriptor='N/A', Location Type='N/A', Incident Zip='10468', City='BRONX', Status='Closed', Community Board='Unspecified BRONX', Borough='BRONX', Park Borough='BRONX', Latitude=40.877294267908496, Longitude=-73.889529074745, Timebin='2', Year='2004', Month='9'),\n",
       " Row(Agency='3-1-1', Agency Name='3-1-1 Call Center', Complaint Type='STAR Exemption', Descriptor='N/A', Location Type='N/A', Incident Zip='10469', City='BRONX', Status='Closed', Community Board='Unspecified BRONX', Borough='BRONX', Park Borough='BRONX', Latitude=40.86341515224473, Longitude=-73.83890875098973, Timebin='2', Year='2004', Month='6'),\n",
       " Row(Agency='3-1-1', Agency Name='3-1-1 Call Center', Complaint Type='STAR Exemption', Descriptor='N/A', Location Type='N/A', Incident Zip='10469', City='BRONX', Status='Closed', Community Board='Unspecified BRONX', Borough='BRONX', Park Borough='BRONX', Latitude=40.86808243019183, Longitude=-73.83592544274484, Timebin='0', Year='2004', Month='12'),\n",
       " Row(Agency='3-1-1', Agency Name='3-1-1 Call Center', Complaint Type='STAR Exemption', Descriptor='N/A', Location Type='N/A', Incident Zip='10469', City='BRONX', Status='Closed', Community Board='Unspecified BRONX', Borough='BRONX', Park Borough='BRONX', Latitude=40.86920104102677, Longitude=-73.83699652621117, Timebin='2', Year='2004', Month='12'),\n",
       " Row(Agency='3-1-1', Agency Name='3-1-1 Call Center', Complaint Type='STAR Exemption', Descriptor='N/A', Location Type='N/A', Incident Zip='10472', City='BRONX', Status='Closed', Community Board='Unspecified BRONX', Borough='BRONX', Park Borough='BRONX', Latitude=40.82882751146565, Longitude=-73.85209843763707, Timebin='0', Year='2004', Month='10'),\n",
       " Row(Agency='3-1-1', Agency Name='3-1-1 Call Center', Complaint Type='STAR Exemption', Descriptor='N/A', Location Type='N/A', Incident Zip='10473', City='BRONX', Status='Closed', Community Board='Unspecified BRONX', Borough='BRONX', Park Borough='BRONX', Latitude=40.80763006638861, Longitude=-73.85648028740447, Timebin='0', Year='2004', Month='6'),\n",
       " Row(Agency='3-1-1', Agency Name='3-1-1 Call Center', Complaint Type='STAR Exemption', Descriptor='N/A', Location Type='N/A', Incident Zip='10475', City='BRONX', Status='Closed', Community Board='Unspecified BRONX', Borough='BRONX', Park Borough='BRONX', Latitude=40.865025935911724, Longitude=-73.8218618143826, Timebin='2', Year='2004', Month='12'),\n",
       " Row(Agency='3-1-1', Agency Name='3-1-1 Call Center', Complaint Type='STAR Exemption', Descriptor='N/A', Location Type='N/A', Incident Zip='11004', City='GLEN OAKS', Status='Closed', Community Board='Unspecified QUEENS', Borough='QUEENS', Park Borough='QUEENS', Latitude=40.74742520700357, Longitude=-73.7152839616677, Timebin='2', Year='2004', Month='4'),\n",
       " Row(Agency='3-1-1', Agency Name='3-1-1 Call Center', Complaint Type='STAR Exemption', Descriptor='N/A', Location Type='N/A', Incident Zip='11040', City='NEW HYDE PARK', Status='Closed', Community Board='Unspecified QUEENS', Borough='QUEENS', Park Borough='QUEENS', Latitude=40.744281572488426, Longitude=-73.70298032639425, Timebin='0', Year='2004', Month='9'),\n",
       " Row(Agency='3-1-1', Agency Name='3-1-1 Call Center', Complaint Type='STAR Exemption', Descriptor='N/A', Location Type='N/A', Incident Zip='11106', City='ASTORIA', Status='Closed', Community Board='Unspecified QUEENS', Borough='QUEENS', Park Borough='QUEENS', Latitude=40.76122656904726, Longitude=-73.924877126057, Timebin='1', Year='2004', Month='10'),\n",
       " Row(Agency='3-1-1', Agency Name='3-1-1 Call Center', Complaint Type='STAR Exemption', Descriptor='N/A', Location Type='N/A', Incident Zip='11203', City='BROOKLYN', Status='Closed', Community Board='Unspecified BROOKLYN', Borough='BROOKLYN', Park Borough='BROOKLYN', Latitude=40.63882476368152, Longitude=-73.9309637207318, Timebin='0', Year='2004', Month='9'),\n",
       " Row(Agency='3-1-1', Agency Name='3-1-1 Call Center', Complaint Type='STAR Exemption', Descriptor='N/A', Location Type='N/A', Incident Zip='11203', City='BROOKLYN', Status='Closed', Community Board='Unspecified BROOKLYN', Borough='BROOKLYN', Park Borough='BROOKLYN', Latitude=40.655084453543076, Longitude=-73.93496177861753, Timebin='0', Year='2004', Month='10'),\n",
       " Row(Agency='3-1-1', Agency Name='3-1-1 Call Center', Complaint Type='STAR Exemption', Descriptor='N/A', Location Type='N/A', Incident Zip='11204', City='BROOKLYN', Status='Closed', Community Board='Unspecified BROOKLYN', Borough='BROOKLYN', Park Borough='BROOKLYN', Latitude=40.61697334753661, Longitude=-73.98048454687705, Timebin='0', Year='2004', Month='9'),\n",
       " Row(Agency='3-1-1', Agency Name='3-1-1 Call Center', Complaint Type='STAR Exemption', Descriptor='N/A', Location Type='N/A', Incident Zip='11204', City='BROOKLYN', Status='Closed', Community Board='Unspecified BROOKLYN', Borough='BROOKLYN', Park Borough='BROOKLYN', Latitude=40.61905101169546, Longitude=-73.97965546139362, Timebin='0', Year='2004', Month='10'),\n",
       " Row(Agency='3-1-1', Agency Name='3-1-1 Call Center', Complaint Type='STAR Exemption', Descriptor='N/A', Location Type='N/A', Incident Zip='11204', City='BROOKLYN', Status='Closed', Community Board='Unspecified BROOKLYN', Borough='BROOKLYN', Park Borough='BROOKLYN', Latitude=40.626677300019466, Longitude=-73.98884308866529, Timebin='2', Year='2004', Month='4'),\n",
       " Row(Agency='3-1-1', Agency Name='3-1-1 Call Center', Complaint Type='STAR Exemption', Descriptor='N/A', Location Type='N/A', Incident Zip='11204', City='BROOKLYN', Status='Closed', Community Board='Unspecified BROOKLYN', Borough='BROOKLYN', Park Borough='BROOKLYN', Latitude=40.62835309330044, Longitude=-73.97957336904203, Timebin='1', Year='2004', Month='6'),\n",
       " Row(Agency='3-1-1', Agency Name='3-1-1 Call Center', Complaint Type='STAR Exemption', Descriptor='N/A', Location Type='N/A', Incident Zip='11207', City='BROOKLYN', Status='Closed', Community Board='Unspecified BROOKLYN', Borough='BROOKLYN', Park Borough='BROOKLYN', Latitude=40.65815694947376, Longitude=-73.89249419671962, Timebin='1', Year='2004', Month='9'),\n",
       " Row(Agency='3-1-1', Agency Name='3-1-1 Call Center', Complaint Type='STAR Exemption', Descriptor='N/A', Location Type='N/A', Incident Zip='11207', City='BROOKLYN', Status='Closed', Community Board='Unspecified BROOKLYN', Borough='BROOKLYN', Park Borough='BROOKLYN', Latitude=40.672145576306974, Longitude=-73.88524012154016, Timebin='0', Year='2004', Month='10'),\n",
       " Row(Agency='3-1-1', Agency Name='3-1-1 Call Center', Complaint Type='STAR Exemption', Descriptor='N/A', Location Type='N/A', Incident Zip='11207', City='BROOKLYN', Status='Closed', Community Board='Unspecified BROOKLYN', Borough='BROOKLYN', Park Borough='BROOKLYN', Latitude=40.6820189271846, Longitude=-73.89129476300215, Timebin='2', Year='2004', Month='12'),\n",
       " Row(Agency='3-1-1', Agency Name='3-1-1 Call Center', Complaint Type='STAR Exemption', Descriptor='N/A', Location Type='N/A', Incident Zip='11208', City='BROOKLYN', Status='Closed', Community Board='Unspecified BROOKLYN', Borough='BROOKLYN', Park Borough='BROOKLYN', Latitude=40.66734291595357, Longitude=-73.86798192026198, Timebin='0', Year='2004', Month='10'),\n",
       " Row(Agency='3-1-1', Agency Name='3-1-1 Call Center', Complaint Type='STAR Exemption', Descriptor='N/A', Location Type='N/A', Incident Zip='11208', City='BROOKLYN', Status='Closed', Community Board='Unspecified BROOKLYN', Borough='BROOKLYN', Park Borough='BROOKLYN', Latitude=40.667582175965876, Longitude=-73.8757928382141, Timebin='1', Year='2004', Month='11'),\n",
       " Row(Agency='3-1-1', Agency Name='3-1-1 Call Center', Complaint Type='STAR Exemption', Descriptor='N/A', Location Type='N/A', Incident Zip='11208', City='BROOKLYN', Status='Closed', Community Board='Unspecified BROOKLYN', Borough='BROOKLYN', Park Borough='BROOKLYN', Latitude=40.68870765003171, Longitude=-73.87230629875883, Timebin='0', Year='2004', Month='10'),\n",
       " Row(Agency='3-1-1', Agency Name='3-1-1 Call Center', Complaint Type='STAR Exemption', Descriptor='N/A', Location Type='N/A', Incident Zip='11208', City='BROOKLYN', Status='Closed', Community Board='Unspecified BROOKLYN', Borough='BROOKLYN', Park Borough='BROOKLYN', Latitude=40.68976994204902, Longitude=-73.86991355096343, Timebin='0', Year='2004', Month='10'),\n",
       " Row(Agency='3-1-1', Agency Name='3-1-1 Call Center', Complaint Type='STAR Exemption', Descriptor='N/A', Location Type='N/A', Incident Zip='11209', City='BROOKLYN', Status='Closed', Community Board='Unspecified BROOKLYN', Borough='BROOKLYN', Park Borough='BROOKLYN', Latitude=40.614978891551324, Longitude=-74.03756378446089, Timebin='0', Year='2004', Month='9'),\n",
       " Row(Agency='3-1-1', Agency Name='3-1-1 Call Center', Complaint Type='STAR Exemption', Descriptor='N/A', Location Type='N/A', Incident Zip='11209', City='BROOKLYN', Status='Closed', Community Board='Unspecified BROOKLYN', Borough='BROOKLYN', Park Borough='BROOKLYN', Latitude=40.636815386314076, Longitude=-74.03198416220803, Timebin='1', Year='2004', Month='10'),\n",
       " Row(Agency='3-1-1', Agency Name='3-1-1 Call Center', Complaint Type='STAR Exemption', Descriptor='N/A', Location Type='N/A', Incident Zip='11210', City='BROOKLYN', Status='Closed', Community Board='Unspecified BROOKLYN', Borough='BROOKLYN', Park Borough='BROOKLYN', Latitude=40.628473607059796, Longitude=-73.9452190602029, Timebin='0', Year='2004', Month='11'),\n",
       " Row(Agency='3-1-1', Agency Name='3-1-1 Call Center', Complaint Type='STAR Exemption', Descriptor='N/A', Location Type='N/A', Incident Zip='11210', City='BROOKLYN', Status='Closed', Community Board='Unspecified BROOKLYN', Borough='BROOKLYN', Park Borough='BROOKLYN', Latitude=40.63343097271495, Longitude=-73.94580225622384, Timebin='1', Year='2004', Month='10'),\n",
       " Row(Agency='3-1-1', Agency Name='3-1-1 Call Center', Complaint Type='STAR Exemption', Descriptor='N/A', Location Type='N/A', Incident Zip='11212', City='BROOKLYN', Status='Closed', Community Board='Unspecified BROOKLYN', Borough='BROOKLYN', Park Borough='BROOKLYN', Latitude=40.65642010860876, Longitude=-73.9202089062216, Timebin='1', Year='2004', Month='11'),\n",
       " Row(Agency='3-1-1', Agency Name='3-1-1 Call Center', Complaint Type='STAR Exemption', Descriptor='N/A', Location Type='N/A', Incident Zip='11213', City='BROOKLYN', Status='Closed', Community Board='Unspecified BROOKLYN', Borough='BROOKLYN', Park Borough='BROOKLYN', Latitude=40.67405625482806, Longitude=-73.94529698126847, Timebin='0', Year='2004', Month='10'),\n",
       " Row(Agency='3-1-1', Agency Name='3-1-1 Call Center', Complaint Type='STAR Exemption', Descriptor='N/A', Location Type='N/A', Incident Zip='11214', City='BROOKLYN', Status='Closed', Community Board='Unspecified BROOKLYN', Borough='BROOKLYN', Park Borough='BROOKLYN', Latitude=40.59091770839846, Longitude=-73.98526650521563, Timebin='0', Year='2004', Month='8'),\n",
       " Row(Agency='3-1-1', Agency Name='3-1-1 Call Center', Complaint Type='STAR Exemption', Descriptor='N/A', Location Type='N/A', Incident Zip='11214', City='BROOKLYN', Status='Closed', Community Board='Unspecified BROOKLYN', Borough='BROOKLYN', Park Borough='BROOKLYN', Latitude=40.599841283024396, Longitude=-73.98722350296481, Timebin='0', Year='2004', Month='9'),\n",
       " Row(Agency='3-1-1', Agency Name='3-1-1 Call Center', Complaint Type='STAR Exemption', Descriptor='N/A', Location Type='N/A', Incident Zip='11214', City='BROOKLYN', Status='Closed', Community Board='Unspecified BROOKLYN', Borough='BROOKLYN', Park Borough='BROOKLYN', Latitude=40.60871834188278, Longitude=-73.9913923652164, Timebin='1', Year='2004', Month='10'),\n",
       " Row(Agency='3-1-1', Agency Name='3-1-1 Call Center', Complaint Type='STAR Exemption', Descriptor='N/A', Location Type='N/A', Incident Zip='11214', City='BROOKLYN', Status='Closed', Community Board='Unspecified BROOKLYN', Borough='BROOKLYN', Park Borough='BROOKLYN', Latitude=40.61084032358103, Longitude=-74.00392218084681, Timebin='0', Year='2004', Month='8'),\n",
       " Row(Agency='3-1-1', Agency Name='3-1-1 Call Center', Complaint Type='STAR Exemption', Descriptor='N/A', Location Type='N/A', Incident Zip='11215', City='BROOKLYN', Status='Closed', Community Board='Unspecified BROOKLYN', Borough='BROOKLYN', Park Borough='BROOKLYN', Latitude=40.66770442002224, Longitude=-73.97626661671217, Timebin='0', Year='2004', Month='11'),\n",
       " Row(Agency='3-1-1', Agency Name='3-1-1 Call Center', Complaint Type='STAR Exemption', Descriptor='N/A', Location Type='N/A', Incident Zip='11216', City='BROOKLYN', Status='Closed', Community Board='Unspecified BROOKLYN', Borough='BROOKLYN', Park Borough='BROOKLYN', Latitude=40.68461254829313, Longitude=-73.94507198427767, Timebin='0', Year='2004', Month='10'),\n",
       " Row(Agency='3-1-1', Agency Name='3-1-1 Call Center', Complaint Type='STAR Exemption', Descriptor='N/A', Location Type='N/A', Incident Zip='11217', City='BROOKLYN', Status='Closed', Community Board='Unspecified BROOKLYN', Borough='BROOKLYN', Park Borough='BROOKLYN', Latitude=40.675568192489365, Longitude=-73.97621334644921, Timebin='0', Year='2004', Month='9'),\n",
       " Row(Agency='3-1-1', Agency Name='3-1-1 Call Center', Complaint Type='STAR Exemption', Descriptor='N/A', Location Type='N/A', Incident Zip='11218', City='BROOKLYN', Status='Closed', Community Board='Unspecified BROOKLYN', Borough='BROOKLYN', Park Borough='BROOKLYN', Latitude=40.65334609513804, Longitude=-73.97448057132742, Timebin='0', Year='2004', Month='9'),\n",
       " Row(Agency='3-1-1', Agency Name='3-1-1 Call Center', Complaint Type='STAR Exemption', Descriptor='N/A', Location Type='N/A', Incident Zip='11219', City='BROOKLYN', Status='Closed', Community Board='Unspecified BROOKLYN', Borough='BROOKLYN', Park Borough='BROOKLYN', Latitude=40.622039145131794, Longitude=-73.9998126835412, Timebin='0', Year='2004', Month='9'),\n",
       " Row(Agency='3-1-1', Agency Name='3-1-1 Call Center', Complaint Type='STAR Exemption', Descriptor='N/A', Location Type='N/A', Incident Zip='11219', City='BROOKLYN', Status='Closed', Community Board='Unspecified BROOKLYN', Borough='BROOKLYN', Park Borough='BROOKLYN', Latitude=40.628005971045646, Longitude=-73.99104763429445, Timebin='0', Year='2004', Month='9'),\n",
       " Row(Agency='3-1-1', Agency Name='3-1-1 Call Center', Complaint Type='STAR Exemption', Descriptor='N/A', Location Type='N/A', Incident Zip='11220', City='BROOKLYN', Status='Closed', Community Board='Unspecified BROOKLYN', Borough='BROOKLYN', Park Borough='BROOKLYN', Latitude=40.63445485463354, Longitude=-74.01987725344219, Timebin='0', Year='2004', Month='9'),\n",
       " Row(Agency='3-1-1', Agency Name='3-1-1 Call Center', Complaint Type='STAR Exemption', Descriptor='N/A', Location Type='N/A', Incident Zip='11220', City='BROOKLYN', Status='Closed', Community Board='Unspecified BROOKLYN', Borough='BROOKLYN', Park Borough='BROOKLYN', Latitude=40.6352745525095, Longitude=-74.02497207477728, Timebin='0', Year='2004', Month='9'),\n",
       " Row(Agency='3-1-1', Agency Name='3-1-1 Call Center', Complaint Type='STAR Exemption', Descriptor='N/A', Location Type='N/A', Incident Zip='11220', City='BROOKLYN', Status='Closed', Community Board='Unspecified BROOKLYN', Borough='BROOKLYN', Park Borough='BROOKLYN', Latitude=40.636607753174346, Longitude=-74.01298170279765, Timebin='0', Year='2004', Month='10'),\n",
       " Row(Agency='3-1-1', Agency Name='3-1-1 Call Center', Complaint Type='STAR Exemption', Descriptor='N/A', Location Type='N/A', Incident Zip='11220', City='BROOKLYN', Status='Closed', Community Board='Unspecified BROOKLYN', Borough='BROOKLYN', Park Borough='BROOKLYN', Latitude=40.64142509954627, Longitude=-74.01057564484906, Timebin='0', Year='2004', Month='8'),\n",
       " Row(Agency='3-1-1', Agency Name='3-1-1 Call Center', Complaint Type='STAR Exemption', Descriptor='N/A', Location Type='N/A', Incident Zip='11221', City='BROOKLYN', Status='Closed', Community Board='Unspecified BROOKLYN', Borough='BROOKLYN', Park Borough='BROOKLYN', Latitude=40.69305835298128, Longitude=-73.93015029009777, Timebin='0', Year='2004', Month='10'),\n",
       " Row(Agency='3-1-1', Agency Name='3-1-1 Call Center', Complaint Type='STAR Exemption', Descriptor='N/A', Location Type='N/A', Incident Zip='11222', City='BROOKLYN', Status='Closed', Community Board='Unspecified BROOKLYN', Borough='BROOKLYN', Park Borough='BROOKLYN', Latitude=40.72164776234387, Longitude=-73.94526152584221, Timebin='2', Year='2004', Month='7'),\n",
       " Row(Agency='3-1-1', Agency Name='3-1-1 Call Center', Complaint Type='STAR Exemption', Descriptor='N/A', Location Type='N/A', Incident Zip='11222', City='BROOKLYN', Status='Closed', Community Board='Unspecified BROOKLYN', Borough='BROOKLYN', Park Borough='BROOKLYN', Latitude=40.724479732070634, Longitude=-73.93858841906643, Timebin='0', Year='2004', Month='9'),\n",
       " Row(Agency='3-1-1', Agency Name='3-1-1 Call Center', Complaint Type='STAR Exemption', Descriptor='N/A', Location Type='N/A', Incident Zip='11223', City='BROOKLYN', Status='Closed', Community Board='Unspecified BROOKLYN', Borough='BROOKLYN', Park Borough='BROOKLYN', Latitude=40.599933595391654, Longitude=-73.9801114174064, Timebin='0', Year='2004', Month='10'),\n",
       " Row(Agency='3-1-1', Agency Name='3-1-1 Call Center', Complaint Type='STAR Exemption', Descriptor='N/A', Location Type='N/A', Incident Zip='11223', City='BROOKLYN', Status='Closed', Community Board='Unspecified BROOKLYN', Borough='BROOKLYN', Park Borough='BROOKLYN', Latitude=40.60440429369512, Longitude=-73.97702378161385, Timebin='1', Year='2004', Month='12'),\n",
       " Row(Agency='3-1-1', Agency Name='3-1-1 Call Center', Complaint Type='STAR Exemption', Descriptor='N/A', Location Type='N/A', Incident Zip='11224', City='BROOKLYN', Status='Closed', Community Board='Unspecified BROOKLYN', Borough='BROOKLYN', Park Borough='BROOKLYN', Latitude=40.575185653071564, Longitude=-73.97583872785303, Timebin='2', Year='2004', Month='9'),\n",
       " Row(Agency='3-1-1', Agency Name='3-1-1 Call Center', Complaint Type='STAR Exemption', Descriptor='N/A', Location Type='N/A', Incident Zip='11224', City='BROOKLYN', Status='Closed', Community Board='Unspecified BROOKLYN', Borough='BROOKLYN', Park Borough='BROOKLYN', Latitude=40.57755917147513, Longitude=-73.9725584142716, Timebin='1', Year='2004', Month='9'),\n",
       " Row(Agency='3-1-1', Agency Name='3-1-1 Call Center', Complaint Type='STAR Exemption', Descriptor='N/A', Location Type='N/A', Incident Zip='11224', City='BROOKLYN', Status='Closed', Community Board='Unspecified BROOKLYN', Borough='BROOKLYN', Park Borough='BROOKLYN', Latitude=40.579892389128716, Longitude=-73.97312985030518, Timebin='2', Year='2004', Month='7'),\n",
       " Row(Agency='3-1-1', Agency Name='3-1-1 Call Center', Complaint Type='STAR Exemption', Descriptor='N/A', Location Type='N/A', Incident Zip='11224', City='BROOKLYN', Status='Closed', Community Board='Unspecified BROOKLYN', Borough='BROOKLYN', Park Borough='BROOKLYN', Latitude=40.579892389128716, Longitude=-73.97312985030518, Timebin='2', Year='2004', Month='7'),\n",
       " Row(Agency='3-1-1', Agency Name='3-1-1 Call Center', Complaint Type='STAR Exemption', Descriptor='N/A', Location Type='N/A', Incident Zip='11226', City='BROOKLYN', Status='Closed', Community Board='Unspecified BROOKLYN', Borough='BROOKLYN', Park Borough='BROOKLYN', Latitude=40.65051426444583, Longitude=-73.95137063028012, Timebin='0', Year='2004', Month='9'),\n",
       " Row(Agency='3-1-1', Agency Name='3-1-1 Call Center', Complaint Type='STAR Exemption', Descriptor='N/A', Location Type='N/A', Incident Zip='11229', City='BROOKLYN', Status='Closed', Community Board='Unspecified BROOKLYN', Borough='BROOKLYN', Park Borough='BROOKLYN', Latitude=40.59358088649392, Longitude=-73.94926247172248, Timebin='1', Year='2004', Month='9'),\n",
       " Row(Agency='3-1-1', Agency Name='3-1-1 Call Center', Complaint Type='STAR Exemption', Descriptor='N/A', Location Type='N/A', Incident Zip='11229', City='BROOKLYN', Status='Closed', Community Board='Unspecified BROOKLYN', Borough='BROOKLYN', Park Borough='BROOKLYN', Latitude=40.611127791060866, Longitude=-73.94221150851843, Timebin='1', Year='2004', Month='9'),\n",
       " Row(Agency='3-1-1', Agency Name='3-1-1 Call Center', Complaint Type='STAR Exemption', Descriptor='N/A', Location Type='N/A', Incident Zip='11230', City='BROOKLYN', Status='Closed', Community Board='Unspecified BROOKLYN', Borough='BROOKLYN', Park Borough='BROOKLYN', Latitude=40.628917732988825, Longitude=-73.97554187453751, Timebin='0', Year='2004', Month='8'),\n",
       " Row(Agency='3-1-1', Agency Name='3-1-1 Call Center', Complaint Type='STAR Exemption', Descriptor='N/A', Location Type='N/A', Incident Zip='11233', City='BROOKLYN', Status='Closed', Community Board='Unspecified BROOKLYN', Borough='BROOKLYN', Park Borough='BROOKLYN', Latitude=40.67988291429844, Longitude=-73.92084782602524, Timebin='0', Year='2004', Month='10'),\n",
       " Row(Agency='3-1-1', Agency Name='3-1-1 Call Center', Complaint Type='STAR Exemption', Descriptor='N/A', Location Type='N/A', Incident Zip='11233', City='BROOKLYN', Status='Closed', Community Board='Unspecified BROOKLYN', Borough='BROOKLYN', Park Borough='BROOKLYN', Latitude=40.681352498567776, Longitude=-73.91474566857406, Timebin='0', Year='2004', Month='10'),\n",
       " Row(Agency='3-1-1', Agency Name='3-1-1 Call Center', Complaint Type='STAR Exemption', Descriptor='N/A', Location Type='N/A', Incident Zip='11233', City='BROOKLYN', Status='Closed', Community Board='Unspecified BROOKLYN', Borough='BROOKLYN', Park Borough='BROOKLYN', Latitude=40.685356302244465, Longitude=-73.92542051910019, Timebin='0', Year='2004', Month='9'),\n",
       " Row(Agency='3-1-1', Agency Name='3-1-1 Call Center', Complaint Type='STAR Exemption', Descriptor='N/A', Location Type='N/A', Incident Zip='11234', City='BROOKLYN', Status='Closed', Community Board='Unspecified BROOKLYN', Borough='BROOKLYN', Park Borough='BROOKLYN', Latitude=40.62482991318341, Longitude=-73.92359689626008, Timebin='1', Year='2004', Month='9'),\n",
       " Row(Agency='3-1-1', Agency Name='3-1-1 Call Center', Complaint Type='STAR Exemption', Descriptor='N/A', Location Type='N/A', Incident Zip='11234', City='BROOKLYN', Status='Closed', Community Board='Unspecified BROOKLYN', Borough='BROOKLYN', Park Borough='BROOKLYN', Latitude=40.62855339027413, Longitude=-73.92180574772443, Timebin='0', Year='2004', Month='9'),\n",
       " Row(Agency='3-1-1', Agency Name='3-1-1 Call Center', Complaint Type='STAR Exemption', Descriptor='N/A', Location Type='N/A', Incident Zip='11234', City='BROOKLYN', Status='Closed', Community Board='Unspecified BROOKLYN', Borough='BROOKLYN', Park Borough='BROOKLYN', Latitude=40.63195266916439, Longitude=-73.91960767413399, Timebin='2', Year='2004', Month='7'),\n",
       " Row(Agency='3-1-1', Agency Name='3-1-1 Call Center', Complaint Type='STAR Exemption', Descriptor='N/A', Location Type='N/A', Incident Zip='11235', City='BROOKLYN', Status='Closed', Community Board='Unspecified BROOKLYN', Borough='BROOKLYN', Park Borough='BROOKLYN', Latitude=40.576444270181966, Longitude=-73.96125556055088, Timebin='1', Year='2004', Month='10'),\n",
       " Row(Agency='3-1-1', Agency Name='3-1-1 Call Center', Complaint Type='STAR Exemption', Descriptor='N/A', Location Type='N/A', Incident Zip='11235', City='BROOKLYN', Status='Closed', Community Board='Unspecified BROOKLYN', Borough='BROOKLYN', Park Borough='BROOKLYN', Latitude=40.587733949440526, Longitude=-73.96217791106778, Timebin='2', Year='2004', Month='7'),\n",
       " Row(Agency='3-1-1', Agency Name='3-1-1 Call Center', Complaint Type='STAR Exemption', Descriptor='N/A', Location Type='N/A', Incident Zip='11235', City='BROOKLYN', Status='Closed', Community Board='Unspecified BROOKLYN', Borough='BROOKLYN', Park Borough='BROOKLYN', Latitude=40.58916413110852, Longitude=-73.94842691870356, Timebin='0', Year='2004', Month='10'),\n",
       " Row(Agency='3-1-1', Agency Name='3-1-1 Call Center', Complaint Type='STAR Exemption', Descriptor='N/A', Location Type='N/A', Incident Zip='11235', City='BROOKLYN', Status='Closed', Community Board='Unspecified BROOKLYN', Borough='BROOKLYN', Park Borough='BROOKLYN', Latitude=40.58921727491068, Longitude=-73.95068797262955, Timebin='0', Year='2004', Month='10'),\n",
       " Row(Agency='3-1-1', Agency Name='3-1-1 Call Center', Complaint Type='STAR Exemption', Descriptor='N/A', Location Type='N/A', Incident Zip='11236', City='BROOKLYN', Status='Closed', Community Board='Unspecified BROOKLYN', Borough='BROOKLYN', Park Borough='BROOKLYN', Latitude=40.63001615310147, Longitude=-73.89713653805391, Timebin='0', Year='2004', Month='9'),\n",
       " Row(Agency='3-1-1', Agency Name='3-1-1 Call Center', Complaint Type='STAR Exemption', Descriptor='N/A', Location Type='N/A', Incident Zip='11236', City='BROOKLYN', Status='Closed', Community Board='Unspecified BROOKLYN', Borough='BROOKLYN', Park Borough='BROOKLYN', Latitude=40.63037993408534, Longitude=-73.8898333197424, Timebin='0', Year='2004', Month='10'),\n",
       " Row(Agency='3-1-1', Agency Name='3-1-1 Call Center', Complaint Type='STAR Exemption', Descriptor='N/A', Location Type='N/A', Incident Zip='11236', City='BROOKLYN', Status='Closed', Community Board='Unspecified BROOKLYN', Borough='BROOKLYN', Park Borough='BROOKLYN', Latitude=40.6318299650396, Longitude=-73.9028801611741, Timebin='1', Year='2004', Month='8'),\n",
       " Row(Agency='3-1-1', Agency Name='3-1-1 Call Center', Complaint Type='STAR Exemption', Descriptor='N/A', Location Type='N/A', Incident Zip='11236', City='BROOKLYN', Status='Closed', Community Board='Unspecified BROOKLYN', Borough='BROOKLYN', Park Borough='BROOKLYN', Latitude=40.63339872770536, Longitude=-73.90465768847801, Timebin='0', Year='2004', Month='10'),\n",
       " Row(Agency='3-1-1', Agency Name='3-1-1 Call Center', Complaint Type='STAR Exemption', Descriptor='N/A', Location Type='N/A', Incident Zip='11236', City='BROOKLYN', Status='Closed', Community Board='Unspecified BROOKLYN', Borough='BROOKLYN', Park Borough='BROOKLYN', Latitude=40.633515588907784, Longitude=-73.90326321422178, Timebin='0', Year='2004', Month='9'),\n",
       " Row(Agency='3-1-1', Agency Name='3-1-1 Call Center', Complaint Type='STAR Exemption', Descriptor='N/A', Location Type='N/A', Incident Zip='11236', City='BROOKLYN', Status='Closed', Community Board='Unspecified BROOKLYN', Borough='BROOKLYN', Park Borough='BROOKLYN', Latitude=40.63414181948319, Longitude=-73.89143400098331, Timebin='1', Year='2004', Month='7'),\n",
       " Row(Agency='3-1-1', Agency Name='3-1-1 Call Center', Complaint Type='STAR Exemption', Descriptor='N/A', Location Type='N/A', Incident Zip='11236', City='BROOKLYN', Status='Closed', Community Board='Unspecified BROOKLYN', Borough='BROOKLYN', Park Borough='BROOKLYN', Latitude=40.64507007101617, Longitude=-73.89575121271265, Timebin='2', Year='2004', Month='9'),\n",
       " Row(Agency='3-1-1', Agency Name='3-1-1 Call Center', Complaint Type='STAR Exemption', Descriptor='N/A', Location Type='N/A', Incident Zip='11236', City='BROOKLYN', Status='Closed', Community Board='Unspecified BROOKLYN', Borough='BROOKLYN', Park Borough='BROOKLYN', Latitude=40.64624153794963, Longitude=-73.90459609416149, Timebin='0', Year='2004', Month='10'),\n",
       " Row(Agency='3-1-1', Agency Name='3-1-1 Call Center', Complaint Type='STAR Exemption', Descriptor='N/A', Location Type='N/A', Incident Zip='11238', City='BROOKLYN', Status='Closed', Community Board='Unspecified BROOKLYN', Borough='BROOKLYN', Park Borough='BROOKLYN', Latitude=40.68099333467112, Longitude=-73.96138590639687, Timebin='0', Year='2004', Month='8'),\n",
       " Row(Agency='3-1-1', Agency Name='3-1-1 Call Center', Complaint Type='STAR Exemption', Descriptor='N/A', Location Type='N/A', Incident Zip='11354', City='FLUSHING', Status='Closed', Community Board='Unspecified QUEENS', Borough='QUEENS', Park Borough='QUEENS', Latitude=40.76135763693579, Longitude=-73.83286373960426, Timebin='1', Year='2004', Month='10'),\n",
       " Row(Agency='3-1-1', Agency Name='3-1-1 Call Center', Complaint Type='STAR Exemption', Descriptor='N/A', Location Type='N/A', Incident Zip='11354', City='FLUSHING', Status='Closed', Community Board='Unspecified QUEENS', Borough='QUEENS', Park Borough='QUEENS', Latitude=40.77131358863548, Longitude=-73.83149932407409, Timebin='0', Year='2004', Month='9'),\n",
       " Row(Agency='3-1-1', Agency Name='3-1-1 Call Center', Complaint Type='STAR Exemption', Descriptor='N/A', Location Type='N/A', Incident Zip='11354', City='FLUSHING', Status='Closed', Community Board='Unspecified QUEENS', Borough='QUEENS', Park Borough='QUEENS', Latitude=40.77451127547903, Longitude=-73.82599967120396, Timebin='0', Year='2004', Month='9'),\n",
       " Row(Agency='3-1-1', Agency Name='3-1-1 Call Center', Complaint Type='STAR Exemption', Descriptor='N/A', Location Type='N/A', Incident Zip='11355', City='FLUSHING', Status='Closed', Community Board='Unspecified QUEENS', Borough='QUEENS', Park Borough='QUEENS', Latitude=40.753758719609536, Longitude=-73.82631736286591, Timebin='0', Year='2004', Month='8'),\n",
       " Row(Agency='3-1-1', Agency Name='3-1-1 Call Center', Complaint Type='STAR Exemption', Descriptor='N/A', Location Type='N/A', Incident Zip='11356', City='COLLEGE POINT', Status='Closed', Community Board='Unspecified QUEENS', Borough='QUEENS', Park Borough='QUEENS', Latitude=40.789340936082795, Longitude=-73.85351511431968, Timebin='0', Year='2004', Month='10'),\n",
       " Row(Agency='3-1-1', Agency Name='3-1-1 Call Center', Complaint Type='STAR Exemption', Descriptor='N/A', Location Type='N/A', Incident Zip='11356', City='COLLEGE POINT', Status='Closed', Community Board='Unspecified QUEENS', Borough='QUEENS', Park Borough='QUEENS', Latitude=40.79043852750536, Longitude=-73.84086572873098, Timebin='1', Year='2004', Month='9'),\n",
       " Row(Agency='3-1-1', Agency Name='3-1-1 Call Center', Complaint Type='STAR Exemption', Descriptor='N/A', Location Type='N/A', Incident Zip='11357', City='WHITESTONE', Status='Closed', Community Board='Unspecified QUEENS', Borough='QUEENS', Park Borough='QUEENS', Latitude=40.782207166776935, Longitude=-73.79723308203086, Timebin='0', Year='2004', Month='9'),\n",
       " Row(Agency='3-1-1', Agency Name='3-1-1 Call Center', Complaint Type='STAR Exemption', Descriptor='N/A', Location Type='N/A', Incident Zip='11357', City='WHITESTONE', Status='Closed', Community Board='Unspecified QUEENS', Borough='QUEENS', Park Borough='QUEENS', Latitude=40.79379871085091, Longitude=-73.7975228155548, Timebin='2', Year='2004', Month='7'),\n",
       " Row(Agency='3-1-1', Agency Name='3-1-1 Call Center', Complaint Type='STAR Exemption', Descriptor='N/A', Location Type='N/A', Incident Zip='11360', City='BAYSIDE', Status='Closed', Community Board='Unspecified QUEENS', Borough='QUEENS', Park Borough='QUEENS', Latitude=40.773149706796346, Longitude=-73.78375406504054, Timebin='0', Year='2004', Month='9'),\n",
       " Row(Agency='3-1-1', Agency Name='3-1-1 Call Center', Complaint Type='STAR Exemption', Descriptor='N/A', Location Type='N/A', Incident Zip='11360', City='BAYSIDE', Status='Closed', Community Board='Unspecified QUEENS', Borough='QUEENS', Park Borough='QUEENS', Latitude=40.779640747353106, Longitude=-73.7806999326725, Timebin='0', Year='2004', Month='9'),\n",
       " Row(Agency='3-1-1', Agency Name='3-1-1 Call Center', Complaint Type='STAR Exemption', Descriptor='N/A', Location Type='N/A', Incident Zip='11361', City='BAYSIDE', Status='Closed', Community Board='Unspecified QUEENS', Borough='QUEENS', Park Borough='QUEENS', Latitude=40.75702854049963, Longitude=-73.77591953251208, Timebin='0', Year='2004', Month='9'),\n",
       " Row(Agency='3-1-1', Agency Name='3-1-1 Call Center', Complaint Type='STAR Exemption', Descriptor='N/A', Location Type='N/A', Incident Zip='11361', City='BAYSIDE', Status='Closed', Community Board='Unspecified QUEENS', Borough='QUEENS', Park Borough='QUEENS', Latitude=40.77177386260771, Longitude=-73.77337877517107, Timebin='0', Year='2004', Month='8'),\n",
       " Row(Agency='3-1-1', Agency Name='3-1-1 Call Center', Complaint Type='STAR Exemption', Descriptor='N/A', Location Type='N/A', Incident Zip='11362', City='LITTLE NECK', Status='Closed', Community Board='Unspecified QUEENS', Borough='QUEENS', Park Borough='QUEENS', Latitude=40.75943623800176, Longitude=-73.73126324532429, Timebin='2', Year='2004', Month='6'),\n",
       " Row(Agency='3-1-1', Agency Name='3-1-1 Call Center', Complaint Type='STAR Exemption', Descriptor='N/A', Location Type='N/A', Incident Zip='11362', City='LITTLE NECK', Status='Closed', Community Board='Unspecified QUEENS', Borough='QUEENS', Park Borough='QUEENS', Latitude=40.761192127387226, Longitude=-73.72743701084289, Timebin='0', Year='2004', Month='6'),\n",
       " Row(Agency='3-1-1', Agency Name='3-1-1 Call Center', Complaint Type='STAR Exemption', Descriptor='N/A', Location Type='N/A', Incident Zip='11364', City='OAKLAND GARDENS', Status='Closed', Community Board='Unspecified QUEENS', Borough='QUEENS', Park Borough='QUEENS', Latitude=40.74055943580496, Longitude=-73.74527965189303, Timebin='1', Year='2004', Month='10'),\n",
       " Row(Agency='3-1-1', Agency Name='3-1-1 Call Center', Complaint Type='STAR Exemption', Descriptor='N/A', Location Type='N/A', Incident Zip='11364', City='OAKLAND GARDENS', Status='Closed', Community Board='Unspecified QUEENS', Borough='QUEENS', Park Borough='QUEENS', Latitude=40.74511865412319, Longitude=-73.75678546673173, Timebin='1', Year='2004', Month='8'),\n",
       " Row(Agency='3-1-1', Agency Name='3-1-1 Call Center', Complaint Type='STAR Exemption', Descriptor='N/A', Location Type='N/A', Incident Zip='11365', City='FRESH MEADOWS', Status='Closed', Community Board='Unspecified QUEENS', Borough='QUEENS', Park Borough='QUEENS', Latitude=40.73294682732951, Longitude=-73.79093865487316, Timebin='1', Year='2004', Month='8'),\n",
       " Row(Agency='3-1-1', Agency Name='3-1-1 Call Center', Complaint Type='STAR Exemption', Descriptor='N/A', Location Type='N/A', Incident Zip='11365', City='FRESH MEADOWS', Status='Closed', Community Board='Unspecified QUEENS', Borough='QUEENS', Park Borough='QUEENS', Latitude=40.73430893277964, Longitude=-73.8087125658812, Timebin='2', Year='2004', Month='12'),\n",
       " Row(Agency='3-1-1', Agency Name='3-1-1 Call Center', Complaint Type='STAR Exemption', Descriptor='N/A', Location Type='N/A', Incident Zip='11369', City='EAST ELMHURST', Status='Closed', Community Board='Unspecified QUEENS', Borough='QUEENS', Park Borough='QUEENS', Latitude=40.75870546824639, Longitude=-73.87068493859151, Timebin='0', Year='2004', Month='9'),\n",
       " Row(Agency='3-1-1', Agency Name='3-1-1 Call Center', Complaint Type='STAR Exemption', Descriptor='N/A', Location Type='N/A', Incident Zip='11369', City='EAST ELMHURST', Status='Closed', Community Board='Unspecified QUEENS', Borough='QUEENS', Park Borough='QUEENS', Latitude=40.759529390812965, Longitude=-73.87360717901683, Timebin='0', Year='2004', Month='10'),\n",
       " Row(Agency='3-1-1', Agency Name='3-1-1 Call Center', Complaint Type='STAR Exemption', Descriptor='N/A', Location Type='N/A', Incident Zip='11369', City='EAST ELMHURST', Status='Closed', Community Board='Unspecified QUEENS', Borough='QUEENS', Park Borough='QUEENS', Latitude=40.765063573903596, Longitude=-73.86462587837997, Timebin='1', Year='2004', Month='8'),\n",
       " Row(Agency='3-1-1', Agency Name='3-1-1 Call Center', Complaint Type='STAR Exemption', Descriptor='N/A', Location Type='N/A', Incident Zip='11370', City='EAST ELMHURST', Status='Closed', Community Board='Unspecified QUEENS', Borough='QUEENS', Park Borough='QUEENS', Latitude=40.762667410304935, Longitude=-73.88759660722852, Timebin='1', Year='2004', Month='10'),\n",
       " Row(Agency='3-1-1', Agency Name='3-1-1 Call Center', Complaint Type='STAR Exemption', Descriptor='N/A', Location Type='N/A', Incident Zip='11372', City='JACKSON HEIGHTS', Status='Closed', Community Board='Unspecified QUEENS', Borough='QUEENS', Park Borough='QUEENS', Latitude=40.75131657511027, Longitude=-73.88908110855704, Timebin='0', Year='2004', Month='9'),\n",
       " Row(Agency='3-1-1', Agency Name='3-1-1 Call Center', Complaint Type='STAR Exemption', Descriptor='N/A', Location Type='N/A', Incident Zip='11374', City='REGO PARK', Status='Closed', Community Board='Unspecified QUEENS', Borough='QUEENS', Park Borough='QUEENS', Latitude=40.72091836469749, Longitude=-73.86119814880585, Timebin='0', Year='2004', Month='10'),\n",
       " Row(Agency='3-1-1', Agency Name='3-1-1 Call Center', Complaint Type='STAR Exemption', Descriptor='N/A', Location Type='N/A', Incident Zip='11374', City='REGO PARK', Status='Closed', Community Board='Unspecified QUEENS', Borough='QUEENS', Park Borough='QUEENS', Latitude=40.723749994166674, Longitude=-73.85815453258265, Timebin='2', Year='2004', Month='7'),\n",
       " Row(Agency='3-1-1', Agency Name='3-1-1 Call Center', Complaint Type='STAR Exemption', Descriptor='N/A', Location Type='N/A', Incident Zip='11374', City='REGO PARK', Status='Closed', Community Board='Unspecified QUEENS', Borough='QUEENS', Park Borough='QUEENS', Latitude=40.723749994166674, Longitude=-73.85815453258265, Timebin='2', Year='2004', Month='7'),\n",
       " Row(Agency='3-1-1', Agency Name='3-1-1 Call Center', Complaint Type='STAR Exemption', Descriptor='N/A', Location Type='N/A', Incident Zip='11374', City='REGO PARK', Status='Closed', Community Board='Unspecified QUEENS', Borough='QUEENS', Park Borough='QUEENS', Latitude=40.728009080600884, Longitude=-73.86908123064592, Timebin='0', Year='2004', Month='9'),\n",
       " Row(Agency='3-1-1', Agency Name='3-1-1 Call Center', Complaint Type='STAR Exemption', Descriptor='N/A', Location Type='N/A', Incident Zip='11374', City='REGO PARK', Status='Closed', Community Board='Unspecified QUEENS', Borough='QUEENS', Park Borough='QUEENS', Latitude=40.732045421474524, Longitude=-73.85877552408331, Timebin='0', Year='2004', Month='11'),\n",
       " Row(Agency='3-1-1', Agency Name='3-1-1 Call Center', Complaint Type='STAR Exemption', Descriptor='N/A', Location Type='N/A', Incident Zip='11374', City='REGO PARK', Status='Closed', Community Board='Unspecified QUEENS', Borough='QUEENS', Park Borough='QUEENS', Latitude=40.73239949386417, Longitude=-73.86802983215888, Timebin='0', Year='2004', Month='8'),\n",
       " Row(Agency='3-1-1', Agency Name='3-1-1 Call Center', Complaint Type='STAR Exemption', Descriptor='N/A', Location Type='N/A', Incident Zip='11375', City='FOREST HILLS', Status='Closed', Community Board='Unspecified QUEENS', Borough='QUEENS', Park Borough='QUEENS', Latitude=40.72454631743874, Longitude=-73.85403635471157, Timebin='1', Year='2004', Month='11'),\n",
       " Row(Agency='3-1-1', Agency Name='3-1-1 Call Center', Complaint Type='STAR Exemption', Descriptor='N/A', Location Type='N/A', Incident Zip='11379', City='MIDDLE VILLAGE', Status='Closed', Community Board='Unspecified QUEENS', Borough='QUEENS', Park Borough='QUEENS', Latitude=40.71796665635619, Longitude=-73.88240515068871, Timebin='2', Year='2004', Month='9'),\n",
       " Row(Agency='3-1-1', Agency Name='3-1-1 Call Center', Complaint Type='STAR Exemption', Descriptor='N/A', Location Type='N/A', Incident Zip='11379', City='MIDDLE VILLAGE', Status='Closed', Community Board='Unspecified QUEENS', Borough='QUEENS', Park Borough='QUEENS', Latitude=40.718868399781556, Longitude=-73.87095703645625, Timebin='0', Year='2004', Month='10'),\n",
       " Row(Agency='3-1-1', Agency Name='3-1-1 Call Center', Complaint Type='STAR Exemption', Descriptor='N/A', Location Type='N/A', Incident Zip='11379', City='MIDDLE VILLAGE', Status='Closed', Community Board='Unspecified QUEENS', Borough='QUEENS', Park Borough='QUEENS', Latitude=40.725435838411265, Longitude=-73.87272658872615, Timebin='0', Year='2004', Month='10'),\n",
       " Row(Agency='3-1-1', Agency Name='3-1-1 Call Center', Complaint Type='STAR Exemption', Descriptor='N/A', Location Type='N/A', Incident Zip='11385', City='RIDGEWOOD', Status='Closed', Community Board='Unspecified QUEENS', Borough='QUEENS', Park Borough='QUEENS', Latitude=40.70531462601236, Longitude=-73.87084621723007, Timebin='0', Year='2004', Month='8'),\n",
       " Row(Agency='3-1-1', Agency Name='3-1-1 Call Center', Complaint Type='STAR Exemption', Descriptor='N/A', Location Type='N/A', Incident Zip='11412', City='SAINT ALBANS', Status='Closed', Community Board='Unspecified QUEENS', Borough='QUEENS', Park Borough='QUEENS', Latitude=40.69991505908484, Longitude=-73.76740911346403, Timebin='1', Year='2004', Month='9'),\n",
       " Row(Agency='3-1-1', Agency Name='3-1-1 Call Center', Complaint Type='STAR Exemption', Descriptor='N/A', Location Type='N/A', Incident Zip='11413', City='SPRINGFIELD GARDENS', Status='Closed', Community Board='Unspecified QUEENS', Borough='QUEENS', Park Borough='QUEENS', Latitude=40.66274432433314, Longitude=-73.74997423075379, Timebin='0', Year='2004', Month='6'),\n",
       " Row(Agency='3-1-1', Agency Name='3-1-1 Call Center', Complaint Type='STAR Exemption', Descriptor='N/A', Location Type='N/A', Incident Zip='11413', City='SPRINGFIELD GARDENS', Status='Closed', Community Board='Unspecified QUEENS', Borough='QUEENS', Park Borough='QUEENS', Latitude=40.68553524341543, Longitude=-73.75812776367778, Timebin='0', Year='2004', Month='9'),\n",
       " Row(Agency='3-1-1', Agency Name='3-1-1 Call Center', Complaint Type='STAR Exemption', Descriptor='N/A', Location Type='N/A', Incident Zip='11414', City='HOWARD BEACH', Status='Closed', Community Board='Unspecified QUEENS', Borough='QUEENS', Park Borough='QUEENS', Latitude=40.66553884075515, Longitude=-73.8559173127074, Timebin='0', Year='2004', Month='8'),\n",
       " Row(Agency='3-1-1', Agency Name='3-1-1 Call Center', Complaint Type='STAR Exemption', Descriptor='N/A', Location Type='N/A', Incident Zip='11415', City='KEW GARDENS', Status='Closed', Community Board='Unspecified QUEENS', Borough='QUEENS', Park Borough='QUEENS', Latitude=40.70954413697904, Longitude=-73.82865446459057, Timebin='2', Year='2004', Month='12'),\n",
       " Row(Agency='3-1-1', Agency Name='3-1-1 Call Center', Complaint Type='STAR Exemption', Descriptor='N/A', Location Type='N/A', Incident Zip='11417', City='OZONE PARK', Status='Closed', Community Board='Unspecified QUEENS', Borough='QUEENS', Park Borough='QUEENS', Latitude=40.67747837495425, Longitude=-73.83336597956443, Timebin='1', Year='2004', Month='10'),\n",
       " Row(Agency='3-1-1', Agency Name='3-1-1 Call Center', Complaint Type='STAR Exemption', Descriptor='N/A', Location Type='N/A', Incident Zip='11418', City='RICHMOND HILL', Status='Closed', Community Board='Unspecified QUEENS', Borough='QUEENS', Park Borough='QUEENS', Latitude=40.696835600319176, Longitude=-73.83033880559759, Timebin='1', Year='2004', Month='8'),\n",
       " Row(Agency='3-1-1', Agency Name='3-1-1 Call Center', Complaint Type='STAR Exemption', Descriptor='N/A', Location Type='N/A', Incident Zip='11419', City='SOUTH RICHMOND HILL', Status='Closed', Community Board='Unspecified QUEENS', Borough='QUEENS', Park Borough='QUEENS', Latitude=40.6815629633815, Longitude=-73.83172610448949, Timebin='0', Year='2004', Month='10'),\n",
       " Row(Agency='3-1-1', Agency Name='3-1-1 Call Center', Complaint Type='STAR Exemption', Descriptor='N/A', Location Type='N/A', Incident Zip='11420', City='SOUTH OZONE PARK', Status='Closed', Community Board='Unspecified QUEENS', Borough='QUEENS', Park Borough='QUEENS', Latitude=40.67833243957949, Longitude=-73.81226209692828, Timebin='1', Year='2004', Month='11'),\n",
       " Row(Agency='3-1-1', Agency Name='3-1-1 Call Center', Complaint Type='STAR Exemption', Descriptor='N/A', Location Type='N/A', Incident Zip='11420', City='SOUTH OZONE PARK', Status='Closed', Community Board='Unspecified QUEENS', Borough='QUEENS', Park Borough='QUEENS', Latitude=40.682810844151575, Longitude=-73.82018165561148, Timebin='1', Year='2004', Month='6'),\n",
       " Row(Agency='3-1-1', Agency Name='3-1-1 Call Center', Complaint Type='STAR Exemption', Descriptor='N/A', Location Type='N/A', Incident Zip='11421', City='WOODHAVEN', Status='Closed', Community Board='Unspecified QUEENS', Borough='QUEENS', Park Borough='QUEENS', Latitude=40.688757606780285, Longitude=-73.86094056978627, Timebin='0', Year='2004', Month='8'),\n",
       " Row(Agency='3-1-1', Agency Name='3-1-1 Call Center', Complaint Type='STAR Exemption', Descriptor='N/A', Location Type='N/A', Incident Zip='11421', City='WOODHAVEN', Status='Closed', Community Board='Unspecified QUEENS', Borough='QUEENS', Park Borough='QUEENS', Latitude=40.6904329185223, Longitude=-73.85291386075671, Timebin='0', Year='2004', Month='10'),\n",
       " Row(Agency='3-1-1', Agency Name='3-1-1 Call Center', Complaint Type='STAR Exemption', Descriptor='N/A', Location Type='N/A', Incident Zip='11421', City='WOODHAVEN', Status='Closed', Community Board='Unspecified QUEENS', Borough='QUEENS', Park Borough='QUEENS', Latitude=40.695959809522215, Longitude=-73.85422155104443, Timebin='1', Year='2004', Month='8'),\n",
       " Row(Agency='3-1-1', Agency Name='3-1-1 Call Center', Complaint Type='STAR Exemption', Descriptor='N/A', Location Type='N/A', Incident Zip='11421', City='WOODHAVEN', Status='Closed', Community Board='Unspecified QUEENS', Borough='QUEENS', Park Borough='QUEENS', Latitude=40.69975835995376, Longitude=-73.85190512082949, Timebin='0', Year='2004', Month='10'),\n",
       " Row(Agency='3-1-1', Agency Name='3-1-1 Call Center', Complaint Type='STAR Exemption', Descriptor='N/A', Location Type='N/A', Incident Zip='11422', City='ROSEDALE', Status='Closed', Community Board='Unspecified QUEENS', Borough='QUEENS', Park Borough='QUEENS', Latitude=40.65108573948426, Longitude=-73.73701532745548, Timebin='0', Year='2004', Month='10'),\n",
       " Row(Agency='3-1-1', Agency Name='3-1-1 Call Center', Complaint Type='STAR Exemption', Descriptor='N/A', Location Type='N/A', Incident Zip='11422', City='ROSEDALE', Status='Closed', Community Board='Unspecified QUEENS', Borough='QUEENS', Park Borough='QUEENS', Latitude=40.65736391102832, Longitude=-73.74100921959669, Timebin='1', Year='2004', Month='8'),\n",
       " Row(Agency='3-1-1', Agency Name='3-1-1 Call Center', Complaint Type='STAR Exemption', Descriptor='N/A', Location Type='N/A', Incident Zip='11423', City='HOLLIS', Status='Closed', Community Board='Unspecified QUEENS', Borough='QUEENS', Park Borough='QUEENS', Latitude=40.7183487821393, Longitude=-73.76868675800752, Timebin='0', Year='2004', Month='10'),\n",
       " Row(Agency='3-1-1', Agency Name='3-1-1 Call Center', Complaint Type='STAR Exemption', Descriptor='N/A', Location Type='N/A', Incident Zip='11426', City='BELLEROSE', Status='Closed', Community Board='Unspecified QUEENS', Borough='QUEENS', Park Borough='QUEENS', Latitude=40.75222533138286, Longitude=-73.72297290608645, Timebin='1', Year='2004', Month='8'),\n",
       " Row(Agency='3-1-1', Agency Name='3-1-1 Call Center', Complaint Type='STAR Exemption', Descriptor='N/A', Location Type='N/A', Incident Zip='11427', City='QUEENS VILLAGE', Status='Closed', Community Board='Unspecified QUEENS', Borough='QUEENS', Park Borough='QUEENS', Latitude=40.71991028559255, Longitude=-73.75527931729309, Timebin='0', Year='2004', Month='9'),\n",
       " Row(Agency='3-1-1', Agency Name='3-1-1 Call Center', Complaint Type='STAR Exemption', Descriptor='N/A', Location Type='N/A', Incident Zip='11427', City='QUEENS VILLAGE', Status='Closed', Community Board='Unspecified QUEENS', Borough='QUEENS', Park Borough='QUEENS', Latitude=40.726138906211574, Longitude=-73.75050847316386, Timebin='1', Year='2004', Month='10'),\n",
       " Row(Agency='3-1-1', Agency Name='3-1-1 Call Center', Complaint Type='STAR Exemption', Descriptor='N/A', Location Type='N/A', Incident Zip='11432', City='JAMAICA', Status='Closed', Community Board='Unspecified QUEENS', Borough='QUEENS', Park Borough='QUEENS', Latitude=40.7103534933344, Longitude=-73.79954373011842, Timebin='0', Year='2004', Month='9'),\n",
       " Row(Agency='3-1-1', Agency Name='3-1-1 Call Center', Complaint Type='STAR Exemption', Descriptor='N/A', Location Type='N/A', Incident Zip='11432', City='JAMAICA', Status='Closed', Community Board='Unspecified QUEENS', Borough='QUEENS', Park Borough='QUEENS', Latitude=40.714294533348706, Longitude=-73.80406617163462, Timebin='1', Year='2004', Month='8'),\n",
       " Row(Agency='3-1-1', Agency Name='3-1-1 Call Center', Complaint Type='STAR Exemption', Descriptor='N/A', Location Type='N/A', Incident Zip='11433', City='JAMAICA', Status='Closed', Community Board='Unspecified QUEENS', Borough='QUEENS', Park Borough='QUEENS', Latitude=40.695415980295124, Longitude=-73.7870606534328, Timebin='1', Year='2004', Month='10'),\n",
       " Row(Agency='3-1-1', Agency Name='3-1-1 Call Center', Complaint Type='STAR Exemption', Descriptor='N/A', Location Type='N/A', Incident Zip='11433', City='JAMAICA', Status='Closed', Community Board='Unspecified QUEENS', Borough='QUEENS', Park Borough='QUEENS', Latitude=40.703324078905105, Longitude=-73.79178173456141, Timebin='2', Year='2004', Month='7'),\n",
       " Row(Agency='3-1-1', Agency Name='3-1-1 Call Center', Complaint Type='STAR Exemption', Descriptor='N/A', Location Type='N/A', Incident Zip='11434', City='JAMAICA', Status='Closed', Community Board='Unspecified QUEENS', Borough='QUEENS', Park Borough='QUEENS', Latitude=40.66825696528838, Longitude=-73.7702483043533, Timebin='2', Year='2004', Month='7'),\n",
       " Row(Agency='3-1-1', Agency Name='3-1-1 Call Center', Complaint Type='STAR Exemption', Descriptor='N/A', Location Type='N/A', Incident Zip='11434', City='JAMAICA', Status='Closed', Community Board='Unspecified QUEENS', Borough='QUEENS', Park Borough='QUEENS', Latitude=40.67081665925554, Longitude=-73.76828563846571, Timebin='0', Year='2004', Month='9'),\n",
       " Row(Agency='3-1-1', Agency Name='3-1-1 Call Center', Complaint Type='STAR Exemption', Descriptor='N/A', Location Type='N/A', Incident Zip='11434', City='JAMAICA', Status='Closed', Community Board='Unspecified QUEENS', Borough='QUEENS', Park Borough='QUEENS', Latitude=40.67263590534111, Longitude=-73.76665707471889, Timebin='0', Year='2004', Month='9'),\n",
       " Row(Agency='3-1-1', Agency Name='3-1-1 Call Center', Complaint Type='STAR Exemption', Descriptor='N/A', Location Type='N/A', Incident Zip='11434', City='JAMAICA', Status='Closed', Community Board='Unspecified QUEENS', Borough='QUEENS', Park Borough='QUEENS', Latitude=40.68751666594706, Longitude=-73.77558702127641, Timebin='0', Year='2004', Month='10'),\n",
       " Row(Agency='3-1-1', Agency Name='3-1-1 Call Center', Complaint Type='STAR Exemption', Descriptor='N/A', Location Type='N/A', Incident Zip='11434', City='JAMAICA', Status='Closed', Community Board='Unspecified QUEENS', Borough='QUEENS', Park Borough='QUEENS', Latitude=40.69257119783402, Longitude=-73.77349652315965, Timebin='1', Year='2004', Month='10'),\n",
       " Row(Agency='3-1-1', Agency Name='3-1-1 Call Center', Complaint Type='STAR Exemption', Descriptor='N/A', Location Type='N/A', Incident Zip='11435', City='JAMAICA', Status='Closed', Community Board='Unspecified QUEENS', Borough='QUEENS', Park Borough='QUEENS', Latitude=40.710133163810006, Longitude=-73.81723316432097, Timebin='0', Year='2004', Month='12'),\n",
       " Row(Agency='3-1-1', Agency Name='3-1-1 Call Center', Complaint Type='STAR Exemption', Descriptor='N/A', Location Type='N/A', Incident Zip='11435', City='JAMAICA', Status='Closed', Community Board='Unspecified QUEENS', Borough='QUEENS', Park Borough='QUEENS', Latitude=40.71295578368697, Longitude=-73.81960615079403, Timebin='1', Year='2004', Month='9'),\n",
       " Row(Agency='3-1-1', Agency Name='3-1-1 Call Center', Complaint Type='STAR Exemption', Descriptor='N/A', Location Type='N/A', Incident Zip='11694', City='ROCKAWAY PARK', Status='Closed', Community Board='Unspecified QUEENS', Borough='QUEENS', Park Borough='QUEENS', Latitude=40.57937356327699, Longitude=-73.84689813998213, Timebin='2', Year='2004', Month='12'),\n",
       " Row(Agency='3-1-1', Agency Name='311 Quality Assurance', Complaint Type='Beach/Pool/Sauna Complaint', Descriptor='Beach/Pool Water', Location Type='Other (Explain Below)', Incident Zip='10013', City='NEW YORK', Status='Closed', Community Board='02 MANHATTAN', Borough='MANHATTAN', Park Borough='MANHATTAN', Latitude=40.717664306526935, Longitude=-73.99523822165833, Timebin='2', Year='2004', Month='9'),\n",
       " Row(Agency='3-1-1', Agency Name='311 Quality Assurance', Complaint Type='Beach/Pool/Sauna Complaint', Descriptor='Safety Equipment/Signs', Location Type='Other (Explain Below)', Incident Zip='10312', City='STATEN ISLAND', Status='Closed', Community Board='03 STATEN ISLAND', Borough='STATEN ISLAND', Park Borough='STATEN ISLAND', Latitude=40.559264001648614, Longitude=-74.17500163197083, Timebin='2', Year='2004', Month='5'),\n",
       " Row(Agency='3-1-1', Agency Name='311 Quality Assurance', Complaint Type='Blocked Driveway', Descriptor='No Access', Location Type='Street/Sidewalk', Incident Zip='11238', City='BROOKLYN', Status='Closed', Community Board='55 BROOKLYN', Borough='BROOKLYN', Park Borough='BROOKLYN', Latitude=40.6720985338267, Longitude=-73.9645345669456, Timebin='2', Year='2004', Month='4'),\n",
       " Row(Agency='3-1-1', Agency Name='311 Quality Assurance', Complaint Type='Blocked Driveway', Descriptor='No Access', Location Type='Street/Sidewalk', Incident Zip='11361', City='BAYSIDE', Status='Closed', Community Board='11 QUEENS', Borough='QUEENS', Park Borough='QUEENS', Latitude=40.7654420660325, Longitude=-73.77495262331544, Timebin='2', Year='2004', Month='6'),\n",
       " Row(Agency='3-1-1', Agency Name='311 Quality Assurance', Complaint Type='Blocked Driveway', Descriptor='Partial Access', Location Type='Street/Sidewalk', Incident Zip='11205', City='BROOKLYN', Status='Closed', Community Board='02 BROOKLYN', Borough='BROOKLYN', Park Borough='BROOKLYN', Latitude=40.69257244448815, Longitude=-73.96671615533717, Timebin='2', Year='2004', Month='8'),\n",
       " Row(Agency='3-1-1', Agency Name='311 Quality Assurance', Complaint Type='Food Establishment', Descriptor='Food Contains Foreign Object', Location Type='Restaurant/Bar/Deli/Bakery', Incident Zip='11224', City='BROOKLYN', Status='Closed', Community Board='13 BROOKLYN', Borough='BROOKLYN', Park Borough='BROOKLYN', Latitude=40.576977782069896, Longitude=-74.00233267643686, Timebin='2', Year='2004', Month='12'),\n",
       " Row(Agency='3-1-1', Agency Name='311 Quality Assurance', Complaint Type='Food Establishment', Descriptor='Sewage', Location Type='Restaurant/Bar/Deli/Bakery', Incident Zip='10027', City='NEW YORK', Status='Closed', Community Board='09 MANHATTAN', Borough='MANHATTAN', Park Borough='MANHATTAN', Latitude=40.81447791502363, Longitude=-73.95918060400251, Timebin='2', Year='2004', Month='11'),\n",
       " Row(Agency='3-1-1', Agency Name='311 Quality Assurance', Complaint Type='Food Poisoning', Descriptor='1 or 2', Location Type='Other (Explain Below)', Incident Zip='11235', City='BROOKLYN', Status='Closed', Community Board='13 BROOKLYN', Borough='BROOKLYN', Park Borough='BROOKLYN', Latitude=40.57821336709744, Longitude=-73.9575718608639, Timebin='2', Year='2004', Month='12'),\n",
       " Row(Agency='3-1-1', Agency Name='311 Quality Assurance', Complaint Type='Food Poisoning', Descriptor='1 or 2', Location Type='Restaurant/Bar/Deli/Bakery', Incident Zip='10009', City='NEW YORK', Status='Closed', Community Board='06 MANHATTAN', Borough='MANHATTAN', Park Borough='MANHATTAN', Latitude=40.7311809437478, Longitude=-73.98209641134773, Timebin='2', Year='2004', Month='8'),\n",
       " Row(Agency='3-1-1', Agency Name='311 Quality Assurance', Complaint Type='Food Poisoning', Descriptor='1 or 2', Location Type='Restaurant/Bar/Deli/Bakery', Incident Zip='11104', City='SUNNYSIDE', Status='Closed', Community Board='02 QUEENS', Borough='QUEENS', Park Borough='QUEENS', Latitude=40.74296972306578, Longitude=-73.91858956528277, Timebin='2', Year='2004', Month='11'),\n",
       " Row(Agency='3-1-1', Agency Name='311 Quality Assurance', Complaint Type='Health and Safety', Descriptor='N/A', Location Type='Phone Call', Incident Zip='10025', City='NEW YORK', Status='Closed', Community Board='07 MANHATTAN', Borough='MANHATTAN', Park Borough='MANHATTAN', Latitude=40.795156439065714, Longitude=-73.97329216597781, Timebin='2', Year='2004', Month='7'),\n",
       " Row(Agency='3-1-1', Agency Name='311 Quality Assurance', Complaint Type='Highway Condition', Descriptor='High Grass', Location Type='Highway', Incident Zip='10314', City='STATEN ISLAND', Status='Closed', Community Board='02 STATEN ISLAND', Borough='STATEN ISLAND', Park Borough='STATEN ISLAND', Latitude=40.61087166039743, Longitude=-74.11676510592862, Timebin='2', Year='2004', Month='8'),\n",
       " Row(Agency='3-1-1', Agency Name='311 Quality Assurance', Complaint Type='Highway Condition', Descriptor='Highway Fence', Location Type='Highway', Incident Zip='10019', City='NEW YORK', Status='Closed', Community Board='Unspecified MANHATTAN', Borough='MANHATTAN', Park Borough='MANHATTAN', Latitude=40.76669639869369, Longitude=-73.99268962111164, Timebin='2', Year='2004', Month='9'),\n",
       " Row(Agency='3-1-1', Agency Name='311 Quality Assurance', Complaint Type='Highway Condition', Descriptor='Litter', Location Type='Highway', Incident Zip='10037', City='NEW YORK', Status='Closed', Community Board='11 MANHATTAN', Borough='MANHATTAN', Park Borough='MANHATTAN', Latitude=40.8147574691533, Longitude=-73.9344878238289, Timebin='2', Year='2004', Month='8'),\n",
       " Row(Agency='3-1-1', Agency Name='311 Quality Assurance', Complaint Type='Highway Condition', Descriptor='Litter', Location Type='Highway', Incident Zip='10038', City='NEW YORK', Status='Closed', Community Board='01 MANHATTAN', Borough='MANHATTAN', Park Borough='MANHATTAN', Latitude=40.70790403213484, Longitude=-74.00012263390771, Timebin='2', Year='2004', Month='5'),\n",
       " Row(Agency='3-1-1', Agency Name='311 Quality Assurance', Complaint Type='Highway Condition', Descriptor='Litter', Location Type='Highway', Incident Zip='11234', City='BROOKLYN', Status='Closed', Community Board='18 BROOKLYN', Borough='BROOKLYN', Park Borough='BROOKLYN', Latitude=40.621975694297724, Longitude=-73.9378686253625, Timebin='2', Year='2004', Month='4'),\n",
       " Row(Agency='3-1-1', Agency Name='311 Quality Assurance', Complaint Type='Highway Condition', Descriptor='Pothole - Highway', Location Type='Highway', Incident Zip='10023', City='NEW YORK', Status='Closed', Community Board='07 MANHATTAN', Borough='MANHATTAN', Park Borough='MANHATTAN', Latitude=40.772058571326426, Longitude=-73.98281832366405, Timebin='2', Year='2004', Month='5'),\n",
       " Row(Agency='3-1-1', Agency Name='311 Quality Assurance', Complaint Type='Highway Condition', Descriptor='Pothole - Highway', Location Type='Highway', Incident Zip='10309', City='STATEN ISLAND', Status='Closed', Community Board='03 STATEN ISLAND', Borough='STATEN ISLAND', Park Borough='STATEN ISLAND', Latitude=40.51604967880251, Longitude=-74.19046151140368, Timebin='2', Year='2004', Month='9'),\n",
       " Row(Agency='3-1-1', Agency Name='311 Quality Assurance', Complaint Type='Highway Condition', Descriptor='Pothole - Highway', Location Type='Highway', Incident Zip='11231', City='BROOKLYN', Status='Closed', Community Board='06 BROOKLYN', Borough='BROOKLYN', Park Borough='BROOKLYN', Latitude=40.6798304865179, Longitude=-74.00352604330767, Timebin='2', Year='2004', Month='6'),\n",
       " Row(Agency='3-1-1', Agency Name='311 Quality Assurance', Complaint Type='Highway Condition', Descriptor='Pothole - Highway', Location Type='Highway', Incident Zip='11231', City='BROOKLYN', Status='Closed', Community Board='06 BROOKLYN', Borough='BROOKLYN', Park Borough='BROOKLYN', Latitude=40.68254222303452, Longitude=-74.0059346659505, Timebin='2', Year='2004', Month='6'),\n",
       " Row(Agency='3-1-1', Agency Name='311 Quality Assurance', Complaint Type='Highway Condition', Descriptor='Pothole - Highway', Location Type='Highway', Incident Zip='11238', City='BROOKLYN', Status='Closed', Community Board='08 BROOKLYN', Borough='BROOKLYN', Park Borough='BROOKLYN', Latitude=40.67223867842401, Longitude=-73.96506081529249, Timebin='2', Year='2004', Month='7'),\n",
       " Row(Agency='3-1-1', Agency Name='311 Quality Assurance', Complaint Type='Illegal Animal - Sold/Kept', Descriptor='Other', Location Type='Residential Building/House', Incident Zip='10466', City='BRONX', Status='Closed', Community Board='12 BRONX', Borough='BRONX', Park Borough='BRONX', Latitude=40.89094395376809, Longitude=-73.85730588788404, Timebin='2', Year='2004', Month='7'),\n",
       " Row(Agency='3-1-1', Agency Name='311 Quality Assurance', Complaint Type='Indoor Air Quality', Descriptor='Other (Explain Below)', Location Type='Commercial Building', Incident Zip='11385', City='RIDGEWOOD', Status='Closed', Community Board='05 QUEENS', Borough='QUEENS', Park Borough='QUEENS', Latitude=40.70622305540921, Longitude=-73.88637891098658, Timebin='2', Year='2004', Month='8'),\n",
       " Row(Agency='3-1-1', Agency Name='311 Quality Assurance', Complaint Type='Indoor Unsanitary Condition', Descriptor='N/A', Location Type='Commercial Building', Incident Zip='10310', City='STATEN ISLAND', Status='Closed', Community Board='01 STATEN ISLAND', Borough='STATEN ISLAND', Park Borough='STATEN ISLAND', Latitude=40.627173122175925, Longitude=-74.124492211172, Timebin='2', Year='2004', Month='8'),\n",
       " Row(Agency='3-1-1', Agency Name='311 Quality Assurance', Complaint Type='Indoor Unsanitary Condition', Descriptor='N/A', Location Type='Other (Explain Below)', Incident Zip='11417', City='OZONE PARK', Status='Closed', Community Board='10 QUEENS', Borough='QUEENS', Park Borough='QUEENS', Latitude=40.679804827916115, Longitude=-73.83835359861577, Timebin='2', Year='2004', Month='5'),\n",
       " Row(Agency='3-1-1', Agency Name='311 Quality Assurance', Complaint Type='Indoor Unsanitary Condition', Descriptor='N/A', Location Type='Residential Building/House', Incident Zip='11103', City='ASTORIA', Status='Closed', Community Board='01 QUEENS', Borough='QUEENS', Park Borough='QUEENS', Latitude=40.76558088823478, Longitude=-73.91471005140868, Timebin='2', Year='2004', Month='7'),\n",
       " Row(Agency='3-1-1', Agency Name='311 Quality Assurance', Complaint Type='Indoor Unsanitary Condition', Descriptor='N/A', Location Type='Restaurant/Bar/Deli/Bakery', Incident Zip='11211', City='BROOKLYN', Status='Closed', Community Board='01 BROOKLYN', Borough='BROOKLYN', Park Borough='BROOKLYN', Latitude=40.71315604250328, Longitude=-73.93574197757637, Timebin='2', Year='2004', Month='7'),\n",
       " Row(Agency='3-1-1', Agency Name='311 Quality Assurance', Complaint Type='Noise - Street/Sidewalk', Descriptor='N/A', Location Type='N/A', Incident Zip='10469', City='BRONX', Status='Closed', Community Board='11 BRONX', Borough='BRONX', Park Borough='BRONX', Latitude=40.87118993497773, Longitude=-73.85043498094703, Timebin='2', Year='2004', Month='8'),\n",
       " Row(Agency='3-1-1', Agency Name='311 Quality Assurance', Complaint Type='Noise - Vehicle', Descriptor='N/A', Location Type='Street/Sidewalk', Incident Zip='10022', City='NEW YORK', Status='Closed', Community Board='06 MANHATTAN', Borough='MANHATTAN', Park Borough='MANHATTAN', Latitude=40.75676421229661, Longitude=-73.96715331852165, Timebin='2', Year='2004', Month='5'),\n",
       " Row(Agency='3-1-1', Agency Name='311 Quality Assurance', Complaint Type='Sidewalk Condition', Descriptor='Blocked - Construction', Location Type='Sidewalk', Incident Zip='11203', City='BROOKLYN', Status='Closed', Community Board='17 BROOKLYN', Borough='BROOKLYN', Park Borough='BROOKLYN', Latitude=40.65342477073302, Longitude=-73.9365923753129, Timebin='2', Year='2004', Month='7'),\n",
       " Row(Agency='3-1-1', Agency Name='311 Quality Assurance', Complaint Type='Sidewalk Condition', Descriptor='Blocked - Construction', Location Type='Sidewalk', Incident Zip='11223', City='BROOKLYN', Status='Closed', Community Board='15 BROOKLYN', Borough='BROOKLYN', Park Borough='BROOKLYN', Latitude=40.593669971595574, Longitude=-73.98014568938227, Timebin='2', Year='2004', Month='6'),\n",
       " Row(Agency='3-1-1', Agency Name='311 Quality Assurance', Complaint Type='Sidewalk Condition', Descriptor='Blocked - Construction', Location Type='Sidewalk', Incident Zip='11364', City='OAKLAND GARDENS', Status='Closed', Community Board='11 QUEENS', Borough='QUEENS', Park Borough='QUEENS', Latitude=40.75254479770946, Longitude=-73.74856882643651, Timebin='2', Year='2004', Month='9'),\n",
       " Row(Agency='3-1-1', Agency Name='311 Quality Assurance', Complaint Type='Sidewalk Condition', Descriptor='Blocked - Construction', Location Type='Sidewalk', Incident Zip='11421', City='WOODHAVEN', Status='Closed', Community Board='09 QUEENS', Borough='QUEENS', Park Borough='QUEENS', Latitude=40.68744574317284, Longitude=-73.86105508473509, Timebin='2', Year='2004', Month='8'),\n",
       " Row(Agency='3-1-1', Agency Name='311 Quality Assurance', Complaint Type='Sidewalk Condition', Descriptor='Sidewalk Staircase', Location Type='Sidewalk', Incident Zip='11219', City='BROOKLYN', Status='Closed', Community Board='12 BROOKLYN', Borough='BROOKLYN', Park Borough='BROOKLYN', Latitude=40.633235141867154, Longitude=-73.99974059523686, Timebin='2', Year='2004', Month='5'),\n",
       " Row(Agency='3-1-1', Agency Name='311 Quality Assurance', Complaint Type='Sidewalk Condition', Descriptor='Sidewalk Staircase', Location Type='Sidewalk', Incident Zip='11229', City='BROOKLYN', Status='Closed', Community Board='15 BROOKLYN', Borough='BROOKLYN', Park Borough='BROOKLYN', Latitude=40.5962728983609, Longitude=-73.94210913759039, Timebin='2', Year='2004', Month='12'),\n",
       " Row(Agency='3-1-1', Agency Name='311 Quality Assurance', Complaint Type='Street Condition', Descriptor='Blocked - Construction', Location Type='Street', Incident Zip='10026', City='NEW YORK', Status='Closed', Community Board='10 MANHATTAN', Borough='MANHATTAN', Park Borough='MANHATTAN', Latitude=40.80251134724947, Longitude=-73.94676986375143, Timebin='2', Year='2004', Month='6'),\n",
       " Row(Agency='3-1-1', Agency Name='311 Quality Assurance', Complaint Type='Street Condition', Descriptor='Blocked - Construction', Location Type='Street', Incident Zip='11412', City='SAINT ALBANS', Status='Closed', Community Board='12 QUEENS', Borough='QUEENS', Park Borough='QUEENS', Latitude=40.70531672552288, Longitude=-73.75806320358245, Timebin='2', Year='2004', Month='8'),\n",
       " Row(Agency='3-1-1', Agency Name='311 Quality Assurance', Complaint Type='Street Condition', Descriptor='Blocked - Construction', Location Type='Street', Incident Zip='11432', City='JAMAICA', Status='Closed', Community Board='08 QUEENS', Borough='QUEENS', Park Borough='QUEENS', Latitude=40.70950060422842, Longitude=-73.80476198113763, Timebin='2', Year='2004', Month='7'),\n",
       " Row(Agency='3-1-1', Agency Name='311 Quality Assurance', Complaint Type='Street Condition', Descriptor='Construction Noise', Location Type='Street', Incident Zip='11106', City='ASTORIA', Status='Closed', Community Board='01 QUEENS', Borough='QUEENS', Park Borough='QUEENS', Latitude=40.762826840974405, Longitude=-73.93397937562771, Timebin='2', Year='2004', Month='6'),\n",
       " Row(Agency='3-1-1', Agency Name='311 Quality Assurance', Complaint Type='Street Condition', Descriptor='Failed Street Repair', Location Type='Street', Incident Zip='11411', City='CAMBRIA HEIGHTS', Status='Closed', Community Board='13 QUEENS', Borough='QUEENS', Park Borough='QUEENS', Latitude=40.6867768633966, Longitude=-73.73134694439871, Timebin='2', Year='2004', Month='9'),\n",
       " Row(Agency='3-1-1', Agency Name='311 Quality Assurance', Complaint Type='Street Condition', Descriptor='Manhole Cover Defects', Location Type='Street', Incident Zip='11357', City='WHITESTONE', Status='Closed', Community Board='07 QUEENS', Borough='QUEENS', Park Borough='QUEENS', Latitude=40.78662850659504, Longitude=-73.8272932967069, Timebin='2', Year='2004', Month='4'),\n",
       " Row(Agency='3-1-1', Agency Name='311 Quality Assurance', Complaint Type='Street Condition', Descriptor='Plate Condition - Noisy', Location Type='Street', Incident Zip='11222', City='BROOKLYN', Status='Closed', Community Board='01 BROOKLYN', Borough='BROOKLYN', Park Borough='BROOKLYN', Latitude=40.71945482017934, Longitude=-73.94551585230045, Timebin='2', Year='2004', Month='5'),\n",
       " Row(Agency='3-1-1', Agency Name='311 Quality Assurance', Complaint Type='Street Condition', Descriptor='Plate Condition - Shifted', Location Type='Street', Incident Zip='10024', City='NEW YORK', Status='Closed', Community Board='07 MANHATTAN', Borough='MANHATTAN', Park Borough='MANHATTAN', Latitude=40.78384401265165, Longitude=-73.97998787457806, Timebin='2', Year='2004', Month='6'),\n",
       " Row(Agency='3-1-1', Agency Name='311 Quality Assurance', Complaint Type='Street Condition', Descriptor='Rough, Pitted or Cracked Roads', Location Type='Street', Incident Zip='10461', City='BRONX', Status='Closed', Community Board='11 BRONX', Borough='BRONX', Park Borough='BRONX', Latitude=40.85437287398284, Longitude=-73.85893510850995, Timebin='2', Year='2004', Month='11'),\n",
       " Row(Agency='3-1-1', Agency Name='311 Quality Assurance', Complaint Type='Street Condition', Descriptor='Rough, Pitted or Cracked Roads', Location Type='Street', Incident Zip='10471', City='BRONX', Status='Closed', Community Board='08 BRONX', Borough='BRONX', Park Borough='BRONX', Latitude=40.900879373924425, Longitude=-73.90835437612307, Timebin='2', Year='2004', Month='11'),\n",
       " Row(Agency='3-1-1', Agency Name='311 Quality Assurance', Complaint Type='Street Condition', Descriptor='Rough, Pitted or Cracked Roads', Location Type='Street', Incident Zip='10472', City='BRONX', Status='Closed', Community Board='09 BRONX', Borough='BRONX', Park Borough='BRONX', Latitude=40.829113675580764, Longitude=-73.86381984925428, Timebin='2', Year='2004', Month='12'),\n",
       " Row(Agency='3-1-1', Agency Name='311 Quality Assurance', Complaint Type='Street Condition', Descriptor='Unsafe Worksite', Location Type='Street', Incident Zip='11223', City='BROOKLYN', Status='Closed', Community Board='15 BROOKLYN', Borough='BROOKLYN', Park Borough='BROOKLYN', Latitude=40.59947655851327, Longitude=-73.96328037430709, Timebin='2', Year='2004', Month='11'),\n",
       " Row(Agency='3-1-1', Agency Name='311 Quality Assurance', Complaint Type='Street Sign - Damaged', Descriptor='Other Sign Type', Location Type='Street', Incident Zip='10314', City='STATEN ISLAND', Status='Closed', Community Board='02 STATEN ISLAND', Borough='STATEN ISLAND', Park Borough='STATEN ISLAND', Latitude=40.60954033360499, Longitude=-74.1499692469041, Timebin='2', Year='2004', Month='9'),\n",
       " Row(Agency='3-1-1', Agency Name='311 Quality Assurance', Complaint Type='Unleashed Dog', Descriptor='N/A', Location Type='N/A', Incident Zip='10469', City='BRONX', Status='Closed', Community Board='12 BRONX', Borough='BRONX', Park Borough='BRONX', Latitude=40.87789310915845, Longitude=-73.8509189248091, Timebin='2', Year='2004', Month='6'),\n",
       " Row(Agency='3-1-1', Agency Name='311 Quality Assurance', Complaint Type='Unleashed Dog', Descriptor='N/A', Location Type='Residential Building/House', Incident Zip='10306', City='STATEN ISLAND', Status='Closed', Community Board='03 STATEN ISLAND', Borough='STATEN ISLAND', Park Borough='STATEN ISLAND', Latitude=40.55439734658734, Longitude=-74.1112001438374, Timebin='2', Year='2004', Month='5'),\n",
       " Row(Agency='DOE', Agency Name='Central - Department of Education', Complaint Type='DOE Complaint or Compliment', Descriptor='Food and Nutrition', Location Type='Phone Call', Incident Zip='10308', City='STATEN ISLAND', Status='Closed', Community Board='03 STATEN ISLAND', Borough='STATEN ISLAND', Park Borough='STATEN ISLAND', Latitude=40.547691999553464, Longitude=-74.15175549447878, Timebin='0', Year='2004', Month='5'),\n",
       " Row(Agency='DOE', Agency Name='Central - Department of Education', Complaint Type='DOE Complaint or Compliment', Descriptor='N/A', Location Type='Face-to-face', Incident Zip='11234', City='BROOKLYN', Status='Closed', Community Board='18 BROOKLYN', Borough='BROOKLYN', Park Borough='BROOKLYN', Latitude=40.6212156214943, Longitude=-73.91286288499428, Timebin='2', Year='2004', Month='11'),\n",
       " Row(Agency='DOE', Agency Name='Central - Department of Education', Complaint Type='DOE Complaint or Compliment', Descriptor='N/A', Location Type='Phone Call', Incident Zip='10002', City='NEW YORK', Status='Closed', Community Board='03 MANHATTAN', Borough='MANHATTAN', Park Borough='MANHATTAN', Latitude=40.71677735364113, Longitude=-73.98933664432391, Timebin='0', Year='2004', Month='6'),\n",
       " Row(Agency='DOE', Agency Name='Central - Department of Education', Complaint Type='DOE Complaint or Compliment', Descriptor='N/A', Location Type='Phone Call', Incident Zip='10024', City='NEW YORK', Status='Closed', Community Board='07 MANHATTAN', Borough='MANHATTAN', Park Borough='MANHATTAN', Latitude=40.780824219342904, Longitude=-73.97686180362996, Timebin='2', Year='2004', Month='11'),\n",
       " Row(Agency='DOE', Agency Name='Central - Department of Education', Complaint Type='DOE Complaint or Compliment', Descriptor='N/A', Location Type='Phone Call', Incident Zip='10035', City='NEW YORK', Status='Closed', Community Board='11 MANHATTAN', Borough='MANHATTAN', Park Borough='MANHATTAN', Latitude=40.79900751621387, Longitude=-73.93322835266925, Timebin='2', Year='2004', Month='5'),\n",
       " Row(Agency='DOE', Agency Name='Central - Department of Education', Complaint Type='DOE Complaint or Compliment', Descriptor='N/A', Location Type='Phone Call', Incident Zip='10040', City='NEW YORK', Status='Closed', Community Board='12 MANHATTAN', Borough='MANHATTAN', Park Borough='MANHATTAN', Latitude=40.860866353018494, Longitude=-73.93063200762708, Timebin='2', Year='2004', Month='11'),\n",
       " Row(Agency='DOE', Agency Name='Central - Department of Education', Complaint Type='DOE Complaint or Compliment', Descriptor='N/A', Location Type='Phone Call', Incident Zip='10040', City='NEW YORK', Status='Closed', Community Board='12 MANHATTAN', Borough='MANHATTAN', Park Borough='MANHATTAN', Latitude=40.860866353018494, Longitude=-73.93063200762708, Timebin='2', Year='2004', Month='9'),\n",
       " Row(Agency='DOE', Agency Name='Central - Department of Education', Complaint Type='DOE Complaint or Compliment', Descriptor='N/A', Location Type='Phone Call', Incident Zip='10308', City='STATEN ISLAND', Status='Closed', Community Board='03 STATEN ISLAND', Borough='STATEN ISLAND', Park Borough='STATEN ISLAND', Latitude=40.547691999553464, Longitude=-74.15175549447878, Timebin='0', Year='2004', Month='5'),\n",
       " Row(Agency='DOE', Agency Name='Central - Department of Education', Complaint Type='DOE Complaint or Compliment', Descriptor='N/A', Location Type='Phone Call', Incident Zip='10453', City='BRONX', Status='Closed', Community Board='05 BRONX', Borough='BRONX', Park Borough='BRONX', Latitude=40.85260176356381, Longitude=-73.92160380824093, Timebin='2', Year='2004', Month='5'),\n",
       " Row(Agency='DOE', Agency Name='Central - Department of Education', Complaint Type='DOE Complaint or Compliment', Descriptor='N/A', Location Type='Phone Call', Incident Zip='10455', City='BRONX', Status='Closed', Community Board='02 BRONX', Borough='BRONX', Park Borough='BRONX', Latitude=40.815470010114396, Longitude=-73.90199078740314, Timebin='2', Year='2004', Month='11'),\n",
       " Row(Agency='DOE', Agency Name='Central - Department of Education', Complaint Type='DOE Complaint or Compliment', Descriptor='N/A', Location Type='Phone Call', Incident Zip='10456', City='BRONX', Status='Closed', Community Board='04 BRONX', Borough='BRONX', Park Borough='BRONX', Latitude=40.827940893531895, Longitude=-73.91437356734835, Timebin='2', Year='2004', Month='11'),\n",
       " Row(Agency='DOE', Agency Name='Central - Department of Education', Complaint Type='DOE Complaint or Compliment', Descriptor='N/A', Location Type='Phone Call', Incident Zip='10457', City='BRONX', Status='Closed', Community Board='06 BRONX', Borough='BRONX', Park Borough='BRONX', Latitude=40.84447591491027, Longitude=-73.89853255075008, Timebin='2', Year='2004', Month='12'),\n",
       " Row(Agency='DOE', Agency Name='Central - Department of Education', Complaint Type='DOE Complaint or Compliment', Descriptor='N/A', Location Type='Phone Call', Incident Zip='10467', City='BRONX', Status='Closed', Community Board='07 BRONX', Borough='BRONX', Park Borough='BRONX', Latitude=40.87718776267356, Longitude=-73.88176194215461, Timebin='2', Year='2004', Month='4'),\n",
       " Row(Agency='DOE', Agency Name='Central - Department of Education', Complaint Type='DOE Complaint or Compliment', Descriptor='N/A', Location Type='Phone Call', Incident Zip='10468', City='BRONX', Status='Closed', Community Board='05 BRONX', Borough='BRONX', Park Borough='BRONX', Latitude=40.861847197558326, Longitude=-73.90175975484253, Timebin='0', Year='2004', Month='12'),\n",
       " Row(Agency='DOE', Agency Name='Central - Department of Education', Complaint Type='DOE Complaint or Compliment', Descriptor='N/A', Location Type='Phone Call', Incident Zip='10468', City='BRONX', Status='Closed', Community Board='07 BRONX', Borough='BRONX', Park Borough='BRONX', Latitude=40.86983440336064, Longitude=-73.89873972117059, Timebin='2', Year='2004', Month='9'),\n",
       " Row(Agency='DOE', Agency Name='Central - Department of Education', Complaint Type='DOE Complaint or Compliment', Descriptor='N/A', Location Type='Phone Call', Incident Zip='10468', City='BRONX', Status='Closed', Community Board='07 BRONX', Borough='BRONX', Park Borough='BRONX', Latitude=40.870292388648124, Longitude=-73.89830875660385, Timebin='0', Year='2004', Month='10'),\n",
       " Row(Agency='DOE', Agency Name='Central - Department of Education', Complaint Type='DOE Complaint or Compliment', Descriptor='N/A', Location Type='Phone Call', Incident Zip='10475', City='BRONX', Status='Closed', Community Board='10 BRONX', Borough='BRONX', Park Borough='BRONX', Latitude=40.87412547345674, Longitude=-73.83346256483813, Timebin='2', Year='2004', Month='8'),\n",
       " Row(Agency='DOE', Agency Name='Central - Department of Education', Complaint Type='DOE Complaint or Compliment', Descriptor='N/A', Location Type='Phone Call', Incident Zip='11201', City='NY', Status='Closed', Community Board='07 MANHATTAN', Borough='MANHATTAN', Park Borough='MANHATTAN', Latitude=40.79156289614178, Longitude=-73.97045864899705, Timebin='2', Year='2004', Month='6'),\n",
       " Row(Agency='DOE', Agency Name='Central - Department of Education', Complaint Type='DOE Complaint or Compliment', Descriptor='N/A', Location Type='Phone Call', Incident Zip='11204', City='BROOKLYN', Status='Closed', Community Board='12 BROOKLYN', Borough='BROOKLYN', Park Borough='BROOKLYN', Latitude=40.62702871053936, Longitude=-73.98967160697332, Timebin='1', Year='2004', Month='10'),\n",
       " Row(Agency='DOE', Agency Name='Central - Department of Education', Complaint Type='DOE Complaint or Compliment', Descriptor='N/A', Location Type='Phone Call', Incident Zip='11205', City='BROOKLYN', Status='Closed', Community Board='02 BROOKLYN', Borough='BROOKLYN', Park Borough='BROOKLYN', Latitude=40.69165964042011, Longitude=-73.96175835936121, Timebin='1', Year='2004', Month='12'),\n",
       " Row(Agency='DOE', Agency Name='Central - Department of Education', Complaint Type='DOE Complaint or Compliment', Descriptor='N/A', Location Type='Phone Call', Incident Zip='11207', City='BROOKLYN', Status='Closed', Community Board='05 BROOKLYN', Borough='BROOKLYN', Park Borough='BROOKLYN', Latitude=40.66038538700178, Longitude=-73.88644256787711, Timebin='1', Year='2004', Month='5'),\n",
       " Row(Agency='DOE', Agency Name='Central - Department of Education', Complaint Type='DOE Complaint or Compliment', Descriptor='N/A', Location Type='Phone Call', Incident Zip='11214', City='BROOKLYN', Status='Closed', Community Board='13 BROOKLYN', Borough='BROOKLYN', Park Borough='BROOKLYN', Latitude=40.594291130271344, Longitude=-73.98576986486434, Timebin='1', Year='2004', Month='12'),\n",
       " Row(Agency='DOE', Agency Name='Central - Department of Education', Complaint Type='DOE Complaint or Compliment', Descriptor='N/A', Location Type='Phone Call', Incident Zip='11221', City='BROOKLYN', Status='Closed', Community Board='03 BROOKLYN', Borough='BROOKLYN', Park Borough='BROOKLYN', Latitude=40.6912736057036, Longitude=-73.93369683920483, Timebin='1', Year='2004', Month='11'),\n",
       " Row(Agency='DOE', Agency Name='Central - Department of Education', Complaint Type='DOE Complaint or Compliment', Descriptor='N/A', Location Type='Phone Call', Incident Zip='11223', City='BROOKLYN', Status='Closed', Community Board='11 BROOKLYN', Borough='BROOKLYN', Park Borough='BROOKLYN', Latitude=40.60129991442034, Longitude=-73.97695282749133, Timebin='2', Year='2004', Month='9'),\n",
       " Row(Agency='DOE', Agency Name='Central - Department of Education', Complaint Type='DOE Complaint or Compliment', Descriptor='N/A', Location Type='Phone Call', Incident Zip='11225', City='BROOKLYN', Status='Closed', Community Board='09 BROOKLYN', Borough='BROOKLYN', Park Borough='BROOKLYN', Latitude=40.66503439352457, Longitude=-73.9590305523813, Timebin='2', Year='2004', Month='12'),\n",
       " Row(Agency='DOE', Agency Name='Central - Department of Education', Complaint Type='DOE Complaint or Compliment', Descriptor='N/A', Location Type='Phone Call', Incident Zip='11225', City='BROOKLYN', Status='Closed', Community Board='09 BROOKLYN', Borough='BROOKLYN', Park Borough='BROOKLYN', Latitude=40.666180451646625, Longitude=-73.94901259851812, Timebin='2', Year='2004', Month='5'),\n",
       " Row(Agency='DOE', Agency Name='Central - Department of Education', Complaint Type='DOE Complaint or Compliment', Descriptor='N/A', Location Type='Phone Call', Incident Zip='11226', City='BROOKLYN', Status='Closed', Community Board='14 BROOKLYN', Borough='BROOKLYN', Park Borough='BROOKLYN', Latitude=40.64193643739049, Longitude=-73.96552349311533, Timebin='2', Year='2004', Month='6'),\n",
       " Row(Agency='DOE', Agency Name='Central - Department of Education', Complaint Type='DOE Complaint or Compliment', Descriptor='N/A', Location Type='Phone Call', Incident Zip='11226', City='BROOKLYN', Status='Closed', Community Board='17 BROOKLYN', Borough='BROOKLYN', Park Borough='BROOKLYN', Latitude=40.648044178263866, Longitude=-73.95189135537788, Timebin='0', Year='2004', Month='9'),\n",
       " Row(Agency='DOE', Agency Name='Central - Department of Education', Complaint Type='DOE Complaint or Compliment', Descriptor='N/A', Location Type='Phone Call', Incident Zip='11231', City='BROOKLYN', Status='Closed', Community Board='06 BROOKLYN', Borough='BROOKLYN', Park Borough='BROOKLYN', Latitude=40.68014882289213, Longitude=-73.99493804863285, Timebin='0', Year='2004', Month='5'),\n",
       " Row(Agency='DOE', Agency Name='Central - Department of Education', Complaint Type='DOE Complaint or Compliment', Descriptor='N/A', Location Type='Phone Call', Incident Zip='11233', City='BROOKLYN', Status='Closed', Community Board='16 BROOKLYN', Borough='BROOKLYN', Park Borough='BROOKLYN', Latitude=40.674102446614064, Longitude=-73.91327325935605, Timebin='1', Year='2004', Month='11'),\n",
       " Row(Agency='DOE', Agency Name='Central - Department of Education', Complaint Type='DOE Complaint or Compliment', Descriptor='N/A', Location Type='Phone Call', Incident Zip='11357', City='WHITESTONE', Status='Closed', Community Board='07 QUEENS', Borough='QUEENS', Park Borough='QUEENS', Latitude=40.78394014224328, Longitude=-73.79472176473337, Timebin='1', Year='2004', Month='12'),\n",
       " Row(Agency='DOE', Agency Name='Central - Department of Education', Complaint Type='DOE Complaint or Compliment', Descriptor='N/A', Location Type='Phone Call', Incident Zip='11369', City='EAST ELMHURST', Status='Closed', Community Board='03 QUEENS', Borough='QUEENS', Park Borough='QUEENS', Latitude=40.758407734916645, Longitude=-73.87447200614251, Timebin='2', Year='2004', Month='7'),\n",
       " Row(Agency='DOE', Agency Name='Central - Department of Education', Complaint Type='DOE Complaint or Compliment', Descriptor='N/A', Location Type='Phone Call', Incident Zip='11375', City='FOREST HILLS', Status='Closed', Community Board='06 QUEENS', Borough='QUEENS', Park Borough='QUEENS', Latitude=40.71496899955899, Longitude=-73.85337555480686, Timebin='2', Year='2004', Month='7'),\n",
       " Row(Agency='DOE', Agency Name='Central - Department of Education', Complaint Type='DOE Complaint or Compliment', Descriptor='N/A', Location Type='Phone Call', Incident Zip='11413', City='SPRINGFIELD GARDENS', Status='Closed', Community Board='13 QUEENS', Borough='QUEENS', Park Borough='QUEENS', Latitude=40.67307173664115, Longitude=-73.74318693470464, Timebin='2', Year='2004', Month='12'),\n",
       " Row(Agency='DOE', Agency Name='Central - Department of Education', Complaint Type='DOE Complaint or Compliment', Descriptor='N/A', Location Type='Phone Call', Incident Zip='11420', City='SOUTH OZONE PARK', Status='Closed', Community Board='10 QUEENS', Borough='QUEENS', Park Borough='QUEENS', Latitude=40.679981175886475, Longitude=-73.8220748977146, Timebin='2', Year='2004', Month='6'),\n",
       " Row(Agency='DOE', Agency Name='Central - Department of Education', Complaint Type='DOE Complaint or Compliment', Descriptor='N/A', Location Type='Phone Call', Incident Zip='11428', City='QUEENS VILLAGE', Status='Closed', Community Board='13 QUEENS', Borough='QUEENS', Park Borough='QUEENS', Latitude=40.72072397692975, Longitude=-73.74696444672239, Timebin='2', Year='2004', Month='10'),\n",
       " Row(Agency='DOE', Agency Name='Central - Department of Education', Complaint Type='DOE Complaint or Compliment', Descriptor='N/A', Location Type='Phone Call', Incident Zip='11434', City='JAMAICA', Status='Closed', Community Board='13 QUEENS', Borough='QUEENS', Park Borough='QUEENS', Latitude=40.661127050124385, Longitude=-73.7666757070103, Timebin='1', Year='2004', Month='6'),\n",
       " Row(Agency='DOE', Agency Name='Central - Department of Education', Complaint Type='DOE Complaint or Compliment', Descriptor='Transportation Complaint', Location Type='Phone Call', Incident Zip='11221', City='BROOKLYN', Status='Closed', Community Board='04 BROOKLYN', Borough='BROOKLYN', Park Borough='BROOKLYN', Latitude=40.69331295892488, Longitude=-73.92066600241822, Timebin='2', Year='2004', Month='6'),\n",
       " Row(Agency='DOE', Agency Name='Central - Department of Education', Complaint Type='Discipline and Suspension', Descriptor='N/A', Location Type='Face-to-face', Incident Zip='11206', City='BROOKLYN', Status='Closed', Community Board='03 BROOKLYN', Borough='BROOKLYN', Park Borough='BROOKLYN', Latitude=40.697069046356134, Longitude=-73.94662685340381, Timebin='2', Year='2004', Month='5'),\n",
       " Row(Agency='DOE', Agency Name='Central - Department of Education', Complaint Type='Discipline and Suspension', Descriptor='N/A', Location Type='Phone Call', Incident Zip='10030', City='NEW YORK', Status='Closed', Community Board='10 MANHATTAN', Borough='MANHATTAN', Park Borough='MANHATTAN', Latitude=40.81976631535055, Longitude=-73.94443293914773, Timebin='0', Year='2004', Month='5'),\n",
       " Row(Agency='DOE', Agency Name='Central - Department of Education', Complaint Type='Discipline and Suspension', Descriptor='N/A', Location Type='Phone Call', Incident Zip='10458', City='BRONX', Status='Closed', Community Board='06 BRONX', Borough='BRONX', Park Borough='BRONX', Latitude=40.860042630559846, Longitude=-73.88826712824729, Timebin='2', Year='2004', Month='4'),\n",
       " Row(Agency='DOE', Agency Name='Central - Department of Education', Complaint Type='Discipline and Suspension', Descriptor='N/A', Location Type='Phone Call', Incident Zip='10461', City='BRONX', Status='Closed', Community Board='10 BRONX', Borough='BRONX', Park Borough='BRONX', Latitude=40.84578658791581, Longitude=-73.82982879138943, Timebin='2', Year='2004', Month='4'),\n",
       " Row(Agency='DOE', Agency Name='Central - Department of Education', Complaint Type='Discipline and Suspension', Descriptor='N/A', Location Type='Phone Call', Incident Zip='11423', City='HOLLIS', Status='Closed', Community Board='12 QUEENS', Borough='QUEENS', Park Borough='QUEENS', Latitude=40.71322824071857, Longitude=-73.78051443437629, Timebin='2', Year='2004', Month='5'),\n",
       " Row(Agency='DOE', Agency Name='Central - Department of Education', Complaint Type='Health and Safety', Descriptor='N/A', Location Type='Phone Call', Incident Zip='10028', City='NEW YORK', Status='Closed', Community Board='08 MANHATTAN', Borough='MANHATTAN', Park Borough='MANHATTAN', Latitude=40.78125994716802, Longitude=-73.95574538089927, Timebin='1', Year='2004', Month='11'),\n",
       " Row(Agency='DOE', Agency Name='Central - Department of Education', Complaint Type='Health and Safety', Descriptor='N/A', Location Type='Phone Call', Incident Zip='10035', City='NEW YORK', Status='Closed', Community Board='11 MANHATTAN', Borough='MANHATTAN', Park Borough='MANHATTAN', Latitude=40.807382358293786, Longitude=-73.93943305780009, Timebin='0', Year='2004', Month='11'),\n",
       " Row(Agency='DOE', Agency Name='Central - Department of Education', Complaint Type='Health and Safety', Descriptor='N/A', Location Type='Phone Call', Incident Zip='10302', City='STATEN ISLAND', Status='Closed', Community Board='01 STATEN ISLAND', Borough='STATEN ISLAND', Park Borough='STATEN ISLAND', Latitude=40.636597536895685, Longitude=-74.1329192635625, Timebin='2', Year='2004', Month='4'),\n",
       " Row(Agency='DOE', Agency Name='Central - Department of Education', Complaint Type='Health and Safety', Descriptor='N/A', Location Type='Phone Call', Incident Zip='10451', City='BRONX', Status='Closed', Community Board='01 BRONX', Borough='BRONX', Park Borough='BRONX', Latitude=40.81881531676665, Longitude=-73.9190170374772, Timebin='2', Year='2004', Month='6'),\n",
       " Row(Agency='DOE', Agency Name='Central - Department of Education', Complaint Type='Health and Safety', Descriptor='N/A', Location Type='Phone Call', Incident Zip='11221', City='BROOKLYN', Status='Closed', Community Board='04 BROOKLYN', Borough='BROOKLYN', Park Borough='BROOKLYN', Latitude=40.69107695524461, Longitude=-73.91815169519522, Timebin='2', Year='2004', Month='10'),\n",
       " Row(Agency='DOE', Agency Name='Central - Department of Education', Complaint Type='Health and Safety', Descriptor='N/A', Location Type='Phone Call', Incident Zip='11229', City='BROOKLYN', Status='Closed', Community Board='15 BROOKLYN', Borough='BROOKLYN', Park Borough='BROOKLYN', Latitude=40.609912096919295, Longitude=-73.9485117346521, Timebin='2', Year='2004', Month='11'),\n",
       " Row(Agency='DOE', Agency Name='Central - Department of Education', Complaint Type='Health and Safety', Descriptor='N/A', Location Type='Phone Call', Incident Zip='11233', City='BROOKLYN', Status='Closed', Community Board='16 BROOKLYN', Borough='BROOKLYN', Park Borough='BROOKLYN', Latitude=40.67741460739771, Longitude=-73.9087119382075, Timebin='2', Year='2004', Month='4'),\n",
       " Row(Agency='DOE', Agency Name='Central - Department of Education', Complaint Type='Health and Safety', Descriptor='N/A', Location Type='Phone Call', Incident Zip='11421', City='WOODHAVEN', Status='Closed', Community Board='09 QUEENS', Borough='QUEENS', Park Borough='QUEENS', Latitude=40.69218096506396, Longitude=-73.85262152183503, Timebin='0', Year='2004', Month='12'),\n",
       " Row(Agency='DOE', Agency Name='Central - Department of Education', Complaint Type='No Child Left Behind', Descriptor='N/A', Location Type='Phone Call', Incident Zip='10451', City='BRONX', Status='Closed', Community Board='04 BRONX', Borough='BRONX', Park Borough='BRONX', Latitude=40.82730377509032, Longitude=-73.91766976564443, Timebin='2', Year='2004', Month='10'),\n",
       " Row(Agency='DOE', Agency Name='Central - Department of Education', Complaint Type='Registration and Transfers', Descriptor='N/A', Location Type='Phone Call', Incident Zip='10002', City='NEW YORK', Status='Closed', Community Board='03 MANHATTAN', Borough='MANHATTAN', Park Borough='MANHATTAN', Latitude=40.712398909573075, Longitude=-73.98449658583561, Timebin='2', Year='2004', Month='5'),\n",
       " Row(Agency='DOE', Agency Name='Central - Department of Education', Complaint Type='Registration and Transfers', Descriptor='N/A', Location Type='Phone Call', Incident Zip='10024', City='NEW YORK', Status='Closed', Community Board='07 MANHATTAN', Borough='MANHATTAN', Park Borough='MANHATTAN', Latitude=40.780824219342904, Longitude=-73.97686180362996, Timebin='2', Year='2004', Month='9'),\n",
       " Row(Agency='DOE', Agency Name='Central - Department of Education', Complaint Type='Registration and Transfers', Descriptor='N/A', Location Type='Phone Call', Incident Zip='10457', City='BRONX', Status='Closed', Community Board='06 BRONX', Borough='BRONX', Park Borough='BRONX', Latitude=40.84208400032492, Longitude=-73.89111633417961, Timebin='2', Year='2004', Month='11'),\n",
       " Row(Agency='DOE', Agency Name='Central - Department of Education', Complaint Type='Registration and Transfers', Descriptor='N/A', Location Type='Phone Call', Incident Zip='10459', City='BRONX', Status='Closed', Community Board='02 BRONX', Borough='BRONX', Park Borough='BRONX', Latitude=40.82635984257552, Longitude=-73.89439765091367, Timebin='2', Year='2004', Month='9'),\n",
       " Row(Agency='DOE', Agency Name='Central - Department of Education', Complaint Type='Registration and Transfers', Descriptor='N/A', Location Type='Phone Call', Incident Zip='11214', City='BROOKLYN', Status='Closed', Community Board='13 BROOKLYN', Borough='BROOKLYN', Park Borough='BROOKLYN', Latitude=40.594291130271344, Longitude=-73.98576986486434, Timebin='0', Year='2004', Month='11'),\n",
       " Row(Agency='DOE', Agency Name='Central - Department of Education', Complaint Type='Registration and Transfers', Descriptor='N/A', Location Type='Phone Call', Incident Zip='11215', City='BROOKLYN', Status='Closed', Community Board='06 BROOKLYN', Borough='BROOKLYN', Park Borough='BROOKLYN', Latitude=40.67201504743721, Longitude=-73.98394720753453, Timebin='2', Year='2004', Month='5'),\n",
       " Row(Agency='DOE', Agency Name='Central - Department of Education', Complaint Type='Registration and Transfers', Descriptor='N/A', Location Type='Phone Call', Incident Zip='11229', City='BROOKLYN', Status='Closed', Community Board='18 BROOKLYN', Borough='BROOKLYN', Park Borough='BROOKLYN', Latitude=40.59614464772416, Longitude=-73.92879332909897, Timebin='2', Year='2004', Month='5'),\n",
       " Row(Agency='DOE', Agency Name='Central - Department of Education', Complaint Type='Registration and Transfers', Descriptor='N/A', Location Type='Phone Call', Incident Zip='11234', City='BROOKLYN', Status='Closed', Community Board='18 BROOKLYN', Borough='BROOKLYN', Park Borough='BROOKLYN', Latitude=40.6212156214943, Longitude=-73.91286288499428, Timebin='0', Year='2004', Month='9'),\n",
       " Row(Agency='DOE', Agency Name='Central - Department of Education', Complaint Type='Registration and Transfers', Descriptor='N/A', Location Type='Phone Call', Incident Zip='11433', City='JAMAICA', Status='Closed', Community Board='12 QUEENS', Borough='QUEENS', Park Borough='QUEENS', Latitude=40.69716186080845, Longitude=-73.78717047914238, Timebin='1', Year='2004', Month='10'),\n",
       " Row(Agency='DOE', Agency Name='Central - Department of Education', Complaint Type='Registration and Transfers', Descriptor='N/A', Location Type='Phone Call', Incident Zip='11694', City='ROCKAWAY PARK', Status='Closed', Community Board='14 QUEENS', Borough='QUEENS', Park Borough='QUEENS', Latitude=40.586066173801335, Longitude=-73.82262393753341, Timebin='2', Year='2004', Month='9'),\n",
       " Row(Agency='DOE', Agency Name='Central - Department of Education', Complaint Type='Teaching/Learning/Instruction', Descriptor='Bilingual Program', Location Type='Phone Call', Incident Zip='10031', City='NEW YORK', Status='Closed', Community Board='09 MANHATTAN', Borough='MANHATTAN', Park Borough='MANHATTAN', Latitude=40.81818805934793, Longitude=-73.95035573051915, Timebin='1', Year='2004', Month='6'),\n",
       " Row(Agency='DOE', Agency Name='Central - Department of Education', Complaint Type='Teaching/Learning/Instruction', Descriptor='Bilingual Program', Location Type='Phone Call', Incident Zip='10034', City='NEW YORK', Status='Closed', Community Board='12 MANHATTAN', Borough='MANHATTAN', Park Borough='MANHATTAN', Latitude=40.86782618371043, Longitude=-73.917059184637, Timebin='2', Year='2004', Month='9'),\n",
       " Row(Agency='DOE', Agency Name='Central - Department of Education', Complaint Type='Teaching/Learning/Instruction', Descriptor='Bilingual Program', Location Type='Phone Call', Incident Zip='10458', City='BRONX', Status='Closed', Community Board='05 BRONX', Borough='BRONX', Park Borough='BRONX', Latitude=40.85909923824363, Longitude=-73.89494576978034, Timebin='1', Year='2004', Month='8'),\n",
       " Row(Agency='DOE', Agency Name='Central - Department of Education', Complaint Type='Teaching/Learning/Instruction', Descriptor='Bilingual Program', Location Type='Phone Call', Incident Zip='11217', City='BROOKLYN', Status='Closed', Community Board='02 BROOKLYN', Borough='BROOKLYN', Park Borough='BROOKLYN', Latitude=40.68353977182643, Longitude=-73.98021267666853, Timebin='0', Year='2004', Month='8'),\n",
       " Row(Agency='DOE', Agency Name='Central - Department of Education', Complaint Type='Teaching/Learning/Instruction', Descriptor='Bilingual Program', Location Type='Phone Call', Incident Zip='11377', City='WOODSIDE', Status='Closed', Community Board='02 QUEENS', Borough='QUEENS', Park Borough='QUEENS', Latitude=40.745265198892206, Longitude=-73.90875610550174, Timebin='2', Year='2004', Month='5'),\n",
       " Row(Agency='DOE', Agency Name='Central - Department of Education', Complaint Type='Teaching/Learning/Instruction', Descriptor='Classroom Learning', Location Type='Face-to-face', Incident Zip='11224', City='BROOKLYN', Status='Closed', Community Board='13 BROOKLYN', Borough='BROOKLYN', Park Borough='BROOKLYN', Latitude=40.57460623557571, Longitude=-73.99629232805066, Timebin='2', Year='2004', Month='4'),\n",
       " Row(Agency='DOE', Agency Name='Central - Department of Education', Complaint Type='Teaching/Learning/Instruction', Descriptor='Classroom Learning', Location Type='Phone Call', Incident Zip='10028', City='NEW YORK', Status='Closed', Community Board='08 MANHATTAN', Borough='MANHATTAN', Park Borough='MANHATTAN', Latitude=40.777441063987595, Longitude=-73.96068006208903, Timebin='2', Year='2004', Month='4'),\n",
       " Row(Agency='DOE', Agency Name='Central - Department of Education', Complaint Type='Teaching/Learning/Instruction', Descriptor='Classroom Learning', Location Type='Phone Call', Incident Zip='11212', City='BROOKLYN', Status='Closed', Community Board='16 BROOKLYN', Borough='BROOKLYN', Park Borough='BROOKLYN', Latitude=40.670867880408416, Longitude=-73.90816574736886, Timebin='1', Year='2004', Month='10'),\n",
       " Row(Agency='DOE', Agency Name='Central - Department of Education', Complaint Type='Teaching/Learning/Instruction', Descriptor='Classroom Learning', Location Type='Phone Call', Incident Zip='11218', City='BROOKLYN', Status='Closed', Community Board='12 BROOKLYN', Borough='BROOKLYN', Park Borough='BROOKLYN', Latitude=40.63868553966112, Longitude=-73.97165050807656, Timebin='2', Year='2004', Month='9')]"
      ]
     },
     "execution_count": 300,
     "metadata": {},
     "output_type": "execute_result"
    }
   ],
   "source": [
    "sample_train"
   ]
  },
  {
   "cell_type": "code",
   "execution_count": 299,
   "metadata": {},
   "outputs": [
    {
     "ename": "AttributeError",
     "evalue": "'list' object has no attribute 'randomSplit'",
     "output_type": "error",
     "traceback": [
      "\u001b[0;31m---------------------------------------------------------------------------\u001b[0m",
      "\u001b[0;31mAttributeError\u001b[0m                            Traceback (most recent call last)",
      "\u001b[0;32m<ipython-input-299-94a41a62c35f>\u001b[0m in \u001b[0;36m<module>\u001b[0;34m\u001b[0m\n\u001b[0;32m----> 1\u001b[0;31m \u001b[0;34m(\u001b[0m\u001b[0mnn_train\u001b[0m\u001b[0;34m,\u001b[0m \u001b[0mnn_test\u001b[0m\u001b[0;34m)\u001b[0m \u001b[0;34m=\u001b[0m \u001b[0msample_train\u001b[0m\u001b[0;34m.\u001b[0m\u001b[0mrandomSplit\u001b[0m\u001b[0;34m(\u001b[0m\u001b[0;34m[\u001b[0m\u001b[0;36m0.8\u001b[0m\u001b[0;34m,\u001b[0m \u001b[0;36m0.2\u001b[0m\u001b[0;34m]\u001b[0m\u001b[0;34m)\u001b[0m\u001b[0;34m\u001b[0m\u001b[0;34m\u001b[0m\u001b[0m\n\u001b[0m\u001b[1;32m      2\u001b[0m \u001b[0msample_train\u001b[0m\u001b[0;34m.\u001b[0m\u001b[0mcount\u001b[0m\u001b[0;34m(\u001b[0m\u001b[0;34m)\u001b[0m\u001b[0;34m\u001b[0m\u001b[0;34m\u001b[0m\u001b[0m\n\u001b[1;32m      3\u001b[0m \u001b[0mnn_test\u001b[0m\u001b[0;34m.\u001b[0m\u001b[0mcount\u001b[0m\u001b[0;34m(\u001b[0m\u001b[0;34m)\u001b[0m\u001b[0;34m\u001b[0m\u001b[0;34m\u001b[0m\u001b[0m\n\u001b[1;32m      4\u001b[0m \u001b[0mnn_train\u001b[0m\u001b[0;34m.\u001b[0m\u001b[0mcount\u001b[0m\u001b[0;34m(\u001b[0m\u001b[0;34m)\u001b[0m\u001b[0;34m\u001b[0m\u001b[0;34m\u001b[0m\u001b[0m\n",
      "\u001b[0;31mAttributeError\u001b[0m: 'list' object has no attribute 'randomSplit'"
     ]
    }
   ],
   "source": [
    "(nn_train, nn_test) = sample_train.randomSplit([0.8, 0.2])\n",
    "sample_train.count()\n",
    "nn_test.count()\n",
    "nn_train.count()"
   ]
  },
  {
   "cell_type": "code",
   "execution_count": 267,
   "metadata": {},
   "outputs": [],
   "source": [
    "from pyspark.ml.classification import MultilayerPerceptronClassifier\n",
    "FNN = MultilayerPerceptronClassifier(labelCol=\"label\", \n",
    "                                     featuresCol=\"features\",\n",
    "                                     maxIter=100, layers=layers, \n",
    "                                     blockSize=128, seed=1234)"
   ]
  },
  {
   "cell_type": "code",
   "execution_count": 268,
   "metadata": {},
   "outputs": [],
   "source": [
    "from pyspark.ml.feature import IndexToString\n",
    "labelConverter = IndexToString(inputCol=\"prediction\", outputCol=\"predictedLabel\")"
   ]
  },
  {
   "cell_type": "code",
   "execution_count": 282,
   "metadata": {},
   "outputs": [],
   "source": [
    "fnn_pipeline = Pipeline(stages=[Agency_indexer,\n",
    "                                       Agency_Name_indexer,Complaint_Type_indexer,\n",
    "                                     Descriptor_indexer,Location_Type_indexer,Incident_indexer,\n",
    "                                     Status_indexer,Community_Board_indexer,Borough_indexer,\n",
    "                                     Park_indexer,City_indexer,Timebin_indexer,Year_indexer,Month_indexer,\n",
    "                                     assembler,\n",
    "                                    FNN])"
   ]
  },
  {
   "cell_type": "code",
   "execution_count": 283,
   "metadata": {},
   "outputs": [
    {
     "data": {
      "text/plain": [
       "DataFrame[summary: string, Timebin: string]"
      ]
     },
     "execution_count": 283,
     "metadata": {},
     "output_type": "execute_result"
    }
   ],
   "source": [
    "sample_train.select('Timebin').describe()"
   ]
  },
  {
   "cell_type": "code",
   "execution_count": 284,
   "metadata": {},
   "outputs": [],
   "source": [
    "fnn_prediction=fnn_prediction.dropna()\n"
   ]
  },
  {
   "cell_type": "code",
   "execution_count": 285,
   "metadata": {},
   "outputs": [],
   "source": [
    "Timebin = fnn_prediction.select(['label']).\\\n",
    "   groupBy('label').\\\n",
    "   agg(F.count('label').alias('num'))\n",
    "#Timebin.show()"
   ]
  },
  {
   "cell_type": "code",
   "execution_count": 291,
   "metadata": {},
   "outputs": [],
   "source": [
    "fnn_model = fnn_pipeline.fit(nn_train)"
   ]
  },
  {
   "cell_type": "code",
   "execution_count": 292,
   "metadata": {},
   "outputs": [],
   "source": [
    "fnn_prediction = fnn_model.transform(nn_test)"
   ]
  },
  {
   "cell_type": "code",
   "execution_count": 293,
   "metadata": {},
   "outputs": [
    {
     "data": {
      "text/plain": [
       "60"
      ]
     },
     "execution_count": 293,
     "metadata": {},
     "output_type": "execute_result"
    }
   ],
   "source": [
    "\n",
    "fnn_prediction.count()"
   ]
  },
  {
   "cell_type": "code",
   "execution_count": 289,
   "metadata": {},
   "outputs": [],
   "source": [
    "fnn_prediction = fnn_prediction.withColumn(\"prediction\",col(\"prediction\").cast(DoubleType()))"
   ]
  },
  {
   "cell_type": "code",
   "execution_count": 290,
   "metadata": {},
   "outputs": [
    {
     "ename": "Py4JJavaError",
     "evalue": "An error occurred while calling o25109.showString.\n: org.apache.spark.SparkException: Job aborted due to stage failure: Task 0 in stage 4888.0 failed 4 times, most recent failure: Lost task 0.3 in stage 4888.0 (TID 85413, ip-172-31-36-73.ec2.internal, executor 5): org.apache.spark.SparkException: Failed to execute user defined function($anonfun$9: (string) => double)\n\tat org.apache.spark.sql.catalyst.expressions.GeneratedClass$GeneratedIteratorForCodegenStage1.agg_doAggregateWithKeys_1$(Unknown Source)\n\tat org.apache.spark.sql.catalyst.expressions.GeneratedClass$GeneratedIteratorForCodegenStage1.agg_doAggregateWithKeys_0$(Unknown Source)\n\tat org.apache.spark.sql.catalyst.expressions.GeneratedClass$GeneratedIteratorForCodegenStage1.processNext(Unknown Source)\n\tat org.apache.spark.sql.execution.BufferedRowIterator.hasNext(BufferedRowIterator.java:43)\n\tat org.apache.spark.sql.execution.WholeStageCodegenExec$$anonfun$13$$anon$1.hasNext(WholeStageCodegenExec.scala:636)\n\tat org.apache.spark.sql.execution.SparkPlan$$anonfun$2.apply(SparkPlan.scala:291)\n\tat org.apache.spark.sql.execution.SparkPlan$$anonfun$2.apply(SparkPlan.scala:283)\n\tat org.apache.spark.rdd.RDD$$anonfun$mapPartitionsInternal$1$$anonfun$apply$24.apply(RDD.scala:836)\n\tat org.apache.spark.rdd.RDD$$anonfun$mapPartitionsInternal$1$$anonfun$apply$24.apply(RDD.scala:836)\n\tat org.apache.spark.rdd.MapPartitionsRDD.compute(MapPartitionsRDD.scala:52)\n\tat org.apache.spark.rdd.RDD.computeOrReadCheckpoint(RDD.scala:324)\n\tat org.apache.spark.rdd.RDD.iterator(RDD.scala:288)\n\tat org.apache.spark.rdd.MapPartitionsRDD.compute(MapPartitionsRDD.scala:52)\n\tat org.apache.spark.rdd.RDD.computeOrReadCheckpoint(RDD.scala:324)\n\tat org.apache.spark.rdd.RDD.iterator(RDD.scala:288)\n\tat org.apache.spark.scheduler.ResultTask.runTask(ResultTask.scala:90)\n\tat org.apache.spark.scheduler.Task.run(Task.scala:123)\n\tat org.apache.spark.executor.Executor$TaskRunner$$anonfun$10.apply(Executor.scala:408)\n\tat org.apache.spark.util.Utils$.tryWithSafeFinally(Utils.scala:1360)\n\tat org.apache.spark.executor.Executor$TaskRunner.run(Executor.scala:414)\n\tat java.util.concurrent.ThreadPoolExecutor.runWorker(ThreadPoolExecutor.java:1149)\n\tat java.util.concurrent.ThreadPoolExecutor$Worker.run(ThreadPoolExecutor.java:624)\n\tat java.lang.Thread.run(Thread.java:748)\nCaused by: org.apache.spark.SparkException: Unseen label: 55 BROOKLYN.  To handle unseen labels, set Param handleInvalid to keep.\n\tat org.apache.spark.ml.feature.StringIndexerModel$$anonfun$9.apply(StringIndexer.scala:260)\n\tat org.apache.spark.ml.feature.StringIndexerModel$$anonfun$9.apply(StringIndexer.scala:246)\n\t... 23 more\n\nDriver stacktrace:\n\tat org.apache.spark.scheduler.DAGScheduler.org$apache$spark$scheduler$DAGScheduler$$failJobAndIndependentStages(DAGScheduler.scala:2041)\n\tat org.apache.spark.scheduler.DAGScheduler$$anonfun$abortStage$1.apply(DAGScheduler.scala:2029)\n\tat org.apache.spark.scheduler.DAGScheduler$$anonfun$abortStage$1.apply(DAGScheduler.scala:2028)\n\tat scala.collection.mutable.ResizableArray$class.foreach(ResizableArray.scala:59)\n\tat scala.collection.mutable.ArrayBuffer.foreach(ArrayBuffer.scala:48)\n\tat org.apache.spark.scheduler.DAGScheduler.abortStage(DAGScheduler.scala:2028)\n\tat org.apache.spark.scheduler.DAGScheduler$$anonfun$handleTaskSetFailed$1.apply(DAGScheduler.scala:966)\n\tat org.apache.spark.scheduler.DAGScheduler$$anonfun$handleTaskSetFailed$1.apply(DAGScheduler.scala:966)\n\tat scala.Option.foreach(Option.scala:257)\n\tat org.apache.spark.scheduler.DAGScheduler.handleTaskSetFailed(DAGScheduler.scala:966)\n\tat org.apache.spark.scheduler.DAGSchedulerEventProcessLoop.doOnReceive(DAGScheduler.scala:2262)\n\tat org.apache.spark.scheduler.DAGSchedulerEventProcessLoop.onReceive(DAGScheduler.scala:2211)\n\tat org.apache.spark.scheduler.DAGSchedulerEventProcessLoop.onReceive(DAGScheduler.scala:2200)\n\tat org.apache.spark.util.EventLoop$$anon$1.run(EventLoop.scala:49)\n\tat org.apache.spark.scheduler.DAGScheduler.runJob(DAGScheduler.scala:777)\n\tat org.apache.spark.SparkContext.runJob(SparkContext.scala:2061)\n\tat org.apache.spark.SparkContext.runJob(SparkContext.scala:2082)\n\tat org.apache.spark.SparkContext.runJob(SparkContext.scala:2101)\n\tat org.apache.spark.sql.execution.SparkPlan.executeTake(SparkPlan.scala:401)\n\tat org.apache.spark.sql.execution.CollectLimitExec.executeCollect(limit.scala:38)\n\tat org.apache.spark.sql.Dataset.org$apache$spark$sql$Dataset$$collectFromPlan(Dataset.scala:3389)\n\tat org.apache.spark.sql.Dataset$$anonfun$head$1.apply(Dataset.scala:2550)\n\tat org.apache.spark.sql.Dataset$$anonfun$head$1.apply(Dataset.scala:2550)\n\tat org.apache.spark.sql.Dataset$$anonfun$52.apply(Dataset.scala:3370)\n\tat org.apache.spark.sql.execution.SQLExecution$$anonfun$withNewExecutionId$1.apply(SQLExecution.scala:84)\n\tat org.apache.spark.sql.execution.SQLExecution$.withSQLConfPropagated(SQLExecution.scala:165)\n\tat org.apache.spark.sql.execution.SQLExecution$.withNewExecutionId(SQLExecution.scala:74)\n\tat org.apache.spark.sql.Dataset.withAction(Dataset.scala:3369)\n\tat org.apache.spark.sql.Dataset.head(Dataset.scala:2550)\n\tat org.apache.spark.sql.Dataset.take(Dataset.scala:2764)\n\tat org.apache.spark.sql.Dataset.getRows(Dataset.scala:254)\n\tat org.apache.spark.sql.Dataset.showString(Dataset.scala:291)\n\tat sun.reflect.GeneratedMethodAccessor384.invoke(Unknown Source)\n\tat sun.reflect.DelegatingMethodAccessorImpl.invoke(DelegatingMethodAccessorImpl.java:43)\n\tat java.lang.reflect.Method.invoke(Method.java:498)\n\tat py4j.reflection.MethodInvoker.invoke(MethodInvoker.java:244)\n\tat py4j.reflection.ReflectionEngine.invoke(ReflectionEngine.java:357)\n\tat py4j.Gateway.invoke(Gateway.java:282)\n\tat py4j.commands.AbstractCommand.invokeMethod(AbstractCommand.java:132)\n\tat py4j.commands.CallCommand.execute(CallCommand.java:79)\n\tat py4j.GatewayConnection.run(GatewayConnection.java:238)\n\tat java.lang.Thread.run(Thread.java:748)\nCaused by: org.apache.spark.SparkException: Failed to execute user defined function($anonfun$9: (string) => double)\n\tat org.apache.spark.sql.catalyst.expressions.GeneratedClass$GeneratedIteratorForCodegenStage1.agg_doAggregateWithKeys_1$(Unknown Source)\n\tat org.apache.spark.sql.catalyst.expressions.GeneratedClass$GeneratedIteratorForCodegenStage1.agg_doAggregateWithKeys_0$(Unknown Source)\n\tat org.apache.spark.sql.catalyst.expressions.GeneratedClass$GeneratedIteratorForCodegenStage1.processNext(Unknown Source)\n\tat org.apache.spark.sql.execution.BufferedRowIterator.hasNext(BufferedRowIterator.java:43)\n\tat org.apache.spark.sql.execution.WholeStageCodegenExec$$anonfun$13$$anon$1.hasNext(WholeStageCodegenExec.scala:636)\n\tat org.apache.spark.sql.execution.SparkPlan$$anonfun$2.apply(SparkPlan.scala:291)\n\tat org.apache.spark.sql.execution.SparkPlan$$anonfun$2.apply(SparkPlan.scala:283)\n\tat org.apache.spark.rdd.RDD$$anonfun$mapPartitionsInternal$1$$anonfun$apply$24.apply(RDD.scala:836)\n\tat org.apache.spark.rdd.RDD$$anonfun$mapPartitionsInternal$1$$anonfun$apply$24.apply(RDD.scala:836)\n\tat org.apache.spark.rdd.MapPartitionsRDD.compute(MapPartitionsRDD.scala:52)\n\tat org.apache.spark.rdd.RDD.computeOrReadCheckpoint(RDD.scala:324)\n\tat org.apache.spark.rdd.RDD.iterator(RDD.scala:288)\n\tat org.apache.spark.rdd.MapPartitionsRDD.compute(MapPartitionsRDD.scala:52)\n\tat org.apache.spark.rdd.RDD.computeOrReadCheckpoint(RDD.scala:324)\n\tat org.apache.spark.rdd.RDD.iterator(RDD.scala:288)\n\tat org.apache.spark.scheduler.ResultTask.runTask(ResultTask.scala:90)\n\tat org.apache.spark.scheduler.Task.run(Task.scala:123)\n\tat org.apache.spark.executor.Executor$TaskRunner$$anonfun$10.apply(Executor.scala:408)\n\tat org.apache.spark.util.Utils$.tryWithSafeFinally(Utils.scala:1360)\n\tat org.apache.spark.executor.Executor$TaskRunner.run(Executor.scala:414)\n\tat java.util.concurrent.ThreadPoolExecutor.runWorker(ThreadPoolExecutor.java:1149)\n\tat java.util.concurrent.ThreadPoolExecutor$Worker.run(ThreadPoolExecutor.java:624)\n\t... 1 more\nCaused by: org.apache.spark.SparkException: Unseen label: 55 BROOKLYN.  To handle unseen labels, set Param handleInvalid to keep.\n\tat org.apache.spark.ml.feature.StringIndexerModel$$anonfun$9.apply(StringIndexer.scala:260)\n\tat org.apache.spark.ml.feature.StringIndexerModel$$anonfun$9.apply(StringIndexer.scala:246)\n\t... 23 more\n",
     "output_type": "error",
     "traceback": [
      "\u001b[0;31m---------------------------------------------------------------------------\u001b[0m",
      "\u001b[0;31mPy4JJavaError\u001b[0m                             Traceback (most recent call last)",
      "\u001b[0;32m<ipython-input-290-46db08e41777>\u001b[0m in \u001b[0;36m<module>\u001b[0;34m\u001b[0m\n\u001b[1;32m      2\u001b[0m    \u001b[0mgroupBy\u001b[0m\u001b[0;34m(\u001b[0m\u001b[0;34m'prediction'\u001b[0m\u001b[0;34m)\u001b[0m\u001b[0;34m.\u001b[0m\u001b[0;31m\\\u001b[0m\u001b[0;34m\u001b[0m\u001b[0;34m\u001b[0m\u001b[0m\n\u001b[1;32m      3\u001b[0m    \u001b[0magg\u001b[0m\u001b[0;34m(\u001b[0m\u001b[0mF\u001b[0m\u001b[0;34m.\u001b[0m\u001b[0mcount\u001b[0m\u001b[0;34m(\u001b[0m\u001b[0;34m'prediction'\u001b[0m\u001b[0;34m)\u001b[0m\u001b[0;34m.\u001b[0m\u001b[0malias\u001b[0m\u001b[0;34m(\u001b[0m\u001b[0;34m'num'\u001b[0m\u001b[0;34m)\u001b[0m\u001b[0;34m)\u001b[0m\u001b[0;34m\u001b[0m\u001b[0;34m\u001b[0m\u001b[0m\n\u001b[0;32m----> 4\u001b[0;31m \u001b[0mTimebin\u001b[0m\u001b[0;34m.\u001b[0m\u001b[0mshow\u001b[0m\u001b[0;34m(\u001b[0m\u001b[0;34m)\u001b[0m\u001b[0;34m\u001b[0m\u001b[0;34m\u001b[0m\u001b[0m\n\u001b[0m",
      "\u001b[0;32m/usr/lib/spark/python/pyspark/sql/dataframe.py\u001b[0m in \u001b[0;36mshow\u001b[0;34m(self, n, truncate, vertical)\u001b[0m\n\u001b[1;32m    378\u001b[0m         \"\"\"\n\u001b[1;32m    379\u001b[0m         \u001b[0;32mif\u001b[0m \u001b[0misinstance\u001b[0m\u001b[0;34m(\u001b[0m\u001b[0mtruncate\u001b[0m\u001b[0;34m,\u001b[0m \u001b[0mbool\u001b[0m\u001b[0;34m)\u001b[0m \u001b[0;32mand\u001b[0m \u001b[0mtruncate\u001b[0m\u001b[0;34m:\u001b[0m\u001b[0;34m\u001b[0m\u001b[0;34m\u001b[0m\u001b[0m\n\u001b[0;32m--> 380\u001b[0;31m             \u001b[0mprint\u001b[0m\u001b[0;34m(\u001b[0m\u001b[0mself\u001b[0m\u001b[0;34m.\u001b[0m\u001b[0m_jdf\u001b[0m\u001b[0;34m.\u001b[0m\u001b[0mshowString\u001b[0m\u001b[0;34m(\u001b[0m\u001b[0mn\u001b[0m\u001b[0;34m,\u001b[0m \u001b[0;36m20\u001b[0m\u001b[0;34m,\u001b[0m \u001b[0mvertical\u001b[0m\u001b[0;34m)\u001b[0m\u001b[0;34m)\u001b[0m\u001b[0;34m\u001b[0m\u001b[0;34m\u001b[0m\u001b[0m\n\u001b[0m\u001b[1;32m    381\u001b[0m         \u001b[0;32melse\u001b[0m\u001b[0;34m:\u001b[0m\u001b[0;34m\u001b[0m\u001b[0;34m\u001b[0m\u001b[0m\n\u001b[1;32m    382\u001b[0m             \u001b[0mprint\u001b[0m\u001b[0;34m(\u001b[0m\u001b[0mself\u001b[0m\u001b[0;34m.\u001b[0m\u001b[0m_jdf\u001b[0m\u001b[0;34m.\u001b[0m\u001b[0mshowString\u001b[0m\u001b[0;34m(\u001b[0m\u001b[0mn\u001b[0m\u001b[0;34m,\u001b[0m \u001b[0mint\u001b[0m\u001b[0;34m(\u001b[0m\u001b[0mtruncate\u001b[0m\u001b[0;34m)\u001b[0m\u001b[0;34m,\u001b[0m \u001b[0mvertical\u001b[0m\u001b[0;34m)\u001b[0m\u001b[0;34m)\u001b[0m\u001b[0;34m\u001b[0m\u001b[0;34m\u001b[0m\u001b[0m\n",
      "\u001b[0;32m/usr/lib/spark/python/lib/py4j-0.10.7-src.zip/py4j/java_gateway.py\u001b[0m in \u001b[0;36m__call__\u001b[0;34m(self, *args)\u001b[0m\n\u001b[1;32m   1255\u001b[0m         \u001b[0manswer\u001b[0m \u001b[0;34m=\u001b[0m \u001b[0mself\u001b[0m\u001b[0;34m.\u001b[0m\u001b[0mgateway_client\u001b[0m\u001b[0;34m.\u001b[0m\u001b[0msend_command\u001b[0m\u001b[0;34m(\u001b[0m\u001b[0mcommand\u001b[0m\u001b[0;34m)\u001b[0m\u001b[0;34m\u001b[0m\u001b[0;34m\u001b[0m\u001b[0m\n\u001b[1;32m   1256\u001b[0m         return_value = get_return_value(\n\u001b[0;32m-> 1257\u001b[0;31m             answer, self.gateway_client, self.target_id, self.name)\n\u001b[0m\u001b[1;32m   1258\u001b[0m \u001b[0;34m\u001b[0m\u001b[0m\n\u001b[1;32m   1259\u001b[0m         \u001b[0;32mfor\u001b[0m \u001b[0mtemp_arg\u001b[0m \u001b[0;32min\u001b[0m \u001b[0mtemp_args\u001b[0m\u001b[0;34m:\u001b[0m\u001b[0;34m\u001b[0m\u001b[0;34m\u001b[0m\u001b[0m\n",
      "\u001b[0;32m/usr/lib/spark/python/pyspark/sql/utils.py\u001b[0m in \u001b[0;36mdeco\u001b[0;34m(*a, **kw)\u001b[0m\n\u001b[1;32m     61\u001b[0m     \u001b[0;32mdef\u001b[0m \u001b[0mdeco\u001b[0m\u001b[0;34m(\u001b[0m\u001b[0;34m*\u001b[0m\u001b[0ma\u001b[0m\u001b[0;34m,\u001b[0m \u001b[0;34m**\u001b[0m\u001b[0mkw\u001b[0m\u001b[0;34m)\u001b[0m\u001b[0;34m:\u001b[0m\u001b[0;34m\u001b[0m\u001b[0;34m\u001b[0m\u001b[0m\n\u001b[1;32m     62\u001b[0m         \u001b[0;32mtry\u001b[0m\u001b[0;34m:\u001b[0m\u001b[0;34m\u001b[0m\u001b[0;34m\u001b[0m\u001b[0m\n\u001b[0;32m---> 63\u001b[0;31m             \u001b[0;32mreturn\u001b[0m \u001b[0mf\u001b[0m\u001b[0;34m(\u001b[0m\u001b[0;34m*\u001b[0m\u001b[0ma\u001b[0m\u001b[0;34m,\u001b[0m \u001b[0;34m**\u001b[0m\u001b[0mkw\u001b[0m\u001b[0;34m)\u001b[0m\u001b[0;34m\u001b[0m\u001b[0;34m\u001b[0m\u001b[0m\n\u001b[0m\u001b[1;32m     64\u001b[0m         \u001b[0;32mexcept\u001b[0m \u001b[0mpy4j\u001b[0m\u001b[0;34m.\u001b[0m\u001b[0mprotocol\u001b[0m\u001b[0;34m.\u001b[0m\u001b[0mPy4JJavaError\u001b[0m \u001b[0;32mas\u001b[0m \u001b[0me\u001b[0m\u001b[0;34m:\u001b[0m\u001b[0;34m\u001b[0m\u001b[0;34m\u001b[0m\u001b[0m\n\u001b[1;32m     65\u001b[0m             \u001b[0ms\u001b[0m \u001b[0;34m=\u001b[0m \u001b[0me\u001b[0m\u001b[0;34m.\u001b[0m\u001b[0mjava_exception\u001b[0m\u001b[0;34m.\u001b[0m\u001b[0mtoString\u001b[0m\u001b[0;34m(\u001b[0m\u001b[0;34m)\u001b[0m\u001b[0;34m\u001b[0m\u001b[0;34m\u001b[0m\u001b[0m\n",
      "\u001b[0;32m/usr/lib/spark/python/lib/py4j-0.10.7-src.zip/py4j/protocol.py\u001b[0m in \u001b[0;36mget_return_value\u001b[0;34m(answer, gateway_client, target_id, name)\u001b[0m\n\u001b[1;32m    326\u001b[0m                 raise Py4JJavaError(\n\u001b[1;32m    327\u001b[0m                     \u001b[0;34m\"An error occurred while calling {0}{1}{2}.\\n\"\u001b[0m\u001b[0;34m.\u001b[0m\u001b[0;34m\u001b[0m\u001b[0;34m\u001b[0m\u001b[0m\n\u001b[0;32m--> 328\u001b[0;31m                     format(target_id, \".\", name), value)\n\u001b[0m\u001b[1;32m    329\u001b[0m             \u001b[0;32melse\u001b[0m\u001b[0;34m:\u001b[0m\u001b[0;34m\u001b[0m\u001b[0;34m\u001b[0m\u001b[0m\n\u001b[1;32m    330\u001b[0m                 raise Py4JError(\n",
      "\u001b[0;31mPy4JJavaError\u001b[0m: An error occurred while calling o25109.showString.\n: org.apache.spark.SparkException: Job aborted due to stage failure: Task 0 in stage 4888.0 failed 4 times, most recent failure: Lost task 0.3 in stage 4888.0 (TID 85413, ip-172-31-36-73.ec2.internal, executor 5): org.apache.spark.SparkException: Failed to execute user defined function($anonfun$9: (string) => double)\n\tat org.apache.spark.sql.catalyst.expressions.GeneratedClass$GeneratedIteratorForCodegenStage1.agg_doAggregateWithKeys_1$(Unknown Source)\n\tat org.apache.spark.sql.catalyst.expressions.GeneratedClass$GeneratedIteratorForCodegenStage1.agg_doAggregateWithKeys_0$(Unknown Source)\n\tat org.apache.spark.sql.catalyst.expressions.GeneratedClass$GeneratedIteratorForCodegenStage1.processNext(Unknown Source)\n\tat org.apache.spark.sql.execution.BufferedRowIterator.hasNext(BufferedRowIterator.java:43)\n\tat org.apache.spark.sql.execution.WholeStageCodegenExec$$anonfun$13$$anon$1.hasNext(WholeStageCodegenExec.scala:636)\n\tat org.apache.spark.sql.execution.SparkPlan$$anonfun$2.apply(SparkPlan.scala:291)\n\tat org.apache.spark.sql.execution.SparkPlan$$anonfun$2.apply(SparkPlan.scala:283)\n\tat org.apache.spark.rdd.RDD$$anonfun$mapPartitionsInternal$1$$anonfun$apply$24.apply(RDD.scala:836)\n\tat org.apache.spark.rdd.RDD$$anonfun$mapPartitionsInternal$1$$anonfun$apply$24.apply(RDD.scala:836)\n\tat org.apache.spark.rdd.MapPartitionsRDD.compute(MapPartitionsRDD.scala:52)\n\tat org.apache.spark.rdd.RDD.computeOrReadCheckpoint(RDD.scala:324)\n\tat org.apache.spark.rdd.RDD.iterator(RDD.scala:288)\n\tat org.apache.spark.rdd.MapPartitionsRDD.compute(MapPartitionsRDD.scala:52)\n\tat org.apache.spark.rdd.RDD.computeOrReadCheckpoint(RDD.scala:324)\n\tat org.apache.spark.rdd.RDD.iterator(RDD.scala:288)\n\tat org.apache.spark.scheduler.ResultTask.runTask(ResultTask.scala:90)\n\tat org.apache.spark.scheduler.Task.run(Task.scala:123)\n\tat org.apache.spark.executor.Executor$TaskRunner$$anonfun$10.apply(Executor.scala:408)\n\tat org.apache.spark.util.Utils$.tryWithSafeFinally(Utils.scala:1360)\n\tat org.apache.spark.executor.Executor$TaskRunner.run(Executor.scala:414)\n\tat java.util.concurrent.ThreadPoolExecutor.runWorker(ThreadPoolExecutor.java:1149)\n\tat java.util.concurrent.ThreadPoolExecutor$Worker.run(ThreadPoolExecutor.java:624)\n\tat java.lang.Thread.run(Thread.java:748)\nCaused by: org.apache.spark.SparkException: Unseen label: 55 BROOKLYN.  To handle unseen labels, set Param handleInvalid to keep.\n\tat org.apache.spark.ml.feature.StringIndexerModel$$anonfun$9.apply(StringIndexer.scala:260)\n\tat org.apache.spark.ml.feature.StringIndexerModel$$anonfun$9.apply(StringIndexer.scala:246)\n\t... 23 more\n\nDriver stacktrace:\n\tat org.apache.spark.scheduler.DAGScheduler.org$apache$spark$scheduler$DAGScheduler$$failJobAndIndependentStages(DAGScheduler.scala:2041)\n\tat org.apache.spark.scheduler.DAGScheduler$$anonfun$abortStage$1.apply(DAGScheduler.scala:2029)\n\tat org.apache.spark.scheduler.DAGScheduler$$anonfun$abortStage$1.apply(DAGScheduler.scala:2028)\n\tat scala.collection.mutable.ResizableArray$class.foreach(ResizableArray.scala:59)\n\tat scala.collection.mutable.ArrayBuffer.foreach(ArrayBuffer.scala:48)\n\tat org.apache.spark.scheduler.DAGScheduler.abortStage(DAGScheduler.scala:2028)\n\tat org.apache.spark.scheduler.DAGScheduler$$anonfun$handleTaskSetFailed$1.apply(DAGScheduler.scala:966)\n\tat org.apache.spark.scheduler.DAGScheduler$$anonfun$handleTaskSetFailed$1.apply(DAGScheduler.scala:966)\n\tat scala.Option.foreach(Option.scala:257)\n\tat org.apache.spark.scheduler.DAGScheduler.handleTaskSetFailed(DAGScheduler.scala:966)\n\tat org.apache.spark.scheduler.DAGSchedulerEventProcessLoop.doOnReceive(DAGScheduler.scala:2262)\n\tat org.apache.spark.scheduler.DAGSchedulerEventProcessLoop.onReceive(DAGScheduler.scala:2211)\n\tat org.apache.spark.scheduler.DAGSchedulerEventProcessLoop.onReceive(DAGScheduler.scala:2200)\n\tat org.apache.spark.util.EventLoop$$anon$1.run(EventLoop.scala:49)\n\tat org.apache.spark.scheduler.DAGScheduler.runJob(DAGScheduler.scala:777)\n\tat org.apache.spark.SparkContext.runJob(SparkContext.scala:2061)\n\tat org.apache.spark.SparkContext.runJob(SparkContext.scala:2082)\n\tat org.apache.spark.SparkContext.runJob(SparkContext.scala:2101)\n\tat org.apache.spark.sql.execution.SparkPlan.executeTake(SparkPlan.scala:401)\n\tat org.apache.spark.sql.execution.CollectLimitExec.executeCollect(limit.scala:38)\n\tat org.apache.spark.sql.Dataset.org$apache$spark$sql$Dataset$$collectFromPlan(Dataset.scala:3389)\n\tat org.apache.spark.sql.Dataset$$anonfun$head$1.apply(Dataset.scala:2550)\n\tat org.apache.spark.sql.Dataset$$anonfun$head$1.apply(Dataset.scala:2550)\n\tat org.apache.spark.sql.Dataset$$anonfun$52.apply(Dataset.scala:3370)\n\tat org.apache.spark.sql.execution.SQLExecution$$anonfun$withNewExecutionId$1.apply(SQLExecution.scala:84)\n\tat org.apache.spark.sql.execution.SQLExecution$.withSQLConfPropagated(SQLExecution.scala:165)\n\tat org.apache.spark.sql.execution.SQLExecution$.withNewExecutionId(SQLExecution.scala:74)\n\tat org.apache.spark.sql.Dataset.withAction(Dataset.scala:3369)\n\tat org.apache.spark.sql.Dataset.head(Dataset.scala:2550)\n\tat org.apache.spark.sql.Dataset.take(Dataset.scala:2764)\n\tat org.apache.spark.sql.Dataset.getRows(Dataset.scala:254)\n\tat org.apache.spark.sql.Dataset.showString(Dataset.scala:291)\n\tat sun.reflect.GeneratedMethodAccessor384.invoke(Unknown Source)\n\tat sun.reflect.DelegatingMethodAccessorImpl.invoke(DelegatingMethodAccessorImpl.java:43)\n\tat java.lang.reflect.Method.invoke(Method.java:498)\n\tat py4j.reflection.MethodInvoker.invoke(MethodInvoker.java:244)\n\tat py4j.reflection.ReflectionEngine.invoke(ReflectionEngine.java:357)\n\tat py4j.Gateway.invoke(Gateway.java:282)\n\tat py4j.commands.AbstractCommand.invokeMethod(AbstractCommand.java:132)\n\tat py4j.commands.CallCommand.execute(CallCommand.java:79)\n\tat py4j.GatewayConnection.run(GatewayConnection.java:238)\n\tat java.lang.Thread.run(Thread.java:748)\nCaused by: org.apache.spark.SparkException: Failed to execute user defined function($anonfun$9: (string) => double)\n\tat org.apache.spark.sql.catalyst.expressions.GeneratedClass$GeneratedIteratorForCodegenStage1.agg_doAggregateWithKeys_1$(Unknown Source)\n\tat org.apache.spark.sql.catalyst.expressions.GeneratedClass$GeneratedIteratorForCodegenStage1.agg_doAggregateWithKeys_0$(Unknown Source)\n\tat org.apache.spark.sql.catalyst.expressions.GeneratedClass$GeneratedIteratorForCodegenStage1.processNext(Unknown Source)\n\tat org.apache.spark.sql.execution.BufferedRowIterator.hasNext(BufferedRowIterator.java:43)\n\tat org.apache.spark.sql.execution.WholeStageCodegenExec$$anonfun$13$$anon$1.hasNext(WholeStageCodegenExec.scala:636)\n\tat org.apache.spark.sql.execution.SparkPlan$$anonfun$2.apply(SparkPlan.scala:291)\n\tat org.apache.spark.sql.execution.SparkPlan$$anonfun$2.apply(SparkPlan.scala:283)\n\tat org.apache.spark.rdd.RDD$$anonfun$mapPartitionsInternal$1$$anonfun$apply$24.apply(RDD.scala:836)\n\tat org.apache.spark.rdd.RDD$$anonfun$mapPartitionsInternal$1$$anonfun$apply$24.apply(RDD.scala:836)\n\tat org.apache.spark.rdd.MapPartitionsRDD.compute(MapPartitionsRDD.scala:52)\n\tat org.apache.spark.rdd.RDD.computeOrReadCheckpoint(RDD.scala:324)\n\tat org.apache.spark.rdd.RDD.iterator(RDD.scala:288)\n\tat org.apache.spark.rdd.MapPartitionsRDD.compute(MapPartitionsRDD.scala:52)\n\tat org.apache.spark.rdd.RDD.computeOrReadCheckpoint(RDD.scala:324)\n\tat org.apache.spark.rdd.RDD.iterator(RDD.scala:288)\n\tat org.apache.spark.scheduler.ResultTask.runTask(ResultTask.scala:90)\n\tat org.apache.spark.scheduler.Task.run(Task.scala:123)\n\tat org.apache.spark.executor.Executor$TaskRunner$$anonfun$10.apply(Executor.scala:408)\n\tat org.apache.spark.util.Utils$.tryWithSafeFinally(Utils.scala:1360)\n\tat org.apache.spark.executor.Executor$TaskRunner.run(Executor.scala:414)\n\tat java.util.concurrent.ThreadPoolExecutor.runWorker(ThreadPoolExecutor.java:1149)\n\tat java.util.concurrent.ThreadPoolExecutor$Worker.run(ThreadPoolExecutor.java:624)\n\t... 1 more\nCaused by: org.apache.spark.SparkException: Unseen label: 55 BROOKLYN.  To handle unseen labels, set Param handleInvalid to keep.\n\tat org.apache.spark.ml.feature.StringIndexerModel$$anonfun$9.apply(StringIndexer.scala:260)\n\tat org.apache.spark.ml.feature.StringIndexerModel$$anonfun$9.apply(StringIndexer.scala:246)\n\t... 23 more\n"
     ]
    }
   ],
   "source": [
    "Timebin = fnn_prediction.select(['prediction']).\\\n",
    "   groupBy('prediction').\\\n",
    "   agg(F.count('prediction').alias('num'))\n",
    "Timebin.show()"
   ]
  },
  {
   "cell_type": "code",
   "execution_count": 126,
   "metadata": {},
   "outputs": [
    {
     "name": "stdout",
     "output_type": "stream",
     "text": [
      "root\n",
      " |-- Agency: string (nullable = true)\n",
      " |-- Agency Name: string (nullable = true)\n",
      " |-- Complaint Type: string (nullable = true)\n",
      " |-- Descriptor: string (nullable = true)\n",
      " |-- Location Type: string (nullable = true)\n",
      " |-- Incident Zip: string (nullable = true)\n",
      " |-- City: string (nullable = true)\n",
      " |-- Status: string (nullable = true)\n",
      " |-- Community Board: string (nullable = true)\n",
      " |-- Borough: string (nullable = true)\n",
      " |-- Park Borough: string (nullable = true)\n",
      " |-- Latitude: double (nullable = true)\n",
      " |-- Longitude: double (nullable = true)\n",
      " |-- Timebin: string (nullable = false)\n",
      " |-- Year: string (nullable = true)\n",
      " |-- Month: string (nullable = true)\n",
      " |-- Agency_index: double (nullable = false)\n",
      " |-- Agency_Name_index: double (nullable = false)\n",
      " |-- Complaint_Type_index: double (nullable = false)\n",
      " |-- Descriptor_index: double (nullable = false)\n",
      " |-- Location_Type_index: double (nullable = false)\n",
      " |-- Incident_index: double (nullable = false)\n",
      " |-- Status_index: double (nullable = false)\n",
      " |-- Community_Board_index: double (nullable = false)\n",
      " |-- Borough_index: double (nullable = false)\n",
      " |-- Park_index: double (nullable = false)\n",
      " |-- City_index: double (nullable = false)\n",
      " |-- label: double (nullable = false)\n",
      " |-- Year_index: double (nullable = false)\n",
      " |-- Month_index: double (nullable = false)\n",
      " |-- features: vector (nullable = true)\n",
      " |-- rawPrediction: vector (nullable = true)\n",
      " |-- probability: vector (nullable = true)\n",
      " |-- prediction: float (nullable = false)\n",
      "\n"
     ]
    }
   ],
   "source": [
    "\n",
    "ypred = fnn_prediction.select('prediction')\n",
    "fnn_prediction = fnn_prediction.withColumn(\"prediction\",col(\"prediction\").cast(FloatType()))\n",
    "fnn_prediction.printSchema()\n",
    "22209"
   ]
  },
  {
   "cell_type": "code",
   "execution_count": 175,
   "metadata": {},
   "outputs": [
    {
     "data": {
      "text/plain": [
       "DataFrame[prediction: double]"
      ]
     },
     "execution_count": 175,
     "metadata": {},
     "output_type": "execute_result"
    }
   ],
   "source": [
    "ytrue = fnn_prediction.select('label')\n",
    "ytrue = ytrue.toPandas()\n",
    "\n",
    "ypred = fnn_prediction.select('prediction')\n",
    "ypred\n"
   ]
  },
  {
   "cell_type": "code",
   "execution_count": 178,
   "metadata": {},
   "outputs": [
    {
     "data": {
      "text/plain": [
       "[Row(prediction=1.0),\n",
       " Row(prediction=1.0),\n",
       " Row(prediction=1.0),\n",
       " Row(prediction=1.0),\n",
       " Row(prediction=1.0),\n",
       " Row(prediction=1.0),\n",
       " Row(prediction=1.0),\n",
       " Row(prediction=0.0),\n",
       " Row(prediction=1.0),\n",
       " Row(prediction=1.0)]"
      ]
     },
     "execution_count": 178,
     "metadata": {},
     "output_type": "execute_result"
    }
   ],
   "source": [
    "ypred.take(10)"
   ]
  },
  {
   "cell_type": "code",
   "execution_count": null,
   "metadata": {},
   "outputs": [],
   "source": []
  },
  {
   "cell_type": "code",
   "execution_count": null,
   "metadata": {},
   "outputs": [],
   "source": []
  },
  {
   "cell_type": "code",
   "execution_count": 174,
   "metadata": {},
   "outputs": [
    {
     "ename": "TypeError",
     "evalue": "Expected sequence or array-like, got <class 'pyspark.rdd.RDD'>",
     "output_type": "error",
     "traceback": [
      "\u001b[0;31m---------------------------------------------------------------------------\u001b[0m",
      "\u001b[0;31mTypeError\u001b[0m                                 Traceback (most recent call last)",
      "\u001b[0;32m<ipython-input-174-86a9076bc051>\u001b[0m in \u001b[0;36m<module>\u001b[0;34m\u001b[0m\n\u001b[0;32m----> 1\u001b[0;31m \u001b[0mcnf_matrix\u001b[0m \u001b[0;34m=\u001b[0m \u001b[0mconfusion_matrix\u001b[0m\u001b[0;34m(\u001b[0m\u001b[0mytrue\u001b[0m\u001b[0;34m,\u001b[0m \u001b[0mypred\u001b[0m\u001b[0;34m,\u001b[0m\u001b[0mlabels\u001b[0m\u001b[0;34m=\u001b[0m\u001b[0mrange\u001b[0m\u001b[0;34m(\u001b[0m\u001b[0;36m3\u001b[0m\u001b[0;34m)\u001b[0m\u001b[0;34m)\u001b[0m\u001b[0;34m\u001b[0m\u001b[0;34m\u001b[0m\u001b[0m\n\u001b[0m",
      "\u001b[0;32m~/miniconda/lib/python3.7/site-packages/sklearn/metrics/_classification.py\u001b[0m in \u001b[0;36mconfusion_matrix\u001b[0;34m(y_true, y_pred, labels, sample_weight, normalize)\u001b[0m\n\u001b[1;32m    266\u001b[0m \u001b[0;34m\u001b[0m\u001b[0m\n\u001b[1;32m    267\u001b[0m     \"\"\"\n\u001b[0;32m--> 268\u001b[0;31m     \u001b[0my_type\u001b[0m\u001b[0;34m,\u001b[0m \u001b[0my_true\u001b[0m\u001b[0;34m,\u001b[0m \u001b[0my_pred\u001b[0m \u001b[0;34m=\u001b[0m \u001b[0m_check_targets\u001b[0m\u001b[0;34m(\u001b[0m\u001b[0my_true\u001b[0m\u001b[0;34m,\u001b[0m \u001b[0my_pred\u001b[0m\u001b[0;34m)\u001b[0m\u001b[0;34m\u001b[0m\u001b[0;34m\u001b[0m\u001b[0m\n\u001b[0m\u001b[1;32m    269\u001b[0m     \u001b[0;32mif\u001b[0m \u001b[0my_type\u001b[0m \u001b[0;32mnot\u001b[0m \u001b[0;32min\u001b[0m \u001b[0;34m(\u001b[0m\u001b[0;34m\"binary\"\u001b[0m\u001b[0;34m,\u001b[0m \u001b[0;34m\"multiclass\"\u001b[0m\u001b[0;34m)\u001b[0m\u001b[0;34m:\u001b[0m\u001b[0;34m\u001b[0m\u001b[0;34m\u001b[0m\u001b[0m\n\u001b[1;32m    270\u001b[0m         \u001b[0;32mraise\u001b[0m \u001b[0mValueError\u001b[0m\u001b[0;34m(\u001b[0m\u001b[0;34m\"%s is not supported\"\u001b[0m \u001b[0;34m%\u001b[0m \u001b[0my_type\u001b[0m\u001b[0;34m)\u001b[0m\u001b[0;34m\u001b[0m\u001b[0;34m\u001b[0m\u001b[0m\n",
      "\u001b[0;32m~/miniconda/lib/python3.7/site-packages/sklearn/metrics/_classification.py\u001b[0m in \u001b[0;36m_check_targets\u001b[0;34m(y_true, y_pred)\u001b[0m\n\u001b[1;32m     78\u001b[0m     \u001b[0my_pred\u001b[0m \u001b[0;34m:\u001b[0m \u001b[0marray\u001b[0m \u001b[0;32mor\u001b[0m \u001b[0mindicator\u001b[0m \u001b[0mmatrix\u001b[0m\u001b[0;34m\u001b[0m\u001b[0;34m\u001b[0m\u001b[0m\n\u001b[1;32m     79\u001b[0m     \"\"\"\n\u001b[0;32m---> 80\u001b[0;31m     \u001b[0mcheck_consistent_length\u001b[0m\u001b[0;34m(\u001b[0m\u001b[0my_true\u001b[0m\u001b[0;34m,\u001b[0m \u001b[0my_pred\u001b[0m\u001b[0;34m)\u001b[0m\u001b[0;34m\u001b[0m\u001b[0;34m\u001b[0m\u001b[0m\n\u001b[0m\u001b[1;32m     81\u001b[0m     \u001b[0mtype_true\u001b[0m \u001b[0;34m=\u001b[0m \u001b[0mtype_of_target\u001b[0m\u001b[0;34m(\u001b[0m\u001b[0my_true\u001b[0m\u001b[0;34m)\u001b[0m\u001b[0;34m\u001b[0m\u001b[0;34m\u001b[0m\u001b[0m\n\u001b[1;32m     82\u001b[0m     \u001b[0mtype_pred\u001b[0m \u001b[0;34m=\u001b[0m \u001b[0mtype_of_target\u001b[0m\u001b[0;34m(\u001b[0m\u001b[0my_pred\u001b[0m\u001b[0;34m)\u001b[0m\u001b[0;34m\u001b[0m\u001b[0;34m\u001b[0m\u001b[0m\n",
      "\u001b[0;32m~/miniconda/lib/python3.7/site-packages/sklearn/utils/validation.py\u001b[0m in \u001b[0;36mcheck_consistent_length\u001b[0;34m(*arrays)\u001b[0m\n\u001b[1;32m    206\u001b[0m     \"\"\"\n\u001b[1;32m    207\u001b[0m \u001b[0;34m\u001b[0m\u001b[0m\n\u001b[0;32m--> 208\u001b[0;31m     \u001b[0mlengths\u001b[0m \u001b[0;34m=\u001b[0m \u001b[0;34m[\u001b[0m\u001b[0m_num_samples\u001b[0m\u001b[0;34m(\u001b[0m\u001b[0mX\u001b[0m\u001b[0;34m)\u001b[0m \u001b[0;32mfor\u001b[0m \u001b[0mX\u001b[0m \u001b[0;32min\u001b[0m \u001b[0marrays\u001b[0m \u001b[0;32mif\u001b[0m \u001b[0mX\u001b[0m \u001b[0;32mis\u001b[0m \u001b[0;32mnot\u001b[0m \u001b[0;32mNone\u001b[0m\u001b[0;34m]\u001b[0m\u001b[0;34m\u001b[0m\u001b[0;34m\u001b[0m\u001b[0m\n\u001b[0m\u001b[1;32m    209\u001b[0m     \u001b[0muniques\u001b[0m \u001b[0;34m=\u001b[0m \u001b[0mnp\u001b[0m\u001b[0;34m.\u001b[0m\u001b[0munique\u001b[0m\u001b[0;34m(\u001b[0m\u001b[0mlengths\u001b[0m\u001b[0;34m)\u001b[0m\u001b[0;34m\u001b[0m\u001b[0;34m\u001b[0m\u001b[0m\n\u001b[1;32m    210\u001b[0m     \u001b[0;32mif\u001b[0m \u001b[0mlen\u001b[0m\u001b[0;34m(\u001b[0m\u001b[0muniques\u001b[0m\u001b[0;34m)\u001b[0m \u001b[0;34m>\u001b[0m \u001b[0;36m1\u001b[0m\u001b[0;34m:\u001b[0m\u001b[0;34m\u001b[0m\u001b[0;34m\u001b[0m\u001b[0m\n",
      "\u001b[0;32m~/miniconda/lib/python3.7/site-packages/sklearn/utils/validation.py\u001b[0m in \u001b[0;36m<listcomp>\u001b[0;34m(.0)\u001b[0m\n\u001b[1;32m    206\u001b[0m     \"\"\"\n\u001b[1;32m    207\u001b[0m \u001b[0;34m\u001b[0m\u001b[0m\n\u001b[0;32m--> 208\u001b[0;31m     \u001b[0mlengths\u001b[0m \u001b[0;34m=\u001b[0m \u001b[0;34m[\u001b[0m\u001b[0m_num_samples\u001b[0m\u001b[0;34m(\u001b[0m\u001b[0mX\u001b[0m\u001b[0;34m)\u001b[0m \u001b[0;32mfor\u001b[0m \u001b[0mX\u001b[0m \u001b[0;32min\u001b[0m \u001b[0marrays\u001b[0m \u001b[0;32mif\u001b[0m \u001b[0mX\u001b[0m \u001b[0;32mis\u001b[0m \u001b[0;32mnot\u001b[0m \u001b[0;32mNone\u001b[0m\u001b[0;34m]\u001b[0m\u001b[0;34m\u001b[0m\u001b[0;34m\u001b[0m\u001b[0m\n\u001b[0m\u001b[1;32m    209\u001b[0m     \u001b[0muniques\u001b[0m \u001b[0;34m=\u001b[0m \u001b[0mnp\u001b[0m\u001b[0;34m.\u001b[0m\u001b[0munique\u001b[0m\u001b[0;34m(\u001b[0m\u001b[0mlengths\u001b[0m\u001b[0;34m)\u001b[0m\u001b[0;34m\u001b[0m\u001b[0;34m\u001b[0m\u001b[0m\n\u001b[1;32m    210\u001b[0m     \u001b[0;32mif\u001b[0m \u001b[0mlen\u001b[0m\u001b[0;34m(\u001b[0m\u001b[0muniques\u001b[0m\u001b[0;34m)\u001b[0m \u001b[0;34m>\u001b[0m \u001b[0;36m1\u001b[0m\u001b[0;34m:\u001b[0m\u001b[0;34m\u001b[0m\u001b[0;34m\u001b[0m\u001b[0m\n",
      "\u001b[0;32m~/miniconda/lib/python3.7/site-packages/sklearn/utils/validation.py\u001b[0m in \u001b[0;36m_num_samples\u001b[0;34m(x)\u001b[0m\n\u001b[1;32m    145\u001b[0m             \u001b[0mx\u001b[0m \u001b[0;34m=\u001b[0m \u001b[0mnp\u001b[0m\u001b[0;34m.\u001b[0m\u001b[0masarray\u001b[0m\u001b[0;34m(\u001b[0m\u001b[0mx\u001b[0m\u001b[0;34m)\u001b[0m\u001b[0;34m\u001b[0m\u001b[0;34m\u001b[0m\u001b[0m\n\u001b[1;32m    146\u001b[0m         \u001b[0;32melse\u001b[0m\u001b[0;34m:\u001b[0m\u001b[0;34m\u001b[0m\u001b[0;34m\u001b[0m\u001b[0m\n\u001b[0;32m--> 147\u001b[0;31m             \u001b[0;32mraise\u001b[0m \u001b[0mTypeError\u001b[0m\u001b[0;34m(\u001b[0m\u001b[0mmessage\u001b[0m\u001b[0;34m)\u001b[0m\u001b[0;34m\u001b[0m\u001b[0;34m\u001b[0m\u001b[0m\n\u001b[0m\u001b[1;32m    148\u001b[0m \u001b[0;34m\u001b[0m\u001b[0m\n\u001b[1;32m    149\u001b[0m     \u001b[0;32mif\u001b[0m \u001b[0mhasattr\u001b[0m\u001b[0;34m(\u001b[0m\u001b[0mx\u001b[0m\u001b[0;34m,\u001b[0m \u001b[0;34m'shape'\u001b[0m\u001b[0;34m)\u001b[0m \u001b[0;32mand\u001b[0m \u001b[0mx\u001b[0m\u001b[0;34m.\u001b[0m\u001b[0mshape\u001b[0m \u001b[0;32mis\u001b[0m \u001b[0;32mnot\u001b[0m \u001b[0;32mNone\u001b[0m\u001b[0;34m:\u001b[0m\u001b[0;34m\u001b[0m\u001b[0;34m\u001b[0m\u001b[0m\n",
      "\u001b[0;31mTypeError\u001b[0m: Expected sequence or array-like, got <class 'pyspark.rdd.RDD'>"
     ]
    }
   ],
   "source": [
    "cnf_matrix = confusion_matrix(ytrue, ypred,labels=range(3))"
   ]
  },
  {
   "cell_type": "code",
   "execution_count": 104,
   "metadata": {},
   "outputs": [],
   "source": [
    "evaluator = MulticlassClassificationEvaluator(\n",
    "    labelCol=\"\", predictionCol=\"prediction\", metricName=\"accuracy\")\n"
   ]
  },
  {
   "cell_type": "code",
   "execution_count": 138,
   "metadata": {},
   "outputs": [
    {
     "ename": "Py4JJavaError",
     "evalue": "An error occurred while calling o11375.evaluate.\n: org.apache.spark.SparkException: Job aborted due to stage failure: Task 0 in stage 2005.0 failed 4 times, most recent failure: Lost task 0.3 in stage 2005.0 (TID 78325, ip-172-31-36-73.ec2.internal, executor 5): org.apache.spark.SparkException: Failed to execute user defined function($anonfun$9: (string) => double)\n\tat org.apache.spark.sql.catalyst.expressions.GeneratedClass$GeneratedIteratorForCodegenStage1.processNext(Unknown Source)\n\tat org.apache.spark.sql.execution.BufferedRowIterator.hasNext(BufferedRowIterator.java:43)\n\tat org.apache.spark.sql.execution.WholeStageCodegenExec$$anonfun$13$$anon$1.hasNext(WholeStageCodegenExec.scala:636)\n\tat scala.collection.Iterator$$anon$11.hasNext(Iterator.scala:409)\n\tat scala.collection.Iterator$$anon$11.hasNext(Iterator.scala:409)\n\tat scala.collection.Iterator$$anon$11.hasNext(Iterator.scala:409)\n\tat scala.collection.Iterator$$anon$11.hasNext(Iterator.scala:409)\n\tat org.apache.spark.util.collection.ExternalSorter.insertAll(ExternalSorter.scala:191)\n\tat org.apache.spark.shuffle.sort.SortShuffleWriter.write(SortShuffleWriter.scala:62)\n\tat org.apache.spark.scheduler.ShuffleMapTask.runTask(ShuffleMapTask.scala:99)\n\tat org.apache.spark.scheduler.ShuffleMapTask.runTask(ShuffleMapTask.scala:55)\n\tat org.apache.spark.scheduler.Task.run(Task.scala:123)\n\tat org.apache.spark.executor.Executor$TaskRunner$$anonfun$10.apply(Executor.scala:408)\n\tat org.apache.spark.util.Utils$.tryWithSafeFinally(Utils.scala:1360)\n\tat org.apache.spark.executor.Executor$TaskRunner.run(Executor.scala:414)\n\tat java.util.concurrent.ThreadPoolExecutor.runWorker(ThreadPoolExecutor.java:1149)\n\tat java.util.concurrent.ThreadPoolExecutor$Worker.run(ThreadPoolExecutor.java:624)\n\tat java.lang.Thread.run(Thread.java:748)\nCaused by: org.apache.spark.SparkException: Unseen label: 55 BROOKLYN.  To handle unseen labels, set Param handleInvalid to keep.\n\tat org.apache.spark.ml.feature.StringIndexerModel$$anonfun$9.apply(StringIndexer.scala:260)\n\tat org.apache.spark.ml.feature.StringIndexerModel$$anonfun$9.apply(StringIndexer.scala:246)\n\t... 18 more\n\nDriver stacktrace:\n\tat org.apache.spark.scheduler.DAGScheduler.org$apache$spark$scheduler$DAGScheduler$$failJobAndIndependentStages(DAGScheduler.scala:2041)\n\tat org.apache.spark.scheduler.DAGScheduler$$anonfun$abortStage$1.apply(DAGScheduler.scala:2029)\n\tat org.apache.spark.scheduler.DAGScheduler$$anonfun$abortStage$1.apply(DAGScheduler.scala:2028)\n\tat scala.collection.mutable.ResizableArray$class.foreach(ResizableArray.scala:59)\n\tat scala.collection.mutable.ArrayBuffer.foreach(ArrayBuffer.scala:48)\n\tat org.apache.spark.scheduler.DAGScheduler.abortStage(DAGScheduler.scala:2028)\n\tat org.apache.spark.scheduler.DAGScheduler$$anonfun$handleTaskSetFailed$1.apply(DAGScheduler.scala:966)\n\tat org.apache.spark.scheduler.DAGScheduler$$anonfun$handleTaskSetFailed$1.apply(DAGScheduler.scala:966)\n\tat scala.Option.foreach(Option.scala:257)\n\tat org.apache.spark.scheduler.DAGScheduler.handleTaskSetFailed(DAGScheduler.scala:966)\n\tat org.apache.spark.scheduler.DAGSchedulerEventProcessLoop.doOnReceive(DAGScheduler.scala:2262)\n\tat org.apache.spark.scheduler.DAGSchedulerEventProcessLoop.onReceive(DAGScheduler.scala:2211)\n\tat org.apache.spark.scheduler.DAGSchedulerEventProcessLoop.onReceive(DAGScheduler.scala:2200)\n\tat org.apache.spark.util.EventLoop$$anon$1.run(EventLoop.scala:49)\n\tat org.apache.spark.scheduler.DAGScheduler.runJob(DAGScheduler.scala:777)\n\tat org.apache.spark.SparkContext.runJob(SparkContext.scala:2061)\n\tat org.apache.spark.SparkContext.runJob(SparkContext.scala:2082)\n\tat org.apache.spark.SparkContext.runJob(SparkContext.scala:2101)\n\tat org.apache.spark.SparkContext.runJob(SparkContext.scala:2126)\n\tat org.apache.spark.rdd.RDD$$anonfun$collect$1.apply(RDD.scala:945)\n\tat org.apache.spark.rdd.RDDOperationScope$.withScope(RDDOperationScope.scala:151)\n\tat org.apache.spark.rdd.RDDOperationScope$.withScope(RDDOperationScope.scala:112)\n\tat org.apache.spark.rdd.RDD.withScope(RDD.scala:363)\n\tat org.apache.spark.rdd.RDD.collect(RDD.scala:944)\n\tat org.apache.spark.rdd.PairRDDFunctions$$anonfun$collectAsMap$1.apply(PairRDDFunctions.scala:743)\n\tat org.apache.spark.rdd.PairRDDFunctions$$anonfun$collectAsMap$1.apply(PairRDDFunctions.scala:742)\n\tat org.apache.spark.rdd.RDDOperationScope$.withScope(RDDOperationScope.scala:151)\n\tat org.apache.spark.rdd.RDDOperationScope$.withScope(RDDOperationScope.scala:112)\n\tat org.apache.spark.rdd.RDD.withScope(RDD.scala:363)\n\tat org.apache.spark.rdd.PairRDDFunctions.collectAsMap(PairRDDFunctions.scala:742)\n\tat org.apache.spark.mllib.evaluation.MulticlassMetrics.tpByClass$lzycompute(MulticlassMetrics.scala:48)\n\tat org.apache.spark.mllib.evaluation.MulticlassMetrics.tpByClass(MulticlassMetrics.scala:44)\n\tat org.apache.spark.mllib.evaluation.MulticlassMetrics.accuracy$lzycompute(MulticlassMetrics.scala:168)\n\tat org.apache.spark.mllib.evaluation.MulticlassMetrics.accuracy(MulticlassMetrics.scala:168)\n\tat org.apache.spark.ml.evaluation.MulticlassClassificationEvaluator.evaluate(MulticlassClassificationEvaluator.scala:87)\n\tat sun.reflect.GeneratedMethodAccessor366.invoke(Unknown Source)\n\tat sun.reflect.DelegatingMethodAccessorImpl.invoke(DelegatingMethodAccessorImpl.java:43)\n\tat java.lang.reflect.Method.invoke(Method.java:498)\n\tat py4j.reflection.MethodInvoker.invoke(MethodInvoker.java:244)\n\tat py4j.reflection.ReflectionEngine.invoke(ReflectionEngine.java:357)\n\tat py4j.Gateway.invoke(Gateway.java:282)\n\tat py4j.commands.AbstractCommand.invokeMethod(AbstractCommand.java:132)\n\tat py4j.commands.CallCommand.execute(CallCommand.java:79)\n\tat py4j.GatewayConnection.run(GatewayConnection.java:238)\n\tat java.lang.Thread.run(Thread.java:748)\nCaused by: org.apache.spark.SparkException: Failed to execute user defined function($anonfun$9: (string) => double)\n\tat org.apache.spark.sql.catalyst.expressions.GeneratedClass$GeneratedIteratorForCodegenStage1.processNext(Unknown Source)\n\tat org.apache.spark.sql.execution.BufferedRowIterator.hasNext(BufferedRowIterator.java:43)\n\tat org.apache.spark.sql.execution.WholeStageCodegenExec$$anonfun$13$$anon$1.hasNext(WholeStageCodegenExec.scala:636)\n\tat scala.collection.Iterator$$anon$11.hasNext(Iterator.scala:409)\n\tat scala.collection.Iterator$$anon$11.hasNext(Iterator.scala:409)\n\tat scala.collection.Iterator$$anon$11.hasNext(Iterator.scala:409)\n\tat scala.collection.Iterator$$anon$11.hasNext(Iterator.scala:409)\n\tat org.apache.spark.util.collection.ExternalSorter.insertAll(ExternalSorter.scala:191)\n\tat org.apache.spark.shuffle.sort.SortShuffleWriter.write(SortShuffleWriter.scala:62)\n\tat org.apache.spark.scheduler.ShuffleMapTask.runTask(ShuffleMapTask.scala:99)\n\tat org.apache.spark.scheduler.ShuffleMapTask.runTask(ShuffleMapTask.scala:55)\n\tat org.apache.spark.scheduler.Task.run(Task.scala:123)\n\tat org.apache.spark.executor.Executor$TaskRunner$$anonfun$10.apply(Executor.scala:408)\n\tat org.apache.spark.util.Utils$.tryWithSafeFinally(Utils.scala:1360)\n\tat org.apache.spark.executor.Executor$TaskRunner.run(Executor.scala:414)\n\tat java.util.concurrent.ThreadPoolExecutor.runWorker(ThreadPoolExecutor.java:1149)\n\tat java.util.concurrent.ThreadPoolExecutor$Worker.run(ThreadPoolExecutor.java:624)\n\t... 1 more\nCaused by: org.apache.spark.SparkException: Unseen label: 55 BROOKLYN.  To handle unseen labels, set Param handleInvalid to keep.\n\tat org.apache.spark.ml.feature.StringIndexerModel$$anonfun$9.apply(StringIndexer.scala:260)\n\tat org.apache.spark.ml.feature.StringIndexerModel$$anonfun$9.apply(StringIndexer.scala:246)\n\t... 18 more\n",
     "output_type": "error",
     "traceback": [
      "\u001b[0;31m---------------------------------------------------------------------------\u001b[0m",
      "\u001b[0;31mPy4JJavaError\u001b[0m                             Traceback (most recent call last)",
      "\u001b[0;32m<ipython-input-138-0ec768f241f6>\u001b[0m in \u001b[0;36m<module>\u001b[0;34m\u001b[0m\n\u001b[0;32m----> 1\u001b[0;31m \u001b[0mprint\u001b[0m\u001b[0;34m(\u001b[0m\u001b[0maccuracy\u001b[0m \u001b[0;34m=\u001b[0m \u001b[0mevaluator\u001b[0m\u001b[0;34m.\u001b[0m\u001b[0mevaluate\u001b[0m\u001b[0;34m(\u001b[0m\u001b[0mfnn_prediction\u001b[0m\u001b[0;34m)\u001b[0m\u001b[0;34m)\u001b[0m\u001b[0;34m\u001b[0m\u001b[0;34m\u001b[0m\u001b[0m\n\u001b[0m",
      "\u001b[0;32m/usr/lib/spark/python/pyspark/ml/evaluation.py\u001b[0m in \u001b[0;36mevaluate\u001b[0;34m(self, dataset, params)\u001b[0m\n\u001b[1;32m     69\u001b[0m                 \u001b[0;32mreturn\u001b[0m \u001b[0mself\u001b[0m\u001b[0;34m.\u001b[0m\u001b[0mcopy\u001b[0m\u001b[0;34m(\u001b[0m\u001b[0mparams\u001b[0m\u001b[0;34m)\u001b[0m\u001b[0;34m.\u001b[0m\u001b[0m_evaluate\u001b[0m\u001b[0;34m(\u001b[0m\u001b[0mdataset\u001b[0m\u001b[0;34m)\u001b[0m\u001b[0;34m\u001b[0m\u001b[0;34m\u001b[0m\u001b[0m\n\u001b[1;32m     70\u001b[0m             \u001b[0;32melse\u001b[0m\u001b[0;34m:\u001b[0m\u001b[0;34m\u001b[0m\u001b[0;34m\u001b[0m\u001b[0m\n\u001b[0;32m---> 71\u001b[0;31m                 \u001b[0;32mreturn\u001b[0m \u001b[0mself\u001b[0m\u001b[0;34m.\u001b[0m\u001b[0m_evaluate\u001b[0m\u001b[0;34m(\u001b[0m\u001b[0mdataset\u001b[0m\u001b[0;34m)\u001b[0m\u001b[0;34m\u001b[0m\u001b[0;34m\u001b[0m\u001b[0m\n\u001b[0m\u001b[1;32m     72\u001b[0m         \u001b[0;32melse\u001b[0m\u001b[0;34m:\u001b[0m\u001b[0;34m\u001b[0m\u001b[0;34m\u001b[0m\u001b[0m\n\u001b[1;32m     73\u001b[0m             \u001b[0;32mraise\u001b[0m \u001b[0mValueError\u001b[0m\u001b[0;34m(\u001b[0m\u001b[0;34m\"Params must be a param map but got %s.\"\u001b[0m \u001b[0;34m%\u001b[0m \u001b[0mtype\u001b[0m\u001b[0;34m(\u001b[0m\u001b[0mparams\u001b[0m\u001b[0;34m)\u001b[0m\u001b[0;34m)\u001b[0m\u001b[0;34m\u001b[0m\u001b[0;34m\u001b[0m\u001b[0m\n",
      "\u001b[0;32m/usr/lib/spark/python/pyspark/ml/evaluation.py\u001b[0m in \u001b[0;36m_evaluate\u001b[0;34m(self, dataset)\u001b[0m\n\u001b[1;32m     99\u001b[0m         \"\"\"\n\u001b[1;32m    100\u001b[0m         \u001b[0mself\u001b[0m\u001b[0;34m.\u001b[0m\u001b[0m_transfer_params_to_java\u001b[0m\u001b[0;34m(\u001b[0m\u001b[0;34m)\u001b[0m\u001b[0;34m\u001b[0m\u001b[0;34m\u001b[0m\u001b[0m\n\u001b[0;32m--> 101\u001b[0;31m         \u001b[0;32mreturn\u001b[0m \u001b[0mself\u001b[0m\u001b[0;34m.\u001b[0m\u001b[0m_java_obj\u001b[0m\u001b[0;34m.\u001b[0m\u001b[0mevaluate\u001b[0m\u001b[0;34m(\u001b[0m\u001b[0mdataset\u001b[0m\u001b[0;34m.\u001b[0m\u001b[0m_jdf\u001b[0m\u001b[0;34m)\u001b[0m\u001b[0;34m\u001b[0m\u001b[0;34m\u001b[0m\u001b[0m\n\u001b[0m\u001b[1;32m    102\u001b[0m \u001b[0;34m\u001b[0m\u001b[0m\n\u001b[1;32m    103\u001b[0m     \u001b[0;32mdef\u001b[0m \u001b[0misLargerBetter\u001b[0m\u001b[0;34m(\u001b[0m\u001b[0mself\u001b[0m\u001b[0;34m)\u001b[0m\u001b[0;34m:\u001b[0m\u001b[0;34m\u001b[0m\u001b[0;34m\u001b[0m\u001b[0m\n",
      "\u001b[0;32m/usr/lib/spark/python/lib/py4j-0.10.7-src.zip/py4j/java_gateway.py\u001b[0m in \u001b[0;36m__call__\u001b[0;34m(self, *args)\u001b[0m\n\u001b[1;32m   1255\u001b[0m         \u001b[0manswer\u001b[0m \u001b[0;34m=\u001b[0m \u001b[0mself\u001b[0m\u001b[0;34m.\u001b[0m\u001b[0mgateway_client\u001b[0m\u001b[0;34m.\u001b[0m\u001b[0msend_command\u001b[0m\u001b[0;34m(\u001b[0m\u001b[0mcommand\u001b[0m\u001b[0;34m)\u001b[0m\u001b[0;34m\u001b[0m\u001b[0;34m\u001b[0m\u001b[0m\n\u001b[1;32m   1256\u001b[0m         return_value = get_return_value(\n\u001b[0;32m-> 1257\u001b[0;31m             answer, self.gateway_client, self.target_id, self.name)\n\u001b[0m\u001b[1;32m   1258\u001b[0m \u001b[0;34m\u001b[0m\u001b[0m\n\u001b[1;32m   1259\u001b[0m         \u001b[0;32mfor\u001b[0m \u001b[0mtemp_arg\u001b[0m \u001b[0;32min\u001b[0m \u001b[0mtemp_args\u001b[0m\u001b[0;34m:\u001b[0m\u001b[0;34m\u001b[0m\u001b[0;34m\u001b[0m\u001b[0m\n",
      "\u001b[0;32m/usr/lib/spark/python/pyspark/sql/utils.py\u001b[0m in \u001b[0;36mdeco\u001b[0;34m(*a, **kw)\u001b[0m\n\u001b[1;32m     61\u001b[0m     \u001b[0;32mdef\u001b[0m \u001b[0mdeco\u001b[0m\u001b[0;34m(\u001b[0m\u001b[0;34m*\u001b[0m\u001b[0ma\u001b[0m\u001b[0;34m,\u001b[0m \u001b[0;34m**\u001b[0m\u001b[0mkw\u001b[0m\u001b[0;34m)\u001b[0m\u001b[0;34m:\u001b[0m\u001b[0;34m\u001b[0m\u001b[0;34m\u001b[0m\u001b[0m\n\u001b[1;32m     62\u001b[0m         \u001b[0;32mtry\u001b[0m\u001b[0;34m:\u001b[0m\u001b[0;34m\u001b[0m\u001b[0;34m\u001b[0m\u001b[0m\n\u001b[0;32m---> 63\u001b[0;31m             \u001b[0;32mreturn\u001b[0m \u001b[0mf\u001b[0m\u001b[0;34m(\u001b[0m\u001b[0;34m*\u001b[0m\u001b[0ma\u001b[0m\u001b[0;34m,\u001b[0m \u001b[0;34m**\u001b[0m\u001b[0mkw\u001b[0m\u001b[0;34m)\u001b[0m\u001b[0;34m\u001b[0m\u001b[0;34m\u001b[0m\u001b[0m\n\u001b[0m\u001b[1;32m     64\u001b[0m         \u001b[0;32mexcept\u001b[0m \u001b[0mpy4j\u001b[0m\u001b[0;34m.\u001b[0m\u001b[0mprotocol\u001b[0m\u001b[0;34m.\u001b[0m\u001b[0mPy4JJavaError\u001b[0m \u001b[0;32mas\u001b[0m \u001b[0me\u001b[0m\u001b[0;34m:\u001b[0m\u001b[0;34m\u001b[0m\u001b[0;34m\u001b[0m\u001b[0m\n\u001b[1;32m     65\u001b[0m             \u001b[0ms\u001b[0m \u001b[0;34m=\u001b[0m \u001b[0me\u001b[0m\u001b[0;34m.\u001b[0m\u001b[0mjava_exception\u001b[0m\u001b[0;34m.\u001b[0m\u001b[0mtoString\u001b[0m\u001b[0;34m(\u001b[0m\u001b[0;34m)\u001b[0m\u001b[0;34m\u001b[0m\u001b[0;34m\u001b[0m\u001b[0m\n",
      "\u001b[0;32m/usr/lib/spark/python/lib/py4j-0.10.7-src.zip/py4j/protocol.py\u001b[0m in \u001b[0;36mget_return_value\u001b[0;34m(answer, gateway_client, target_id, name)\u001b[0m\n\u001b[1;32m    326\u001b[0m                 raise Py4JJavaError(\n\u001b[1;32m    327\u001b[0m                     \u001b[0;34m\"An error occurred while calling {0}{1}{2}.\\n\"\u001b[0m\u001b[0;34m.\u001b[0m\u001b[0;34m\u001b[0m\u001b[0;34m\u001b[0m\u001b[0m\n\u001b[0;32m--> 328\u001b[0;31m                     format(target_id, \".\", name), value)\n\u001b[0m\u001b[1;32m    329\u001b[0m             \u001b[0;32melse\u001b[0m\u001b[0;34m:\u001b[0m\u001b[0;34m\u001b[0m\u001b[0;34m\u001b[0m\u001b[0m\n\u001b[1;32m    330\u001b[0m                 raise Py4JError(\n",
      "\u001b[0;31mPy4JJavaError\u001b[0m: An error occurred while calling o11375.evaluate.\n: org.apache.spark.SparkException: Job aborted due to stage failure: Task 0 in stage 2005.0 failed 4 times, most recent failure: Lost task 0.3 in stage 2005.0 (TID 78325, ip-172-31-36-73.ec2.internal, executor 5): org.apache.spark.SparkException: Failed to execute user defined function($anonfun$9: (string) => double)\n\tat org.apache.spark.sql.catalyst.expressions.GeneratedClass$GeneratedIteratorForCodegenStage1.processNext(Unknown Source)\n\tat org.apache.spark.sql.execution.BufferedRowIterator.hasNext(BufferedRowIterator.java:43)\n\tat org.apache.spark.sql.execution.WholeStageCodegenExec$$anonfun$13$$anon$1.hasNext(WholeStageCodegenExec.scala:636)\n\tat scala.collection.Iterator$$anon$11.hasNext(Iterator.scala:409)\n\tat scala.collection.Iterator$$anon$11.hasNext(Iterator.scala:409)\n\tat scala.collection.Iterator$$anon$11.hasNext(Iterator.scala:409)\n\tat scala.collection.Iterator$$anon$11.hasNext(Iterator.scala:409)\n\tat org.apache.spark.util.collection.ExternalSorter.insertAll(ExternalSorter.scala:191)\n\tat org.apache.spark.shuffle.sort.SortShuffleWriter.write(SortShuffleWriter.scala:62)\n\tat org.apache.spark.scheduler.ShuffleMapTask.runTask(ShuffleMapTask.scala:99)\n\tat org.apache.spark.scheduler.ShuffleMapTask.runTask(ShuffleMapTask.scala:55)\n\tat org.apache.spark.scheduler.Task.run(Task.scala:123)\n\tat org.apache.spark.executor.Executor$TaskRunner$$anonfun$10.apply(Executor.scala:408)\n\tat org.apache.spark.util.Utils$.tryWithSafeFinally(Utils.scala:1360)\n\tat org.apache.spark.executor.Executor$TaskRunner.run(Executor.scala:414)\n\tat java.util.concurrent.ThreadPoolExecutor.runWorker(ThreadPoolExecutor.java:1149)\n\tat java.util.concurrent.ThreadPoolExecutor$Worker.run(ThreadPoolExecutor.java:624)\n\tat java.lang.Thread.run(Thread.java:748)\nCaused by: org.apache.spark.SparkException: Unseen label: 55 BROOKLYN.  To handle unseen labels, set Param handleInvalid to keep.\n\tat org.apache.spark.ml.feature.StringIndexerModel$$anonfun$9.apply(StringIndexer.scala:260)\n\tat org.apache.spark.ml.feature.StringIndexerModel$$anonfun$9.apply(StringIndexer.scala:246)\n\t... 18 more\n\nDriver stacktrace:\n\tat org.apache.spark.scheduler.DAGScheduler.org$apache$spark$scheduler$DAGScheduler$$failJobAndIndependentStages(DAGScheduler.scala:2041)\n\tat org.apache.spark.scheduler.DAGScheduler$$anonfun$abortStage$1.apply(DAGScheduler.scala:2029)\n\tat org.apache.spark.scheduler.DAGScheduler$$anonfun$abortStage$1.apply(DAGScheduler.scala:2028)\n\tat scala.collection.mutable.ResizableArray$class.foreach(ResizableArray.scala:59)\n\tat scala.collection.mutable.ArrayBuffer.foreach(ArrayBuffer.scala:48)\n\tat org.apache.spark.scheduler.DAGScheduler.abortStage(DAGScheduler.scala:2028)\n\tat org.apache.spark.scheduler.DAGScheduler$$anonfun$handleTaskSetFailed$1.apply(DAGScheduler.scala:966)\n\tat org.apache.spark.scheduler.DAGScheduler$$anonfun$handleTaskSetFailed$1.apply(DAGScheduler.scala:966)\n\tat scala.Option.foreach(Option.scala:257)\n\tat org.apache.spark.scheduler.DAGScheduler.handleTaskSetFailed(DAGScheduler.scala:966)\n\tat org.apache.spark.scheduler.DAGSchedulerEventProcessLoop.doOnReceive(DAGScheduler.scala:2262)\n\tat org.apache.spark.scheduler.DAGSchedulerEventProcessLoop.onReceive(DAGScheduler.scala:2211)\n\tat org.apache.spark.scheduler.DAGSchedulerEventProcessLoop.onReceive(DAGScheduler.scala:2200)\n\tat org.apache.spark.util.EventLoop$$anon$1.run(EventLoop.scala:49)\n\tat org.apache.spark.scheduler.DAGScheduler.runJob(DAGScheduler.scala:777)\n\tat org.apache.spark.SparkContext.runJob(SparkContext.scala:2061)\n\tat org.apache.spark.SparkContext.runJob(SparkContext.scala:2082)\n\tat org.apache.spark.SparkContext.runJob(SparkContext.scala:2101)\n\tat org.apache.spark.SparkContext.runJob(SparkContext.scala:2126)\n\tat org.apache.spark.rdd.RDD$$anonfun$collect$1.apply(RDD.scala:945)\n\tat org.apache.spark.rdd.RDDOperationScope$.withScope(RDDOperationScope.scala:151)\n\tat org.apache.spark.rdd.RDDOperationScope$.withScope(RDDOperationScope.scala:112)\n\tat org.apache.spark.rdd.RDD.withScope(RDD.scala:363)\n\tat org.apache.spark.rdd.RDD.collect(RDD.scala:944)\n\tat org.apache.spark.rdd.PairRDDFunctions$$anonfun$collectAsMap$1.apply(PairRDDFunctions.scala:743)\n\tat org.apache.spark.rdd.PairRDDFunctions$$anonfun$collectAsMap$1.apply(PairRDDFunctions.scala:742)\n\tat org.apache.spark.rdd.RDDOperationScope$.withScope(RDDOperationScope.scala:151)\n\tat org.apache.spark.rdd.RDDOperationScope$.withScope(RDDOperationScope.scala:112)\n\tat org.apache.spark.rdd.RDD.withScope(RDD.scala:363)\n\tat org.apache.spark.rdd.PairRDDFunctions.collectAsMap(PairRDDFunctions.scala:742)\n\tat org.apache.spark.mllib.evaluation.MulticlassMetrics.tpByClass$lzycompute(MulticlassMetrics.scala:48)\n\tat org.apache.spark.mllib.evaluation.MulticlassMetrics.tpByClass(MulticlassMetrics.scala:44)\n\tat org.apache.spark.mllib.evaluation.MulticlassMetrics.accuracy$lzycompute(MulticlassMetrics.scala:168)\n\tat org.apache.spark.mllib.evaluation.MulticlassMetrics.accuracy(MulticlassMetrics.scala:168)\n\tat org.apache.spark.ml.evaluation.MulticlassClassificationEvaluator.evaluate(MulticlassClassificationEvaluator.scala:87)\n\tat sun.reflect.GeneratedMethodAccessor366.invoke(Unknown Source)\n\tat sun.reflect.DelegatingMethodAccessorImpl.invoke(DelegatingMethodAccessorImpl.java:43)\n\tat java.lang.reflect.Method.invoke(Method.java:498)\n\tat py4j.reflection.MethodInvoker.invoke(MethodInvoker.java:244)\n\tat py4j.reflection.ReflectionEngine.invoke(ReflectionEngine.java:357)\n\tat py4j.Gateway.invoke(Gateway.java:282)\n\tat py4j.commands.AbstractCommand.invokeMethod(AbstractCommand.java:132)\n\tat py4j.commands.CallCommand.execute(CallCommand.java:79)\n\tat py4j.GatewayConnection.run(GatewayConnection.java:238)\n\tat java.lang.Thread.run(Thread.java:748)\nCaused by: org.apache.spark.SparkException: Failed to execute user defined function($anonfun$9: (string) => double)\n\tat org.apache.spark.sql.catalyst.expressions.GeneratedClass$GeneratedIteratorForCodegenStage1.processNext(Unknown Source)\n\tat org.apache.spark.sql.execution.BufferedRowIterator.hasNext(BufferedRowIterator.java:43)\n\tat org.apache.spark.sql.execution.WholeStageCodegenExec$$anonfun$13$$anon$1.hasNext(WholeStageCodegenExec.scala:636)\n\tat scala.collection.Iterator$$anon$11.hasNext(Iterator.scala:409)\n\tat scala.collection.Iterator$$anon$11.hasNext(Iterator.scala:409)\n\tat scala.collection.Iterator$$anon$11.hasNext(Iterator.scala:409)\n\tat scala.collection.Iterator$$anon$11.hasNext(Iterator.scala:409)\n\tat org.apache.spark.util.collection.ExternalSorter.insertAll(ExternalSorter.scala:191)\n\tat org.apache.spark.shuffle.sort.SortShuffleWriter.write(SortShuffleWriter.scala:62)\n\tat org.apache.spark.scheduler.ShuffleMapTask.runTask(ShuffleMapTask.scala:99)\n\tat org.apache.spark.scheduler.ShuffleMapTask.runTask(ShuffleMapTask.scala:55)\n\tat org.apache.spark.scheduler.Task.run(Task.scala:123)\n\tat org.apache.spark.executor.Executor$TaskRunner$$anonfun$10.apply(Executor.scala:408)\n\tat org.apache.spark.util.Utils$.tryWithSafeFinally(Utils.scala:1360)\n\tat org.apache.spark.executor.Executor$TaskRunner.run(Executor.scala:414)\n\tat java.util.concurrent.ThreadPoolExecutor.runWorker(ThreadPoolExecutor.java:1149)\n\tat java.util.concurrent.ThreadPoolExecutor$Worker.run(ThreadPoolExecutor.java:624)\n\t... 1 more\nCaused by: org.apache.spark.SparkException: Unseen label: 55 BROOKLYN.  To handle unseen labels, set Param handleInvalid to keep.\n\tat org.apache.spark.ml.feature.StringIndexerModel$$anonfun$9.apply(StringIndexer.scala:260)\n\tat org.apache.spark.ml.feature.StringIndexerModel$$anonfun$9.apply(StringIndexer.scala:246)\n\t... 18 more\n"
     ]
    }
   ],
   "source": [
    "print(accuracy = evaluator.evaluate(fnn_prediction))"
   ]
  },
  {
   "cell_type": "code",
   "execution_count": 87,
   "metadata": {},
   "outputs": [
    {
     "ename": "KeyboardInterrupt",
     "evalue": "",
     "output_type": "error",
     "traceback": [
      "\u001b[0;31m---------------------------------------------------------------------------\u001b[0m",
      "\u001b[0;31mKeyboardInterrupt\u001b[0m                         Traceback (most recent call last)",
      "\u001b[0;32m<ipython-input-87-3c9d15a03e5d>\u001b[0m in \u001b[0;36m<module>\u001b[0;34m\u001b[0m\n\u001b[1;32m      1\u001b[0m \u001b[0mevaluator\u001b[0m \u001b[0;34m=\u001b[0m \u001b[0mMulticlassClassificationEvaluator\u001b[0m\u001b[0;34m(\u001b[0m\u001b[0;34m)\u001b[0m\u001b[0;34m\u001b[0m\u001b[0;34m\u001b[0m\u001b[0m\n\u001b[1;32m      2\u001b[0m print('F1-Score ', evaluator.evaluate(prediction, \n\u001b[0;32m----> 3\u001b[0;31m                                       {evaluator.metricName: 'f1'}))\n\u001b[0m\u001b[1;32m      4\u001b[0m print('Precision ', evaluator.evaluate(prediction,\n\u001b[1;32m      5\u001b[0m                                        {evaluator.metricName:                    'weightedPrecision'}))\n",
      "\u001b[0;32m/usr/lib/spark/python/pyspark/ml/evaluation.py\u001b[0m in \u001b[0;36mevaluate\u001b[0;34m(self, dataset, params)\u001b[0m\n\u001b[1;32m     67\u001b[0m         \u001b[0;32mif\u001b[0m \u001b[0misinstance\u001b[0m\u001b[0;34m(\u001b[0m\u001b[0mparams\u001b[0m\u001b[0;34m,\u001b[0m \u001b[0mdict\u001b[0m\u001b[0;34m)\u001b[0m\u001b[0;34m:\u001b[0m\u001b[0;34m\u001b[0m\u001b[0;34m\u001b[0m\u001b[0m\n\u001b[1;32m     68\u001b[0m             \u001b[0;32mif\u001b[0m \u001b[0mparams\u001b[0m\u001b[0;34m:\u001b[0m\u001b[0;34m\u001b[0m\u001b[0;34m\u001b[0m\u001b[0m\n\u001b[0;32m---> 69\u001b[0;31m                 \u001b[0;32mreturn\u001b[0m \u001b[0mself\u001b[0m\u001b[0;34m.\u001b[0m\u001b[0mcopy\u001b[0m\u001b[0;34m(\u001b[0m\u001b[0mparams\u001b[0m\u001b[0;34m)\u001b[0m\u001b[0;34m.\u001b[0m\u001b[0m_evaluate\u001b[0m\u001b[0;34m(\u001b[0m\u001b[0mdataset\u001b[0m\u001b[0;34m)\u001b[0m\u001b[0;34m\u001b[0m\u001b[0;34m\u001b[0m\u001b[0m\n\u001b[0m\u001b[1;32m     70\u001b[0m             \u001b[0;32melse\u001b[0m\u001b[0;34m:\u001b[0m\u001b[0;34m\u001b[0m\u001b[0;34m\u001b[0m\u001b[0m\n\u001b[1;32m     71\u001b[0m                 \u001b[0;32mreturn\u001b[0m \u001b[0mself\u001b[0m\u001b[0;34m.\u001b[0m\u001b[0m_evaluate\u001b[0m\u001b[0;34m(\u001b[0m\u001b[0mdataset\u001b[0m\u001b[0;34m)\u001b[0m\u001b[0;34m\u001b[0m\u001b[0;34m\u001b[0m\u001b[0m\n",
      "\u001b[0;32m/usr/lib/spark/python/pyspark/ml/evaluation.py\u001b[0m in \u001b[0;36m_evaluate\u001b[0;34m(self, dataset)\u001b[0m\n\u001b[1;32m     99\u001b[0m         \"\"\"\n\u001b[1;32m    100\u001b[0m         \u001b[0mself\u001b[0m\u001b[0;34m.\u001b[0m\u001b[0m_transfer_params_to_java\u001b[0m\u001b[0;34m(\u001b[0m\u001b[0;34m)\u001b[0m\u001b[0;34m\u001b[0m\u001b[0;34m\u001b[0m\u001b[0m\n\u001b[0;32m--> 101\u001b[0;31m         \u001b[0;32mreturn\u001b[0m \u001b[0mself\u001b[0m\u001b[0;34m.\u001b[0m\u001b[0m_java_obj\u001b[0m\u001b[0;34m.\u001b[0m\u001b[0mevaluate\u001b[0m\u001b[0;34m(\u001b[0m\u001b[0mdataset\u001b[0m\u001b[0;34m.\u001b[0m\u001b[0m_jdf\u001b[0m\u001b[0;34m)\u001b[0m\u001b[0;34m\u001b[0m\u001b[0;34m\u001b[0m\u001b[0m\n\u001b[0m\u001b[1;32m    102\u001b[0m \u001b[0;34m\u001b[0m\u001b[0m\n\u001b[1;32m    103\u001b[0m     \u001b[0;32mdef\u001b[0m \u001b[0misLargerBetter\u001b[0m\u001b[0;34m(\u001b[0m\u001b[0mself\u001b[0m\u001b[0;34m)\u001b[0m\u001b[0;34m:\u001b[0m\u001b[0;34m\u001b[0m\u001b[0;34m\u001b[0m\u001b[0m\n",
      "\u001b[0;32m/usr/lib/spark/python/lib/py4j-0.10.7-src.zip/py4j/java_gateway.py\u001b[0m in \u001b[0;36m__call__\u001b[0;34m(self, *args)\u001b[0m\n\u001b[1;32m   1253\u001b[0m             \u001b[0mproto\u001b[0m\u001b[0;34m.\u001b[0m\u001b[0mEND_COMMAND_PART\u001b[0m\u001b[0;34m\u001b[0m\u001b[0;34m\u001b[0m\u001b[0m\n\u001b[1;32m   1254\u001b[0m \u001b[0;34m\u001b[0m\u001b[0m\n\u001b[0;32m-> 1255\u001b[0;31m         \u001b[0manswer\u001b[0m \u001b[0;34m=\u001b[0m \u001b[0mself\u001b[0m\u001b[0;34m.\u001b[0m\u001b[0mgateway_client\u001b[0m\u001b[0;34m.\u001b[0m\u001b[0msend_command\u001b[0m\u001b[0;34m(\u001b[0m\u001b[0mcommand\u001b[0m\u001b[0;34m)\u001b[0m\u001b[0;34m\u001b[0m\u001b[0;34m\u001b[0m\u001b[0m\n\u001b[0m\u001b[1;32m   1256\u001b[0m         return_value = get_return_value(\n\u001b[1;32m   1257\u001b[0m             answer, self.gateway_client, self.target_id, self.name)\n",
      "\u001b[0;32m/usr/lib/spark/python/lib/py4j-0.10.7-src.zip/py4j/java_gateway.py\u001b[0m in \u001b[0;36msend_command\u001b[0;34m(self, command, retry, binary)\u001b[0m\n\u001b[1;32m    983\u001b[0m         \u001b[0mconnection\u001b[0m \u001b[0;34m=\u001b[0m \u001b[0mself\u001b[0m\u001b[0;34m.\u001b[0m\u001b[0m_get_connection\u001b[0m\u001b[0;34m(\u001b[0m\u001b[0;34m)\u001b[0m\u001b[0;34m\u001b[0m\u001b[0;34m\u001b[0m\u001b[0m\n\u001b[1;32m    984\u001b[0m         \u001b[0;32mtry\u001b[0m\u001b[0;34m:\u001b[0m\u001b[0;34m\u001b[0m\u001b[0;34m\u001b[0m\u001b[0m\n\u001b[0;32m--> 985\u001b[0;31m             \u001b[0mresponse\u001b[0m \u001b[0;34m=\u001b[0m \u001b[0mconnection\u001b[0m\u001b[0;34m.\u001b[0m\u001b[0msend_command\u001b[0m\u001b[0;34m(\u001b[0m\u001b[0mcommand\u001b[0m\u001b[0;34m)\u001b[0m\u001b[0;34m\u001b[0m\u001b[0;34m\u001b[0m\u001b[0m\n\u001b[0m\u001b[1;32m    986\u001b[0m             \u001b[0;32mif\u001b[0m \u001b[0mbinary\u001b[0m\u001b[0;34m:\u001b[0m\u001b[0;34m\u001b[0m\u001b[0;34m\u001b[0m\u001b[0m\n\u001b[1;32m    987\u001b[0m                 \u001b[0;32mreturn\u001b[0m \u001b[0mresponse\u001b[0m\u001b[0;34m,\u001b[0m \u001b[0mself\u001b[0m\u001b[0;34m.\u001b[0m\u001b[0m_create_connection_guard\u001b[0m\u001b[0;34m(\u001b[0m\u001b[0mconnection\u001b[0m\u001b[0;34m)\u001b[0m\u001b[0;34m\u001b[0m\u001b[0;34m\u001b[0m\u001b[0m\n",
      "\u001b[0;32m/usr/lib/spark/python/lib/py4j-0.10.7-src.zip/py4j/java_gateway.py\u001b[0m in \u001b[0;36msend_command\u001b[0;34m(self, command)\u001b[0m\n\u001b[1;32m   1150\u001b[0m \u001b[0;34m\u001b[0m\u001b[0m\n\u001b[1;32m   1151\u001b[0m         \u001b[0;32mtry\u001b[0m\u001b[0;34m:\u001b[0m\u001b[0;34m\u001b[0m\u001b[0;34m\u001b[0m\u001b[0m\n\u001b[0;32m-> 1152\u001b[0;31m             \u001b[0manswer\u001b[0m \u001b[0;34m=\u001b[0m \u001b[0msmart_decode\u001b[0m\u001b[0;34m(\u001b[0m\u001b[0mself\u001b[0m\u001b[0;34m.\u001b[0m\u001b[0mstream\u001b[0m\u001b[0;34m.\u001b[0m\u001b[0mreadline\u001b[0m\u001b[0;34m(\u001b[0m\u001b[0;34m)\u001b[0m\u001b[0;34m[\u001b[0m\u001b[0;34m:\u001b[0m\u001b[0;34m-\u001b[0m\u001b[0;36m1\u001b[0m\u001b[0;34m]\u001b[0m\u001b[0;34m)\u001b[0m\u001b[0;34m\u001b[0m\u001b[0;34m\u001b[0m\u001b[0m\n\u001b[0m\u001b[1;32m   1153\u001b[0m             \u001b[0mlogger\u001b[0m\u001b[0;34m.\u001b[0m\u001b[0mdebug\u001b[0m\u001b[0;34m(\u001b[0m\u001b[0;34m\"Answer received: {0}\"\u001b[0m\u001b[0;34m.\u001b[0m\u001b[0mformat\u001b[0m\u001b[0;34m(\u001b[0m\u001b[0manswer\u001b[0m\u001b[0;34m)\u001b[0m\u001b[0;34m)\u001b[0m\u001b[0;34m\u001b[0m\u001b[0;34m\u001b[0m\u001b[0m\n\u001b[1;32m   1154\u001b[0m             \u001b[0;32mif\u001b[0m \u001b[0manswer\u001b[0m\u001b[0;34m.\u001b[0m\u001b[0mstartswith\u001b[0m\u001b[0;34m(\u001b[0m\u001b[0mproto\u001b[0m\u001b[0;34m.\u001b[0m\u001b[0mRETURN_MESSAGE\u001b[0m\u001b[0;34m)\u001b[0m\u001b[0;34m:\u001b[0m\u001b[0;34m\u001b[0m\u001b[0;34m\u001b[0m\u001b[0m\n",
      "\u001b[0;32m~/miniconda/lib/python3.7/socket.py\u001b[0m in \u001b[0;36mreadinto\u001b[0;34m(self, b)\u001b[0m\n\u001b[1;32m    587\u001b[0m         \u001b[0;32mwhile\u001b[0m \u001b[0;32mTrue\u001b[0m\u001b[0;34m:\u001b[0m\u001b[0;34m\u001b[0m\u001b[0;34m\u001b[0m\u001b[0m\n\u001b[1;32m    588\u001b[0m             \u001b[0;32mtry\u001b[0m\u001b[0;34m:\u001b[0m\u001b[0;34m\u001b[0m\u001b[0;34m\u001b[0m\u001b[0m\n\u001b[0;32m--> 589\u001b[0;31m                 \u001b[0;32mreturn\u001b[0m \u001b[0mself\u001b[0m\u001b[0;34m.\u001b[0m\u001b[0m_sock\u001b[0m\u001b[0;34m.\u001b[0m\u001b[0mrecv_into\u001b[0m\u001b[0;34m(\u001b[0m\u001b[0mb\u001b[0m\u001b[0;34m)\u001b[0m\u001b[0;34m\u001b[0m\u001b[0;34m\u001b[0m\u001b[0m\n\u001b[0m\u001b[1;32m    590\u001b[0m             \u001b[0;32mexcept\u001b[0m \u001b[0mtimeout\u001b[0m\u001b[0;34m:\u001b[0m\u001b[0;34m\u001b[0m\u001b[0;34m\u001b[0m\u001b[0m\n\u001b[1;32m    591\u001b[0m                 \u001b[0mself\u001b[0m\u001b[0;34m.\u001b[0m\u001b[0m_timeout_occurred\u001b[0m \u001b[0;34m=\u001b[0m \u001b[0;32mTrue\u001b[0m\u001b[0;34m\u001b[0m\u001b[0;34m\u001b[0m\u001b[0m\n",
      "\u001b[0;31mKeyboardInterrupt\u001b[0m: "
     ]
    }
   ],
   "source": [
    "evaluator = MulticlassClassificationEvaluator() \n",
    "print('F1-Score ', evaluator.evaluate(prediction, \n",
    "                                      {evaluator.metricName: 'f1'}))\n",
    "print('Precision ', evaluator.evaluate(prediction,\n",
    "                                       {evaluator.metricName:                    'weightedPrecision'}))\n",
    "print('Recall ', evaluator.evaluate(prediction, \n",
    "                                    {evaluator.metricName: 'weightedRecall'}))\n",
    "print('Accuracy ', evaluator.evaluate(prediction, \n",
    "                            22209          {evaluator.metricName: 'accuracy'}))"
   ]
  },
  {
   "cell_type": "code",
   "execution_count": null,
   "metadata": {},
   "outputs": [],
   "source": [
    "22209"
   ]
  }
 ],
 "metadata": {
  "kernelspec": {
   "display_name": "Python 3",
   "language": "python",
   "name": "python3"
  },
  "language_info": {
   "codemirror_mode": {
    "name": "ipython",
    "version": 3
   },
   "file_extension": ".py",
   "mimetype": "text/x-python",
   "name": "python",
   "nbconvert_exporter": "python",
   "pygments_lexer": "ipython3",
   "version": "3.7.6"
  }
 },
 "nbformat": 4,
 "nbformat_minor": 4
}
