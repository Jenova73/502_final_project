{
 "cells": [
  {
   "cell_type": "code",
   "execution_count": 1,
   "metadata": {},
   "outputs": [],
   "source": [
    "import findspark\n",
    "findspark.init()\n",
    "from pyspark.sql import SparkSession\n",
    "spark = SparkSession.builder.appName(\"final_project\").getOrCreate()"
   ]
  },
  {
   "cell_type": "code",
   "execution_count": 2,
   "metadata": {},
   "outputs": [
    {
     "data": {
      "text/html": [
       "\n",
       "            <div>\n",
       "                <p><b>SparkSession - in-memory</b></p>\n",
       "                \n",
       "        <div>\n",
       "            <p><b>SparkContext</b></p>\n",
       "\n",
       "            <p><a href=\"http://ip-172-31-38-185.ec2.internal:4040\">Spark UI</a></p>\n",
       "\n",
       "            <dl>\n",
       "              <dt>Version</dt>\n",
       "                <dd><code>v2.4.4</code></dd>\n",
       "              <dt>Master</dt>\n",
       "                <dd><code>yarn</code></dd>\n",
       "              <dt>AppName</dt>\n",
       "                <dd><code>final_project</code></dd>\n",
       "            </dl>\n",
       "        </div>\n",
       "        \n",
       "            </div>\n",
       "        "
      ],
      "text/plain": [
       "<pyspark.sql.session.SparkSession at 0x7fc7eca98490>"
      ]
     },
     "execution_count": 2,
     "metadata": {},
     "output_type": "execute_result"
    }
   ],
   "source": [
    "spark"
   ]
  },
  {
   "cell_type": "markdown",
   "metadata": {},
   "source": [
    "# 1 load and explore data"
   ]
  },
  {
   "cell_type": "code",
   "execution_count": 3,
   "metadata": {},
   "outputs": [],
   "source": [
    "#read data\n",
    "df2004 = spark.read.csv(\"s3://jenova73/final/311_Service_Requests_for_2004.csv\",\n",
    "                      header = True, inferSchema= True)\n",
    "df2005 = spark.read.csv(\"s3://jenova73/final/311_Service_Requests_for_2005.csv\",\n",
    "                      header = True, inferSchema= True)\n",
    "df2006 = spark.read.csv(\"s3://jenova73/final/311_Service_Requests_for_2006.csv\",\n",
    "                      header = True, inferSchema= True)\n",
    "df2007 = spark.read.csv(\"s3://jenova73/final/311_Service_Requests_for_2007.csv\",\n",
    "                      header = True, inferSchema= True)\n",
    "df2008 = spark.read.csv(\"s3://jenova73/final/311_Service_Requests_for_2008.csv\",\n",
    "                      header = True, inferSchema= True)\n",
    "df2009 = spark.read.csv(\"s3://jenova73/final/311_Service_Requests_for_2009.csv\",\n",
    "                      header = True, inferSchema= True)\n",
    "df2010 = spark.read.csv(\"s3://jenova73/final/311_Service_Requests_from_2010_to_Present (1).csv\",\n",
    "                      header = True, inferSchema= True)"
   ]
  },
  {
   "cell_type": "code",
   "execution_count": 4,
   "metadata": {},
   "outputs": [
    {
     "name": "stdout",
     "output_type": "stream",
     "text": [
      "root\n",
      " |-- Unique Key: integer (nullable = true)\n",
      " |-- Created Date: string (nullable = true)\n",
      " |-- Closed Date: string (nullable = true)\n",
      " |-- Agency: string (nullable = true)\n",
      " |-- Agency Name: string (nullable = true)\n",
      " |-- Complaint Type: string (nullable = true)\n",
      " |-- Descriptor: string (nullable = true)\n",
      " |-- Location Type: string (nullable = true)\n",
      " |-- Incident Zip: string (nullable = true)\n",
      " |-- Incident Address: string (nullable = true)\n",
      " |-- Street Name: string (nullable = true)\n",
      " |-- Cross Street 1: string (nullable = true)\n",
      " |-- Cross Street 2: string (nullable = true)\n",
      " |-- Intersection Street 1: string (nullable = true)\n",
      " |-- Intersection Street 2: string (nullable = true)\n",
      " |-- Address Type: string (nullable = true)\n",
      " |-- City: string (nullable = true)\n",
      " |-- Landmark: string (nullable = true)\n",
      " |-- Facility Type: string (nullable = true)\n",
      " |-- Status: string (nullable = true)\n",
      " |-- Due Date: string (nullable = true)\n",
      " |-- Resolution Description: string (nullable = true)\n",
      " |-- Resolution Action Updated Date: string (nullable = true)\n",
      " |-- Community Board: string (nullable = true)\n",
      " |-- BBL: string (nullable = true)\n",
      " |-- Borough: string (nullable = true)\n",
      " |-- X Coordinate (State Plane): long (nullable = true)\n",
      " |-- Y Coordinate (State Plane): string (nullable = true)\n",
      " |-- Open Data Channel Type: string (nullable = true)\n",
      " |-- Park Facility Name: string (nullable = true)\n",
      " |-- Park Borough: string (nullable = true)\n",
      " |-- Vehicle Type: string (nullable = true)\n",
      " |-- Taxi Company Borough: string (nullable = true)\n",
      " |-- Taxi Pick Up Location: string (nullable = true)\n",
      " |-- Bridge Highway Name: string (nullable = true)\n",
      " |-- Bridge Highway Direction: string (nullable = true)\n",
      " |-- Road Ramp: string (nullable = true)\n",
      " |-- Bridge Highway Segment: string (nullable = true)\n",
      " |-- Latitude: double (nullable = true)\n",
      " |-- Longitude: double (nullable = true)\n",
      " |-- Location: string (nullable = true)\n",
      "\n",
      "root\n",
      " |-- Unique Key: integer (nullable = true)\n",
      " |-- Created Date: string (nullable = true)\n",
      " |-- Closed Date: string (nullable = true)\n",
      " |-- Agency: string (nullable = true)\n",
      " |-- Agency Name: string (nullable = true)\n",
      " |-- Complaint Type: string (nullable = true)\n",
      " |-- Descriptor: string (nullable = true)\n",
      " |-- Location Type: string (nullable = true)\n",
      " |-- Incident Zip: string (nullable = true)\n",
      " |-- Incident Address: string (nullable = true)\n",
      " |-- Street Name: string (nullable = true)\n",
      " |-- Cross Street 1: string (nullable = true)\n",
      " |-- Cross Street 2: string (nullable = true)\n",
      " |-- Intersection Street 1: string (nullable = true)\n",
      " |-- Intersection Street 2: string (nullable = true)\n",
      " |-- Address Type: string (nullable = true)\n",
      " |-- City: string (nullable = true)\n",
      " |-- Landmark: string (nullable = true)\n",
      " |-- Facility Type: string (nullable = true)\n",
      " |-- Status: string (nullable = true)\n",
      " |-- Due Date: string (nullable = true)\n",
      " |-- Resolution Action Updated Date: string (nullable = true)\n",
      " |-- Community Board: string (nullable = true)\n",
      " |-- Borough: string (nullable = true)\n",
      " |-- X Coordinate (State Plane): integer (nullable = true)\n",
      " |-- Y Coordinate (State Plane): integer (nullable = true)\n",
      " |-- Park Facility Name: string (nullable = true)\n",
      " |-- Park Borough: string (nullable = true)\n",
      " |-- School Name: string (nullable = true)\n",
      " |-- School Number: string (nullable = true)\n",
      " |-- School Region: string (nullable = true)\n",
      " |-- School Code: string (nullable = true)\n",
      " |-- School Phone Number: string (nullable = true)\n",
      " |-- School Address: string (nullable = true)\n",
      " |-- School City: string (nullable = true)\n",
      " |-- School State: string (nullable = true)\n",
      " |-- School Zip: string (nullable = true)\n",
      " |-- School Not Found: string (nullable = true)\n",
      " |-- School or Citywide Complaint: string (nullable = true)\n",
      " |-- Vehicle Type: string (nullable = true)\n",
      " |-- Taxi Company Borough: string (nullable = true)\n",
      " |-- Taxi Pick Up Location: string (nullable = true)\n",
      " |-- Bridge Highway Name: string (nullable = true)\n",
      " |-- Bridge Highway Direction: string (nullable = true)\n",
      " |-- Road Ramp: string (nullable = true)\n",
      " |-- Bridge Highway Segment: string (nullable = true)\n",
      " |-- Garage Lot Name: string (nullable = true)\n",
      " |-- Ferry Direction: string (nullable = true)\n",
      " |-- Ferry Terminal Name: string (nullable = true)\n",
      " |-- Latitude: double (nullable = true)\n",
      " |-- Longitude: double (nullable = true)\n",
      " |-- Location: string (nullable = true)\n",
      "\n"
     ]
    }
   ],
   "source": [
    "#chech the schema of data\n",
    "df2010.printSchema()\n",
    "df2004.printSchema()\n"
   ]
  },
  {
   "cell_type": "code",
   "execution_count": 5,
   "metadata": {},
   "outputs": [],
   "source": [
    "# remove other columns and keep required\n",
    "columns = ['Created Date','Closed Date','Agency','Agency Name',\n",
    "          'Complaint Type','Descriptor','Location Type','Incident Zip',\n",
    "          'City','Status','Community Board','Borough','Park Borough',\n",
    "          'Latitude','Longitude']"
   ]
  },
  {
   "cell_type": "code",
   "execution_count": 7,
   "metadata": {},
   "outputs": [],
   "source": [
    "# merge all data together\n",
    "merged = df2004.union(df2005)\n",
    "merged = merged.union(df2006)\n",
    "merged = merged.union(df2007)\n",
    "merged = merged.union(df2008)\n",
    "merged = merged.union(df2009)\n",
    "\n",
    "#since the difference of data of 2010, we need to do it seperately\n",
    "merged = merged.select(*columns)\n",
    "df2010=df2010.select(*columns)\n",
    "data = merged.union(df2010)\n"
   ]
  },
  {
   "cell_type": "code",
   "execution_count": 8,
   "metadata": {},
   "outputs": [
    {
     "name": "stdout",
     "output_type": "stream",
     "text": [
      "root\n",
      " |-- Created Date: string (nullable = true)\n",
      " |-- Closed Date: string (nullable = true)\n",
      " |-- Agency: string (nullable = true)\n",
      " |-- Agency Name: string (nullable = true)\n",
      " |-- Complaint Type: string (nullable = true)\n",
      " |-- Descriptor: string (nullable = true)\n",
      " |-- Location Type: string (nullable = true)\n",
      " |-- Incident Zip: string (nullable = true)\n",
      " |-- City: string (nullable = true)\n",
      " |-- Status: string (nullable = true)\n",
      " |-- Community Board: string (nullable = true)\n",
      " |-- Borough: string (nullable = true)\n",
      " |-- Park Borough: string (nullable = true)\n",
      " |-- Latitude: double (nullable = true)\n",
      " |-- Longitude: double (nullable = true)\n",
      "\n"
     ]
    }
   ],
   "source": [
    "data.printSchema()"
   ]
  },
  {
   "cell_type": "code",
   "execution_count": 9,
   "metadata": {},
   "outputs": [
    {
     "data": {
      "text/plain": [
       "32953164"
      ]
     },
     "execution_count": 9,
     "metadata": {},
     "output_type": "execute_result"
    }
   ],
   "source": [
    "data.count()"
   ]
  },
  {
   "cell_type": "code",
   "execution_count": 10,
   "metadata": {},
   "outputs": [],
   "source": [
    "from pyspark.sql import functions as F\n",
    "from pyspark.sql.functions import col, udf,rank,sum\n",
    "from pyspark.sql.types import DateType\n",
    "from pyspark.sql.functions import to_timestamp\n",
    "from pyspark.sql.types import StringType, IntegerType, FloatType"
   ]
  },
  {
   "cell_type": "code",
   "execution_count": 11,
   "metadata": {},
   "outputs": [],
   "source": [
    "# drop na data\n",
    "data=data.dropna()"
   ]
  },
  {
   "cell_type": "code",
   "execution_count": 12,
   "metadata": {},
   "outputs": [
    {
     "data": {
      "text/plain": [
       "21920178"
      ]
     },
     "execution_count": 12,
     "metadata": {},
     "output_type": "execute_result"
    }
   ],
   "source": [
    "data.count()"
   ]
  },
  {
   "cell_type": "markdown",
   "metadata": {},
   "source": [
    "# 2 EDA"
   ]
  },
  {
   "cell_type": "code",
   "execution_count": 44,
   "metadata": {},
   "outputs": [],
   "source": [
    "import matplotlib.pyplot as plt\n",
    "plt.style.use('ggplot')\n",
    "from pyspark.sql import Window\n",
    "import pandas\n",
    "\n",
    "# check most frequent objects in specific columns\n",
    "def bar_plot(data,column,n):\n",
    "    plot = data.select([column]).\\\n",
    "       groupBy(column).\\\n",
    "       agg(F.count(column).alias('nums'))\n",
    "    df = plot.toPandas()\n",
    "    df=df.sort_values(by=['nums'],ascending=False)\n",
    "    df=df[:n]\n",
    "    print(df)\n",
    "    plt.figure(figsize=(15,10))\n",
    "    plt.xticks(rotation=45)\n",
    "    plt.bar(df[column],df['nums'])\n"
   ]
  },
  {
   "cell_type": "code",
   "execution_count": 46,
   "metadata": {},
   "outputs": [
    {
     "name": "stderr",
     "output_type": "stream",
     "text": [
      "/home/hadoop/miniconda/lib/python3.7/site-packages/pyarrow/util.py:39: FutureWarning: pyarrow.open_stream is deprecated as of 0.17.0, please use pyarrow.ipc.open_stream instead\n",
      "  warnings.warn(msg, FutureWarning)\n"
     ]
    },
    {
     "name": "stdout",
     "output_type": "stream",
     "text": [
      "              City     nums\n",
      "57        BROOKLYN  7246100\n",
      "90           BRONX  4697798\n",
      "125       NEW YORK  4488321\n",
      "144  STATEN ISLAND   903565\n",
      "133        JAMAICA   377391\n"
     ]
    },
    {
     "data": {
      "image/png": "[encoded data removed]",
      "text/plain": [
       "<Figure size 1080x720 with 1 Axes>"
      ]
     },
     "metadata": {},
     "output_type": "display_data"
    }
   ],
   "source": [
    "# 5 most frequent city\n",
    "bar_plot(data,'City', 5)"
   ]
  },
  {
   "cell_type": "code",
   "execution_count": 47,
   "metadata": {},
   "outputs": [
    {
     "name": "stderr",
     "output_type": "stream",
     "text": [
      "/home/hadoop/miniconda/lib/python3.7/site-packages/pyarrow/util.py:39: FutureWarning: pyarrow.open_stream is deprecated as of 0.17.0, please use pyarrow.ipc.open_stream instead\n",
      "  warnings.warn(msg, FutureWarning)\n"
     ]
    },
    {
     "name": "stdout",
     "output_type": "stream",
     "text": [
      "          Complaint Type     nums\n",
      "164              HEATING  2220489\n",
      "44   Noise - Residential  1849472\n",
      "78        HEAT/HOT WATER  1294683\n",
      "146             PLUMBING  1290506\n",
      "72      Blocked Driveway  1223661\n"
     ]
    },
    {
     "data": {
      "image/png": "[encoded data removed]",
      "text/plain": [
       "<Figure size 1080x720 with 1 Axes>"
      ]
     },
     "metadata": {},
     "output_type": "display_data"
    }
   ],
   "source": [
    "# 5 most frequent Complaint Type\n",
    "bar_plot(data,'Complaint Type', 5)"
   ]
  },
  {
   "cell_type": "code",
   "execution_count": 48,
   "metadata": {},
   "outputs": [
    {
     "name": "stderr",
     "output_type": "stream",
     "text": [
      "/home/hadoop/miniconda/lib/python3.7/site-packages/pyarrow/util.py:39: FutureWarning: pyarrow.open_stream is deprecated as of 0.17.0, please use pyarrow.ipc.open_stream instead\n",
      "  warnings.warn(msg, FutureWarning)\n"
     ]
    },
    {
     "name": "stdout",
     "output_type": "stream",
     "text": [
      "                                            Agency Name     nums\n",
      "463   Department of Housing Preservation and Develop...  9663527\n",
      "1636                    New York City Police Department  6412682\n",
      "447                        Department of Transportation  1373609\n",
      "1799                 Department of Parks and Recreation   849771\n",
      "1216            Department of Health and Mental Hygiene   592402\n"
     ]
    },
    {
     "data": {
      "image/png": "[encoded data removed]",
      "text/plain": [
       "<Figure size 1080x720 with 1 Axes>"
      ]
     },
     "metadata": {},
     "output_type": "display_data"
    }
   ],
   "source": [
    "# 5 most frequent Agency\n",
    "bar_plot(data,'Agency Name', 5)"
   ]
  },
  {
   "cell_type": "markdown",
   "metadata": {},
   "source": [
    "# 3 Data Cleaning"
   ]
  },
  {
   "cell_type": "code",
   "execution_count": 49,
   "metadata": {},
   "outputs": [],
   "source": [
    "# change data into appropriate data\n",
    "from pyspark.sql.functions import to_date, to_timestamp, datediff,year, month\n",
    "df1=data.withColumn(\"start_date\", to_date('Created Date','MM/dd/yyyy HH:mm:ss'))\n",
    "df1=df1.withColumn(\"end_date\", to_date('Closed Date','MM/dd/yyyy HH:mm:ss'))\n",
    "df1=df1.withColumn('Time',datediff('end_date','start_date'))\n",
    "df1= df1.withColumn('Timebin',F.when(df1.Time<3, 0).otherwise(F.when(df1.Time<7,1).otherwise(2)))\n",
    "df1=df1.withColumn('Year',year('start_date'))\n",
    "df1=df1.withColumn('Month',month('start_date'))\n",
    "df1=df1.drop('Created Date','Closed Date','start_date','end_date','Time')\n"
   ]
  },
  {
   "cell_type": "code",
   "execution_count": 50,
   "metadata": {},
   "outputs": [],
   "source": [
    "df1 = df1.withColumn(\"Timebin\",col(\"Timebin\").cast(StringType()))\n",
    "df1 = df1.withColumn(\"Year\",col(\"Year\").cast(StringType()))\n",
    "df1 = df1.withColumn(\"Month\",col(\"Month\").cast(StringType()))\n"
   ]
  },
  {
   "cell_type": "code",
   "execution_count": 51,
   "metadata": {},
   "outputs": [
    {
     "name": "stdout",
     "output_type": "stream",
     "text": [
      "root\n",
      " |-- Agency: string (nullable = true)\n",
      " |-- Agency Name: string (nullable = true)\n",
      " |-- Complaint Type: string (nullable = true)\n",
      " |-- Descriptor: string (nullable = true)\n",
      " |-- Location Type: string (nullable = true)\n",
      " |-- Incident Zip: string (nullable = true)\n",
      " |-- City: string (nullable = true)\n",
      " |-- Status: string (nullable = true)\n",
      " |-- Community Board: string (nullable = true)\n",
      " |-- Borough: string (nullable = true)\n",
      " |-- Park Borough: string (nullable = true)\n",
      " |-- Latitude: double (nullable = true)\n",
      " |-- Longitude: double (nullable = true)\n",
      " |-- Timebin: string (nullable = false)\n",
      " |-- Year: string (nullable = true)\n",
      " |-- Month: string (nullable = true)\n",
      "\n"
     ]
    }
   ],
   "source": [
    "df1.printSchema()"
   ]
  },
  {
   "cell_type": "code",
   "execution_count": 57,
   "metadata": {},
   "outputs": [
    {
     "name": "stderr",
     "output_type": "stream",
     "text": [
      "/home/hadoop/miniconda/lib/python3.7/site-packages/pyarrow/util.py:39: FutureWarning: pyarrow.open_stream is deprecated as of 0.17.0, please use pyarrow.ipc.open_stream instead\n",
      "  warnings.warn(msg, FutureWarning)\n"
     ]
    },
    {
     "name": "stdout",
     "output_type": "stream",
     "text": [
      "    Year     nums\n",
      "11  2004   733522\n",
      "7   2005  1162979\n",
      "10  2006  1096505\n",
      "14  2007  1150875\n",
      "13  2008  1166142\n",
      "8   2009  1135102\n",
      "16  2010  1306354\n",
      "12  2011  1195828\n",
      "1   2012  1203968\n",
      "6   2013  1236465\n",
      "5   2014  1447394\n",
      "15  2015  1563722\n",
      "0   2016  1684453\n",
      "4   2017  1802083\n",
      "9   2018  2004471\n",
      "3   2019  1681892\n",
      "2   2020   348423\n"
     ]
    },
    {
     "data": {
      "image/png": "[encoded data removed]",
      "text/plain": [
       "<Figure size 1080x720 with 1 Axes>"
      ]
     },
     "metadata": {},
     "output_type": "display_data"
    }
   ],
   "source": [
    "# number in each year\n",
    "def line_plot(data,column):\n",
    "    plot = data.select([column]).\\\n",
    "       groupBy(column).\\\n",
    "       agg(F.count(column).alias('nums'))\n",
    "    df = plot.toPandas()\n",
    "    df=df.sort_values(by=[column],ascending=True)\n",
    "    print(df)\n",
    "    plt.figure(figsize=(15,10))\n",
    "    plt.xticks(rotation=45)\n",
    "    plt.plot(df[column],df['nums'],'o-')\n",
    "\n",
    "\n",
    "line_plot(df1,'Year')"
   ]
  },
  {
   "cell_type": "code",
   "execution_count": 60,
   "metadata": {},
   "outputs": [
    {
     "name": "stdout",
     "output_type": "stream",
     "text": [
      "+------------+------+--------+---------+------+-------------+-----------+\n",
      "|Year_Borough| BRONX|BROOKLYN|MANHATTAN|QUEENS|STATEN ISLAND|Unspecified|\n",
      "+------------+------+--------+---------+------+-------------+-----------+\n",
      "|        2014|316296|  471700|   299207|302816|        57330|         45|\n",
      "|        2020| 78397|  106794|    72417| 77389|        13426|          0|\n",
      "|        2013|269877|  407296|   259191|251708|        48259|        134|\n",
      "|        2018|389709|  664673|   358653|483266|       104952|       3218|\n",
      "|        2007| 55674|  143679|   111748|129523|        31420|     678831|\n",
      "|        2004| 46265|  105227|    75950| 87529|        22155|     396396|\n",
      "|        2015|330351|  502642|   328661|338760|        63305|          3|\n",
      "|        2011|215121|  359940|   211157|233815|        47725|     128070|\n",
      "|        2008| 58092|  148087|   115257|138340|        32548|     673818|\n",
      "|        2012|259704|  401149|   236844|257409|        48851|         11|\n",
      "|        2019|331112|  550889|   311356|404840|        82386|       1309|\n",
      "|        2005| 58050|  142259|    90159|123646|        34702|     714163|\n",
      "|        2010| 89493|  192548|   139011|181214|        36096|     667992|\n",
      "|        2009| 55522|  142663|   107275|133650|        29739|     666253|\n",
      "|        2016|354693|  535425|   371123|353671|        69540|          1|\n",
      "|        2017|365435|  587904|   350116|412016|        86499|        113|\n",
      "|        2006| 55282|  137799|    97565|121774|        31042|     653043|\n",
      "+------------+------+--------+---------+------+-------------+-----------+\n",
      "\n"
     ]
    }
   ],
   "source": [
    "# see the cross table between year and borough\n",
    "\n",
    "df1.crosstab('Year', 'Borough').show()"
   ]
  },
  {
   "cell_type": "markdown",
   "metadata": {},
   "source": [
    "# 4 prepare data"
   ]
  },
  {
   "cell_type": "code",
   "execution_count": 55,
   "metadata": {},
   "outputs": [],
   "source": [
    "from pyspark.ml.feature import OneHotEncoder, StringIndexer, IndexToString, VectorAssembler\n",
    "from pyspark.ml.classification import RandomForestClassifier, LogisticRegression\n",
    "from pyspark.ml.tuning import ParamGridBuilder\n",
    "from pyspark.ml.evaluation import MulticlassClassificationEvaluator\n",
    "from pyspark.ml import Pipeline, Model\n",
    "import numpy as np"
   ]
  },
  {
   "cell_type": "code",
   "execution_count": 19,
   "metadata": {},
   "outputs": [],
   "source": [
    "# latitude and longitude is not required in regression\n",
    "df1=df1.drop('Longitude','Latitude')\n",
    "df1=df1.dropna()"
   ]
  },
  {
   "cell_type": "code",
   "execution_count": 61,
   "metadata": {},
   "outputs": [],
   "source": [
    "# split data into train and test as 3:1\n",
    "(train, test) = (df1.randomSplit([0.75,0.25]))"
   ]
  },
  {
   "cell_type": "markdown",
   "metadata": {},
   "source": [
    "### change string or integer into index"
   ]
  },
  {
   "cell_type": "code",
   "execution_count": 62,
   "metadata": {},
   "outputs": [],
   "source": [
    "Agency_indexer = StringIndexer(inputCol = 'Agency',outputCol='Agency_index').setHandleInvalid(\"keep\")\n",
    "Agency_Name_indexer = StringIndexer(inputCol = 'Agency Name',outputCol='Agency_Name_index').setHandleInvalid(\"keep\")\n",
    "Complaint_Type_indexer = StringIndexer(inputCol = 'Complaint Type',outputCol='Complaint_Type_index').setHandleInvalid(\"keep\")\n",
    "Descriptor_indexer = StringIndexer(inputCol = 'Descriptor',outputCol='Descriptor_index').setHandleInvalid(\"keep\")\n",
    "Location_Type_indexer = StringIndexer(inputCol = 'Location Type',outputCol='Location_Type_index').setHandleInvalid(\"keep\")\n",
    "Incident_indexer = StringIndexer(inputCol = 'Incident Zip',outputCol='Incident_index').setHandleInvalid(\"keep\")\n",
    "City_indexer = StringIndexer(inputCol = 'City',outputCol='City_index').setHandleInvalid(\"keep\")\n",
    "Status_indexer = StringIndexer(inputCol = 'Status',outputCol='Status_index').setHandleInvalid(\"keep\")\n",
    "Community_Board_indexer = StringIndexer(inputCol = 'Community Board',outputCol='Community_Board_index')\n",
    "Borough_indexer = StringIndexer(inputCol = 'Borough',outputCol='Borough_index').setHandleInvalid(\"keep\")\n",
    "Park_indexer= StringIndexer(inputCol = 'Park Borough',outputCol='Park_index').setHandleInvalid(\"keep\")\n",
    "Timebin_indexer = StringIndexer(inputCol = 'Timebin',outputCol='label').setHandleInvalid(\"keep\")\n",
    "Year_indexer = StringIndexer(inputCol = 'Year',outputCol='Year_index').setHandleInvalid(\"keep\")\n",
    "Month_indexer = StringIndexer(inputCol = 'Month',outputCol='Month_index').setHandleInvalid(\"keep\")"
   ]
  },
  {
   "cell_type": "code",
   "execution_count": 63,
   "metadata": {},
   "outputs": [],
   "source": [
    "# assemble all features and label\n",
    "assembler = VectorAssembler(inputCols = [\"Agency_index\", \n",
    "                                         \"Agency_Name_index\",\n",
    "                                         \"Complaint_Type_index\",\n",
    "                                         \"Descriptor_index\",\n",
    "                                         \"Location_Type_index\",\n",
    "                                         \"Incident_index\",\n",
    "                                         \"Status_index\",\n",
    "                                         \"Borough_index\",\n",
    "                                         \"Community_Board_index\",\n",
    "                                         \"Park_index\",'City_index',\n",
    "                                        'Year_index','Month_index'],\n",
    "                            outputCol = 'features')"
   ]
  },
  {
   "cell_type": "markdown",
   "metadata": {},
   "source": [
    "# 5 Logistics Regression"
   ]
  },
  {
   "cell_type": "code",
   "execution_count": 64,
   "metadata": {},
   "outputs": [],
   "source": [
    "#use logistic regression\n",
    "Logistic_regression_pipeline = Pipeline(stages=[Agency_indexer,\n",
    "                                       Agency_Name_indexer,Complaint_Type_indexer,\n",
    "                                     Descriptor_indexer,Location_Type_indexer,Incident_indexer,\n",
    "                                     Status_indexer,Community_Board_indexer,Borough_indexer,\n",
    "                                     Park_indexer,City_indexer,Timebin_indexer,Year_indexer,Month_indexer,\n",
    "                                     assembler,\n",
    "                                     LogisticRegression(featuresCol = 'features',labelCol = 'label')])"
   ]
  },
  {
   "cell_type": "code",
   "execution_count": 67,
   "metadata": {},
   "outputs": [],
   "source": [
    "logistic_model = Logistic_regression_pipeline.fit(train)"
   ]
  },
  {
   "cell_type": "code",
   "execution_count": 68,
   "metadata": {},
   "outputs": [],
   "source": [
    "logistic_model.save(\"s3://jenova73/final/model/logistic_model\")"
   ]
  },
  {
   "cell_type": "code",
   "execution_count": 69,
   "metadata": {},
   "outputs": [],
   "source": [
    "prediction = logistic_model.transform(test).cache()"
   ]
  },
  {
   "cell_type": "code",
   "execution_count": 70,
   "metadata": {},
   "outputs": [
    {
     "name": "stdout",
     "output_type": "stream",
     "text": [
      "F1-Score  0.5422110288637008\n",
      "Precision  0.5164027559372757\n",
      "Recall  0.5957108034241347\n",
      "Accuracy  0.5957108034241347\n"
     ]
    }
   ],
   "source": [
    "# check the result\n",
    "evaluator = MulticlassClassificationEvaluator() \n",
    "print('F1-Score ', evaluator.evaluate(prediction, \n",
    "                                      {evaluator.metricName: 'f1'}))\n",
    "print('Precision ', evaluator.evaluate(prediction,\n",
    "                                       {evaluator.metricName:                    'weightedPrecision'}))\n",
    "print('Recall ', evaluator.evaluate(prediction, \n",
    "                                    {evaluator.metricName: 'weightedRecall'}))\n",
    "print('Accuracy ', evaluator.evaluate(prediction, \n",
    "                                      {evaluator.metricName: 'accuracy'}))"
   ]
  },
  {
   "cell_type": "markdown",
   "metadata": {},
   "source": [
    "# 6 Random Forest "
   ]
  },
  {
   "cell_type": "code",
   "execution_count": 71,
   "metadata": {},
   "outputs": [],
   "source": [
    "rf = RandomForestClassifier(featuresCol = 'features',labelCol = 'label',maxDepth=2,maxBins=2000)\n",
    "paramGrid = ParamGridBuilder().addGrid(rf.maxBins, \n",
    "                                       [2000]).addGrid(rf.maxDepth, [8]).addGrid(rf.impurity, [\"entropy\", \"gini\"]).build()\n"
   ]
  },
  {
   "cell_type": "code",
   "execution_count": 72,
   "metadata": {},
   "outputs": [],
   "source": [
    "rf_pipeline = Pipeline(stages=[Agency_indexer,\n",
    "                                Agency_Name_indexer,Complaint_Type_indexer,\n",
    "                                Descriptor_indexer,Location_Type_indexer,Incident_indexer,\n",
    "                                     Status_indexer,Community_Board_indexer,Borough_indexer,\n",
    "                                     Park_indexer,City_indexer,Timebin_indexer,Year_indexer,Month_indexer,\n",
    "                                     assembler,rf])"
   ]
  },
  {
   "cell_type": "code",
   "execution_count": 74,
   "metadata": {},
   "outputs": [],
   "source": [
    "rf_model = rf_pipeline.fit(train)"
   ]
  },
  {
   "cell_type": "code",
   "execution_count": 75,
   "metadata": {},
   "outputs": [],
   "source": [
    "rf_model.save(\"s3://jenova73/final/model/random_forest_model\")"
   ]
  },
  {
   "cell_type": "code",
   "execution_count": 77,
   "metadata": {},
   "outputs": [],
   "source": [
    "rf_prediction = rf_model.transform(test).cache()"
   ]
  },
  {
   "cell_type": "code",
   "execution_count": 79,
   "metadata": {},
   "outputs": [
    {
     "name": "stdout",
     "output_type": "stream",
     "text": [
      "F1-Score  0.6592298897008793\n",
      "Precision  0.6573170323369681\n",
      "Recall  0.7096768192425648\n",
      "Accuracy  0.7096768192425648\n"
     ]
    }
   ],
   "source": [
    "# check the result\n",
    "evaluator = MulticlassClassificationEvaluator() \n",
    "print('F1-Score ', evaluator.evaluate(rf_prediction, \n",
    "                                      {evaluator.metricName: 'f1'}))\n",
    "print('Precision ', evaluator.evaluate(rf_prediction,\n",
    "                                       {evaluator.metricName:                    'weightedPrecision'}))\n",
    "print('Recall ', evaluator.evaluate(rf_prediction, \n",
    "                                    {evaluator.metricName: 'weightedRecall'}))\n",
    "print('Accuracy ', evaluator.evaluate(rf_prediction, \n",
    "                                      {evaluator.metricName: 'accuracy'}))"
   ]
  },
  {
   "cell_type": "markdown",
   "metadata": {},
   "source": [
    "# 7 Confusion matrix"
   ]
  },
  {
   "cell_type": "code",
   "execution_count": 80,
   "metadata": {},
   "outputs": [],
   "source": [
    "import matplotlib.pyplot as plt\n",
    "import itertools\n",
    "from sklearn.metrics import confusion_matrix"
   ]
  },
  {
   "cell_type": "code",
   "execution_count": 81,
   "metadata": {},
   "outputs": [],
   "source": [
    "#build a confusion matrix\n",
    "def plot_confusion_matrix(cm, classes,\n",
    "                          normalize=False,\n",
    "                          title='Confusion matrix',\n",
    "                          cmap=plt.cm.Blues):\n",
    "    \"\"\"\n",
    "    This function prints and plots the confusion matrix.\n",
    "    Normalization can be applied by setting `normalize=True`.\n",
    "    \"\"\"\n",
    "    if normalize:\n",
    "        cm = cm.astype('float') / cm.sum(axis=1)[:, np.newaxis]\n",
    "        print(\"Normalized confusion matrix\")\n",
    "    else:\n",
    "        print('Confusion matrix, without normalization')\n",
    "\n",
    "    print(cm)\n",
    "\n",
    "    plt.imshow(cm, interpolation='nearest', cmap=cmap)\n",
    "    plt.title(title)\n",
    "    plt.colorbar()\n",
    "    tick_marks = np.arange(len(classes))\n",
    "    plt.xticks(tick_marks, classes, rotation=45)\n",
    "    plt.yticks(tick_marks, classes)\n",
    "\n",
    "    fmt = '.2f' if normalize else 'd'\n",
    "    thresh = cm.max() / 2.\n",
    "    for i, j in itertools.product(range(cm.shape[0]), range(cm.shape[1])):\n",
    "        plt.text(j, i, format(cm[i, j], fmt),\n",
    "                 horizontalalignment=\"center\",\n",
    "                 color=\"white\" if cm[i, j] > thresh else \"black\")\n",
    "\n",
    "    plt.tight_layout()\n",
    "    plt.ylabel('True label')\n",
    "    plt.xlabel('Predicted label')"
   ]
  },
  {
   "cell_type": "code",
   "execution_count": 82,
   "metadata": {},
   "outputs": [
    {
     "name": "stderr",
     "output_type": "stream",
     "text": [
      "/home/hadoop/miniconda/lib/python3.7/site-packages/pyarrow/util.py:39: FutureWarning: pyarrow.open_stream is deprecated as of 0.17.0, please use pyarrow.ipc.open_stream instead\n",
      "  warnings.warn(msg, FutureWarning)\n"
     ]
    }
   ],
   "source": [
    "ytrue = prediction.select('label')\n",
    "ytrue = ytrue.toPandas()\n",
    "\n",
    "ypred = prediction.select('prediction')\n",
    "ypred = ypred.toPandas()\n"
   ]
  },
  {
   "cell_type": "code",
   "execution_count": 83,
   "metadata": {},
   "outputs": [],
   "source": [
    "cnf_matrix = confusion_matrix(ytrue, ypred,labels=range(3))"
   ]
  },
  {
   "cell_type": "code",
   "execution_count": 84,
   "metadata": {},
   "outputs": [
    {
     "data": {
      "text/plain": [
       "array([[2133648,  515630,     121],\n",
       "       [ 855130, 1132504,     232],\n",
       "       [ 496703,  348839,      38]])"
      ]
     },
     "execution_count": 84,
     "metadata": {},
     "output_type": "execute_result"
    }
   ],
   "source": [
    "cnf_matrix"
   ]
  },
  {
   "cell_type": "code",
   "execution_count": 85,
   "metadata": {},
   "outputs": [
    {
     "name": "stdout",
     "output_type": "stream",
     "text": [
      "Normalized confusion matrix\n",
      "[[8.05332832e-01 1.94621497e-01 4.56707351e-05]\n",
      " [4.30174871e-01 5.69708421e-01 1.16708068e-04]\n",
      " [5.87411008e-01 4.12544053e-01 4.49395681e-05]]\n"
     ]
    },
    {
     "data": {
      "image/png": "[encoded data removed]",
      "text/plain": [
       "<Figure size 432x288 with 2 Axes>"
      ]
     },
     "metadata": {},
     "output_type": "display_data"
    }
   ],
   "source": [
    "# change the name of labels\n",
    "class_names = ['<= 2 days','2 <= days <= 6','more than a week',]\n",
    "plt.figure()\n",
    "plot_confusion_matrix(cnf_matrix, classes=class_names, normalize=True,\n",
    "                      title='Logistic confusion matrix')\n",
    "plt.show()"
   ]
  },
  {
   "cell_type": "code",
   "execution_count": 86,
   "metadata": {},
   "outputs": [],
   "source": [
    "ytrue = rf_prediction.select('label')\n",
    "ytrue = ytrue.toPandas()\n",
    "\n",
    "ypred = rf_prediction.select('prediction')\n",
    "ypred = ypred.toPandas()\n",
    "\n"
   ]
  },
  {
   "cell_type": "code",
   "execution_count": 87,
   "metadata": {},
   "outputs": [
    {
     "data": {
      "text/plain": [
       "array([[1955746,  693653,       0],\n",
       "       [  52564, 1935302,       0],\n",
       "       [  92504,  753076,       0]])"
      ]
     },
     "execution_count": 87,
     "metadata": {},
     "output_type": "execute_result"
    }
   ],
   "source": [
    "cnf_matrix = confusion_matrix(ytrue, ypred,)\n",
    "cnf_matrix"
   ]
  },
  {
   "cell_type": "code",
   "execution_count": 88,
   "metadata": {},
   "outputs": [
    {
     "name": "stdout",
     "output_type": "stream",
     "text": [
      "Normalized confusion matrix\n",
      "[[0.73818477 0.26181523 0.        ]\n",
      " [0.02644243 0.97355757 0.        ]\n",
      " [0.1093971  0.8906029  0.        ]]\n"
     ]
    },
    {
     "data": {
      "image/png": "[encoded data removed]",
      "text/plain": [
       "<Figure size 432x288 with 2 Axes>"
      ]
     },
     "metadata": {},
     "output_type": "display_data"
    }
   ],
   "source": [
    "plt.figure()\n",
    "plot_confusion_matrix(cnf_matrix, classes=class_names, normalize=True,\n",
    "                      title='Random Forest confusion matrix')\n",
    "plt.show()"
   ]
  },
  {
   "cell_type": "code",
   "execution_count": 89,
   "metadata": {},
   "outputs": [],
   "source": [
    "## over~ \n",
    "## ☆\\(￣▽￣)/☆"
   ]
  },
  {
   "cell_type": "code",
   "execution_count": null,
   "metadata": {},
   "outputs": [],
   "source": []
  },
  {
   "cell_type": "code",
   "execution_count": null,
   "metadata": {},
   "outputs": [],
   "source": []
  }
 ],
 "metadata": {
  "kernelspec": {
   "display_name": "Python 3",
   "language": "python",
   "name": "python3"
  },
  "language_info": {
   "codemirror_mode": {
    "name": "ipython",
    "version": 3
   },
   "file_extension": ".py",
   "mimetype": "text/x-python",
   "name": "python",
   "nbconvert_exporter": "python",
   "pygments_lexer": "ipython3",
   "version": "3.7.6"
  }
 },
 "nbformat": 4,
 "nbformat_minor": 4
}
